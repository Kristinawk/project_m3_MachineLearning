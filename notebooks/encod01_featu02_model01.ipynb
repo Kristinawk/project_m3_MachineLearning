{
 "cells": [
  {
   "cell_type": "markdown",
   "id": "bbb0cf00",
   "metadata": {},
   "source": [
    "### _Imports_"
   ]
  },
  {
   "cell_type": "code",
   "execution_count": 40,
   "id": "f3028a4a",
   "metadata": {},
   "outputs": [],
   "source": [
    "import pandas as pd\n",
    "import numpy as np\n",
    "\n",
    "from sklearn.model_selection import train_test_split\n",
    "\n",
    "from sklearn.linear_model  import ElasticNet\n",
    "from sklearn.linear_model import Ridge\n",
    "from sklearn.svm import SVR\n",
    "from sklearn.linear_model import SGDRegressor\n",
    "from sklearn.linear_model import LinearRegression\n",
    "from sklearn.ensemble import RandomForestRegressor\n",
    "from sklearn.tree import DecisionTreeRegressor\n",
    "from sklearn.ensemble import GradientBoostingRegressor\n",
    "from sklearn.ensemble import ExtraTreesRegressor\n",
    "from sklearn.ensemble import BaggingRegressor\n",
    "from sklearn.ensemble import StackingRegressor\n",
    "from sklearn.ensemble import AdaBoostRegressor\n",
    "\n",
    "from sklearn.model_selection import GridSearchCV\n",
    "\n",
    "from sklearn.metrics import root_mean_squared_error\n",
    "from sklearn.metrics import r2_score\n",
    "from sklearn.model_selection import cross_val_score\n",
    "\n",
    "import functions as fn # importing pre-defined functions from .py file (inside notebooks folder)"
   ]
  },
  {
   "cell_type": "markdown",
   "id": "61c6127e",
   "metadata": {},
   "source": [
    "### Upload diamonds train data from csv"
   ]
  },
  {
   "cell_type": "code",
   "execution_count": 41,
   "id": "8ca836cc",
   "metadata": {},
   "outputs": [],
   "source": [
    "diamonds_train = pd.read_csv('../data/diamonds_train.csv')\n",
    "#diamonds_train.head()"
   ]
  },
  {
   "cell_type": "markdown",
   "id": "d41ef47c",
   "metadata": {},
   "source": [
    "**Remark**: For the diamonds dataset, we have conducted an exploratory data analysis (EDA) in advance. Find references [here](https://github.com/Kristinawk/EDA_Diamonds).  \n",
    "  \n",
    "This dataset doesn't have nulls, therefore we can proceed directly with encoding."
   ]
  },
  {
   "cell_type": "markdown",
   "id": "5a6e4eaf",
   "metadata": {},
   "source": [
    "## 1. Features selection and engineering"
   ]
  },
  {
   "cell_type": "markdown",
   "id": "86ed1902",
   "metadata": {},
   "source": [
    "During EDA we saw that some diamonds have ceros in size parameters x, y and z. It would be better to take these rows out for machine learning."
   ]
  },
  {
   "cell_type": "code",
   "execution_count": 42,
   "id": "dd01b4ba",
   "metadata": {},
   "outputs": [
    {
     "data": {
      "text/html": [
       "<div>\n",
       "<style scoped>\n",
       "    .dataframe tbody tr th:only-of-type {\n",
       "        vertical-align: middle;\n",
       "    }\n",
       "\n",
       "    .dataframe tbody tr th {\n",
       "        vertical-align: top;\n",
       "    }\n",
       "\n",
       "    .dataframe thead th {\n",
       "        text-align: right;\n",
       "    }\n",
       "</style>\n",
       "<table border=\"1\" class=\"dataframe\">\n",
       "  <thead>\n",
       "    <tr style=\"text-align: right;\">\n",
       "      <th></th>\n",
       "      <th>price</th>\n",
       "      <th>carat</th>\n",
       "      <th>depth</th>\n",
       "      <th>table</th>\n",
       "      <th>x</th>\n",
       "      <th>y</th>\n",
       "      <th>z</th>\n",
       "    </tr>\n",
       "  </thead>\n",
       "  <tbody>\n",
       "    <tr>\n",
       "      <th>count</th>\n",
       "      <td>40455.000000</td>\n",
       "      <td>40455.000000</td>\n",
       "      <td>40455.000000</td>\n",
       "      <td>40455.000000</td>\n",
       "      <td>40455.000000</td>\n",
       "      <td>40455.000000</td>\n",
       "      <td>40455.000000</td>\n",
       "    </tr>\n",
       "    <tr>\n",
       "      <th>mean</th>\n",
       "      <td>3928.444469</td>\n",
       "      <td>0.797706</td>\n",
       "      <td>61.752841</td>\n",
       "      <td>57.446133</td>\n",
       "      <td>5.729392</td>\n",
       "      <td>5.732819</td>\n",
       "      <td>3.537154</td>\n",
       "    </tr>\n",
       "    <tr>\n",
       "      <th>std</th>\n",
       "      <td>3992.416147</td>\n",
       "      <td>0.475544</td>\n",
       "      <td>1.431725</td>\n",
       "      <td>2.233535</td>\n",
       "      <td>1.124453</td>\n",
       "      <td>1.146650</td>\n",
       "      <td>0.697062</td>\n",
       "    </tr>\n",
       "    <tr>\n",
       "      <th>min</th>\n",
       "      <td>326.000000</td>\n",
       "      <td>0.200000</td>\n",
       "      <td>43.000000</td>\n",
       "      <td>43.000000</td>\n",
       "      <td>0.000000</td>\n",
       "      <td>0.000000</td>\n",
       "      <td>0.000000</td>\n",
       "    </tr>\n",
       "    <tr>\n",
       "      <th>25%</th>\n",
       "      <td>945.000000</td>\n",
       "      <td>0.400000</td>\n",
       "      <td>61.000000</td>\n",
       "      <td>56.000000</td>\n",
       "      <td>4.710000</td>\n",
       "      <td>4.720000</td>\n",
       "      <td>2.910000</td>\n",
       "    </tr>\n",
       "    <tr>\n",
       "      <th>50%</th>\n",
       "      <td>2397.000000</td>\n",
       "      <td>0.700000</td>\n",
       "      <td>61.800000</td>\n",
       "      <td>57.000000</td>\n",
       "      <td>5.690000</td>\n",
       "      <td>5.710000</td>\n",
       "      <td>3.520000</td>\n",
       "    </tr>\n",
       "    <tr>\n",
       "      <th>75%</th>\n",
       "      <td>5331.000000</td>\n",
       "      <td>1.040000</td>\n",
       "      <td>62.500000</td>\n",
       "      <td>59.000000</td>\n",
       "      <td>6.540000</td>\n",
       "      <td>6.540000</td>\n",
       "      <td>4.035000</td>\n",
       "    </tr>\n",
       "    <tr>\n",
       "      <th>max</th>\n",
       "      <td>18823.000000</td>\n",
       "      <td>4.500000</td>\n",
       "      <td>79.000000</td>\n",
       "      <td>95.000000</td>\n",
       "      <td>10.230000</td>\n",
       "      <td>58.900000</td>\n",
       "      <td>8.060000</td>\n",
       "    </tr>\n",
       "  </tbody>\n",
       "</table>\n",
       "</div>"
      ],
      "text/plain": [
       "              price         carat         depth         table             x  \\\n",
       "count  40455.000000  40455.000000  40455.000000  40455.000000  40455.000000   \n",
       "mean    3928.444469      0.797706     61.752841     57.446133      5.729392   \n",
       "std     3992.416147      0.475544      1.431725      2.233535      1.124453   \n",
       "min      326.000000      0.200000     43.000000     43.000000      0.000000   \n",
       "25%      945.000000      0.400000     61.000000     56.000000      4.710000   \n",
       "50%     2397.000000      0.700000     61.800000     57.000000      5.690000   \n",
       "75%     5331.000000      1.040000     62.500000     59.000000      6.540000   \n",
       "max    18823.000000      4.500000     79.000000     95.000000     10.230000   \n",
       "\n",
       "                  y             z  \n",
       "count  40455.000000  40455.000000  \n",
       "mean       5.732819      3.537154  \n",
       "std        1.146650      0.697062  \n",
       "min        0.000000      0.000000  \n",
       "25%        4.720000      2.910000  \n",
       "50%        5.710000      3.520000  \n",
       "75%        6.540000      4.035000  \n",
       "max       58.900000      8.060000  "
      ]
     },
     "execution_count": 42,
     "metadata": {},
     "output_type": "execute_result"
    }
   ],
   "source": [
    "diamonds_train.describe()"
   ]
  },
  {
   "cell_type": "code",
   "execution_count": 43,
   "id": "e529da9e",
   "metadata": {},
   "outputs": [
    {
     "data": {
      "text/plain": [
       "16"
      ]
     },
     "execution_count": 43,
     "metadata": {},
     "output_type": "execute_result"
    }
   ],
   "source": [
    "len(diamonds_train.query('x == 0 or y == 0 or z == 0'))"
   ]
  },
  {
   "cell_type": "markdown",
   "id": "85b7c00d",
   "metadata": {},
   "source": [
    "In total, there are 16 rows with this issue. Lets drop these values."
   ]
  },
  {
   "cell_type": "code",
   "execution_count": 44,
   "id": "17fc665d",
   "metadata": {},
   "outputs": [],
   "source": [
    "diamonds_train.drop(diamonds_train.query('x == 0 or y == 0 or z == 0').index, inplace=True)"
   ]
  },
  {
   "cell_type": "code",
   "execution_count": 45,
   "id": "aa4b16d9",
   "metadata": {},
   "outputs": [
    {
     "data": {
      "text/html": [
       "<div>\n",
       "<style scoped>\n",
       "    .dataframe tbody tr th:only-of-type {\n",
       "        vertical-align: middle;\n",
       "    }\n",
       "\n",
       "    .dataframe tbody tr th {\n",
       "        vertical-align: top;\n",
       "    }\n",
       "\n",
       "    .dataframe thead th {\n",
       "        text-align: right;\n",
       "    }\n",
       "</style>\n",
       "<table border=\"1\" class=\"dataframe\">\n",
       "  <thead>\n",
       "    <tr style=\"text-align: right;\">\n",
       "      <th></th>\n",
       "      <th>price</th>\n",
       "      <th>carat</th>\n",
       "      <th>depth</th>\n",
       "      <th>table</th>\n",
       "      <th>x</th>\n",
       "      <th>y</th>\n",
       "      <th>z</th>\n",
       "    </tr>\n",
       "  </thead>\n",
       "  <tbody>\n",
       "    <tr>\n",
       "      <th>count</th>\n",
       "      <td>40439.000000</td>\n",
       "      <td>40439.000000</td>\n",
       "      <td>40439.000000</td>\n",
       "      <td>40439.000000</td>\n",
       "      <td>40439.000000</td>\n",
       "      <td>40439.000000</td>\n",
       "      <td>40439.000000</td>\n",
       "    </tr>\n",
       "    <tr>\n",
       "      <th>mean</th>\n",
       "      <td>3926.535448</td>\n",
       "      <td>0.797425</td>\n",
       "      <td>61.753013</td>\n",
       "      <td>57.445543</td>\n",
       "      <td>5.729616</td>\n",
       "      <td>5.732897</td>\n",
       "      <td>3.538553</td>\n",
       "    </tr>\n",
       "    <tr>\n",
       "      <th>std</th>\n",
       "      <td>3990.024501</td>\n",
       "      <td>0.475257</td>\n",
       "      <td>1.431306</td>\n",
       "      <td>2.233055</td>\n",
       "      <td>1.122384</td>\n",
       "      <td>1.145002</td>\n",
       "      <td>0.693639</td>\n",
       "    </tr>\n",
       "    <tr>\n",
       "      <th>min</th>\n",
       "      <td>326.000000</td>\n",
       "      <td>0.200000</td>\n",
       "      <td>43.000000</td>\n",
       "      <td>43.000000</td>\n",
       "      <td>3.770000</td>\n",
       "      <td>3.720000</td>\n",
       "      <td>1.070000</td>\n",
       "    </tr>\n",
       "    <tr>\n",
       "      <th>25%</th>\n",
       "      <td>945.000000</td>\n",
       "      <td>0.400000</td>\n",
       "      <td>61.000000</td>\n",
       "      <td>56.000000</td>\n",
       "      <td>4.710000</td>\n",
       "      <td>4.720000</td>\n",
       "      <td>2.910000</td>\n",
       "    </tr>\n",
       "    <tr>\n",
       "      <th>50%</th>\n",
       "      <td>2396.000000</td>\n",
       "      <td>0.700000</td>\n",
       "      <td>61.800000</td>\n",
       "      <td>57.000000</td>\n",
       "      <td>5.690000</td>\n",
       "      <td>5.710000</td>\n",
       "      <td>3.520000</td>\n",
       "    </tr>\n",
       "    <tr>\n",
       "      <th>75%</th>\n",
       "      <td>5329.500000</td>\n",
       "      <td>1.040000</td>\n",
       "      <td>62.500000</td>\n",
       "      <td>59.000000</td>\n",
       "      <td>6.540000</td>\n",
       "      <td>6.540000</td>\n",
       "      <td>4.040000</td>\n",
       "    </tr>\n",
       "    <tr>\n",
       "      <th>max</th>\n",
       "      <td>18823.000000</td>\n",
       "      <td>4.500000</td>\n",
       "      <td>79.000000</td>\n",
       "      <td>95.000000</td>\n",
       "      <td>10.230000</td>\n",
       "      <td>58.900000</td>\n",
       "      <td>8.060000</td>\n",
       "    </tr>\n",
       "  </tbody>\n",
       "</table>\n",
       "</div>"
      ],
      "text/plain": [
       "              price         carat         depth         table             x  \\\n",
       "count  40439.000000  40439.000000  40439.000000  40439.000000  40439.000000   \n",
       "mean    3926.535448      0.797425     61.753013     57.445543      5.729616   \n",
       "std     3990.024501      0.475257      1.431306      2.233055      1.122384   \n",
       "min      326.000000      0.200000     43.000000     43.000000      3.770000   \n",
       "25%      945.000000      0.400000     61.000000     56.000000      4.710000   \n",
       "50%     2396.000000      0.700000     61.800000     57.000000      5.690000   \n",
       "75%     5329.500000      1.040000     62.500000     59.000000      6.540000   \n",
       "max    18823.000000      4.500000     79.000000     95.000000     10.230000   \n",
       "\n",
       "                  y             z  \n",
       "count  40439.000000  40439.000000  \n",
       "mean       5.732897      3.538553  \n",
       "std        1.145002      0.693639  \n",
       "min        3.720000      1.070000  \n",
       "25%        4.720000      2.910000  \n",
       "50%        5.710000      3.520000  \n",
       "75%        6.540000      4.040000  \n",
       "max       58.900000      8.060000  "
      ]
     },
     "execution_count": 45,
     "metadata": {},
     "output_type": "execute_result"
    }
   ],
   "source": [
    "diamonds_train.describe()"
   ]
  },
  {
   "cell_type": "markdown",
   "id": "96f3e72f",
   "metadata": {},
   "source": [
    "### Outliers"
   ]
  },
  {
   "cell_type": "markdown",
   "id": "5115a19e",
   "metadata": {},
   "source": [
    "Additionally we can do outliers analysis for these variables."
   ]
  },
  {
   "cell_type": "code",
   "execution_count": 46,
   "id": "9763ca19",
   "metadata": {},
   "outputs": [
    {
     "name": "stdout",
     "output_type": "stream",
     "text": [
      "x Upper bound: 9.285 Lower bound: 1.9649999999999999\n",
      "x Upper outliers 18 Lower outliers 0 \n",
      "\n",
      "y Upper bound: 9.27 Lower bound: 1.9899999999999993\n",
      "y Upper outliers 18 Lower outliers 0 \n",
      "\n",
      "z Upper bound: 5.734999999999999 Lower bound: 1.2150000000000003\n",
      "z Upper outliers 19 Lower outliers 1 \n",
      "\n"
     ]
    }
   ],
   "source": [
    "for col in ['x', 'y', 'z']:\n",
    "    q1 = diamonds_train[col].quantile(0.25)\n",
    "    q3 = diamonds_train[col].quantile(0.75)\n",
    "    iqr = q3 - q1\n",
    "    upper = q3 + 1.5 * iqr\n",
    "    upper_array = np.array(diamonds_train[col] >= upper)\n",
    "    lower = q1 - 1.5 * iqr\n",
    "    lower_array = np.array(diamonds_train[col] <= lower)\n",
    "    print(col, \"Upper bound:\", upper, \"Lower bound:\", lower)\n",
    "    print(col, \"Upper outliers\", upper_array.sum(), \"Lower outliers\", lower_array.sum(), '\\n')"
   ]
  },
  {
   "cell_type": "code",
   "execution_count": 47,
   "id": "8f83427f",
   "metadata": {},
   "outputs": [
    {
     "data": {
      "text/plain": [
       "27"
      ]
     },
     "execution_count": 47,
     "metadata": {},
     "output_type": "execute_result"
    }
   ],
   "source": [
    "len(diamonds_train.query('x > 9.28 or y > 9.27 or z > 5.73'))"
   ]
  },
  {
   "cell_type": "markdown",
   "id": "a817e590",
   "metadata": {},
   "source": [
    "Lets take out also these 27 rows."
   ]
  },
  {
   "cell_type": "code",
   "execution_count": 48,
   "id": "c398ed48",
   "metadata": {},
   "outputs": [],
   "source": [
    "diamonds_train.drop(diamonds_train.query('x > 9.28 or y > 9.27 or z > 5.73').index, inplace=True)"
   ]
  },
  {
   "cell_type": "code",
   "execution_count": 49,
   "id": "8687160a",
   "metadata": {},
   "outputs": [
    {
     "data": {
      "text/html": [
       "<div>\n",
       "<style scoped>\n",
       "    .dataframe tbody tr th:only-of-type {\n",
       "        vertical-align: middle;\n",
       "    }\n",
       "\n",
       "    .dataframe tbody tr th {\n",
       "        vertical-align: top;\n",
       "    }\n",
       "\n",
       "    .dataframe thead th {\n",
       "        text-align: right;\n",
       "    }\n",
       "</style>\n",
       "<table border=\"1\" class=\"dataframe\">\n",
       "  <thead>\n",
       "    <tr style=\"text-align: right;\">\n",
       "      <th></th>\n",
       "      <th>price</th>\n",
       "      <th>carat</th>\n",
       "      <th>depth</th>\n",
       "      <th>table</th>\n",
       "      <th>x</th>\n",
       "      <th>y</th>\n",
       "      <th>z</th>\n",
       "    </tr>\n",
       "  </thead>\n",
       "  <tbody>\n",
       "    <tr>\n",
       "      <th>count</th>\n",
       "      <td>40412.000000</td>\n",
       "      <td>40412.000000</td>\n",
       "      <td>40412.000000</td>\n",
       "      <td>40412.000000</td>\n",
       "      <td>40412.000000</td>\n",
       "      <td>40412.000000</td>\n",
       "      <td>40412.000000</td>\n",
       "    </tr>\n",
       "    <tr>\n",
       "      <th>mean</th>\n",
       "      <td>3919.081312</td>\n",
       "      <td>0.795810</td>\n",
       "      <td>61.752643</td>\n",
       "      <td>57.444776</td>\n",
       "      <td>5.727184</td>\n",
       "      <td>5.729259</td>\n",
       "      <td>3.536927</td>\n",
       "    </tr>\n",
       "    <tr>\n",
       "      <th>std</th>\n",
       "      <td>3979.978307</td>\n",
       "      <td>0.471078</td>\n",
       "      <td>1.429715</td>\n",
       "      <td>2.232493</td>\n",
       "      <td>1.118725</td>\n",
       "      <td>1.110596</td>\n",
       "      <td>0.690877</td>\n",
       "    </tr>\n",
       "    <tr>\n",
       "      <th>min</th>\n",
       "      <td>326.000000</td>\n",
       "      <td>0.200000</td>\n",
       "      <td>43.000000</td>\n",
       "      <td>43.000000</td>\n",
       "      <td>3.770000</td>\n",
       "      <td>3.720000</td>\n",
       "      <td>1.070000</td>\n",
       "    </tr>\n",
       "    <tr>\n",
       "      <th>25%</th>\n",
       "      <td>945.000000</td>\n",
       "      <td>0.400000</td>\n",
       "      <td>61.000000</td>\n",
       "      <td>56.000000</td>\n",
       "      <td>4.710000</td>\n",
       "      <td>4.720000</td>\n",
       "      <td>2.910000</td>\n",
       "    </tr>\n",
       "    <tr>\n",
       "      <th>50%</th>\n",
       "      <td>2394.000000</td>\n",
       "      <td>0.700000</td>\n",
       "      <td>61.800000</td>\n",
       "      <td>57.000000</td>\n",
       "      <td>5.690000</td>\n",
       "      <td>5.700000</td>\n",
       "      <td>3.520000</td>\n",
       "    </tr>\n",
       "    <tr>\n",
       "      <th>75%</th>\n",
       "      <td>5321.000000</td>\n",
       "      <td>1.040000</td>\n",
       "      <td>62.500000</td>\n",
       "      <td>59.000000</td>\n",
       "      <td>6.540000</td>\n",
       "      <td>6.540000</td>\n",
       "      <td>4.030000</td>\n",
       "    </tr>\n",
       "    <tr>\n",
       "      <th>max</th>\n",
       "      <td>18823.000000</td>\n",
       "      <td>3.050000</td>\n",
       "      <td>79.000000</td>\n",
       "      <td>95.000000</td>\n",
       "      <td>9.260000</td>\n",
       "      <td>9.250000</td>\n",
       "      <td>5.730000</td>\n",
       "    </tr>\n",
       "  </tbody>\n",
       "</table>\n",
       "</div>"
      ],
      "text/plain": [
       "              price         carat         depth         table             x  \\\n",
       "count  40412.000000  40412.000000  40412.000000  40412.000000  40412.000000   \n",
       "mean    3919.081312      0.795810     61.752643     57.444776      5.727184   \n",
       "std     3979.978307      0.471078      1.429715      2.232493      1.118725   \n",
       "min      326.000000      0.200000     43.000000     43.000000      3.770000   \n",
       "25%      945.000000      0.400000     61.000000     56.000000      4.710000   \n",
       "50%     2394.000000      0.700000     61.800000     57.000000      5.690000   \n",
       "75%     5321.000000      1.040000     62.500000     59.000000      6.540000   \n",
       "max    18823.000000      3.050000     79.000000     95.000000      9.260000   \n",
       "\n",
       "                  y             z  \n",
       "count  40412.000000  40412.000000  \n",
       "mean       5.729259      3.536927  \n",
       "std        1.110596      0.690877  \n",
       "min        3.720000      1.070000  \n",
       "25%        4.720000      2.910000  \n",
       "50%        5.700000      3.520000  \n",
       "75%        6.540000      4.030000  \n",
       "max        9.250000      5.730000  "
      ]
     },
     "execution_count": 49,
     "metadata": {},
     "output_type": "execute_result"
    }
   ],
   "source": [
    "diamonds_train.describe()"
   ]
  },
  {
   "cell_type": "markdown",
   "id": "951caf11",
   "metadata": {},
   "source": [
    "In our training dataset there are also outliers in price. Lets see if our model improves when we remove them."
   ]
  },
  {
   "cell_type": "code",
   "execution_count": 50,
   "id": "0b3c6226",
   "metadata": {},
   "outputs": [
    {
     "name": "stdout",
     "output_type": "stream",
     "text": [
      "price Upper bound: 11885.0 Lower bound: -5619.0\n",
      "price Upper outliers 2625 Lower outliers 0 \n",
      "\n"
     ]
    }
   ],
   "source": [
    "for col in ['price']:\n",
    "    q1 = diamonds_train[col].quantile(0.25)\n",
    "    q3 = diamonds_train[col].quantile(0.75)\n",
    "    iqr = q3 - q1\n",
    "    upper = q3 + 1.5 * iqr\n",
    "    upper_array = np.array(diamonds_train[col] >= upper)\n",
    "    lower = q1 - 1.5 * iqr\n",
    "    lower_array = np.array(diamonds_train[col] <= lower)\n",
    "    print(col, \"Upper bound:\", upper, \"Lower bound:\", lower)\n",
    "    print(col, \"Upper outliers\", upper_array.sum(), \"Lower outliers\", lower_array.sum(), '\\n')"
   ]
  },
  {
   "cell_type": "code",
   "execution_count": 15,
   "id": "20ef1bf1",
   "metadata": {},
   "outputs": [
    {
     "data": {
      "text/plain": [
       "np.float64(6.495595367712561)"
      ]
     },
     "execution_count": 15,
     "metadata": {},
     "output_type": "execute_result"
    }
   ],
   "source": [
    "(upper_array.sum()/len(diamonds_train)) *100"
   ]
  },
  {
   "cell_type": "code",
   "execution_count": 16,
   "id": "647f63f0",
   "metadata": {},
   "outputs": [],
   "source": [
    "diamonds_train.drop(diamonds_train.query('price > 11885').index, inplace=True)"
   ]
  },
  {
   "cell_type": "code",
   "execution_count": 17,
   "id": "c49b7f4a",
   "metadata": {},
   "outputs": [
    {
     "data": {
      "text/html": [
       "<div>\n",
       "<style scoped>\n",
       "    .dataframe tbody tr th:only-of-type {\n",
       "        vertical-align: middle;\n",
       "    }\n",
       "\n",
       "    .dataframe tbody tr th {\n",
       "        vertical-align: top;\n",
       "    }\n",
       "\n",
       "    .dataframe thead th {\n",
       "        text-align: right;\n",
       "    }\n",
       "</style>\n",
       "<table border=\"1\" class=\"dataframe\">\n",
       "  <thead>\n",
       "    <tr style=\"text-align: right;\">\n",
       "      <th></th>\n",
       "      <th>price</th>\n",
       "      <th>carat</th>\n",
       "      <th>depth</th>\n",
       "      <th>table</th>\n",
       "      <th>x</th>\n",
       "      <th>y</th>\n",
       "      <th>z</th>\n",
       "    </tr>\n",
       "  </thead>\n",
       "  <tbody>\n",
       "    <tr>\n",
       "      <th>count</th>\n",
       "      <td>37787.000000</td>\n",
       "      <td>37787.000000</td>\n",
       "      <td>37787.000000</td>\n",
       "      <td>37787.000000</td>\n",
       "      <td>37787.000000</td>\n",
       "      <td>37787.000000</td>\n",
       "      <td>37787.000000</td>\n",
       "    </tr>\n",
       "    <tr>\n",
       "      <th>mean</th>\n",
       "      <td>3153.596687</td>\n",
       "      <td>0.722653</td>\n",
       "      <td>61.760399</td>\n",
       "      <td>57.408908</td>\n",
       "      <td>5.580196</td>\n",
       "      <td>5.583112</td>\n",
       "      <td>3.447043</td>\n",
       "    </tr>\n",
       "    <tr>\n",
       "      <th>std</th>\n",
       "      <td>2765.847607</td>\n",
       "      <td>0.383713</td>\n",
       "      <td>1.428697</td>\n",
       "      <td>2.226124</td>\n",
       "      <td>0.994399</td>\n",
       "      <td>0.986914</td>\n",
       "      <td>0.616175</td>\n",
       "    </tr>\n",
       "    <tr>\n",
       "      <th>min</th>\n",
       "      <td>326.000000</td>\n",
       "      <td>0.200000</td>\n",
       "      <td>43.000000</td>\n",
       "      <td>43.000000</td>\n",
       "      <td>3.770000</td>\n",
       "      <td>3.720000</td>\n",
       "      <td>1.070000</td>\n",
       "    </tr>\n",
       "    <tr>\n",
       "      <th>25%</th>\n",
       "      <td>906.000000</td>\n",
       "      <td>0.380000</td>\n",
       "      <td>61.100000</td>\n",
       "      <td>56.000000</td>\n",
       "      <td>4.660000</td>\n",
       "      <td>4.680000</td>\n",
       "      <td>2.870000</td>\n",
       "    </tr>\n",
       "    <tr>\n",
       "      <th>50%</th>\n",
       "      <td>2141.000000</td>\n",
       "      <td>0.670000</td>\n",
       "      <td>61.800000</td>\n",
       "      <td>57.000000</td>\n",
       "      <td>5.570000</td>\n",
       "      <td>5.560000</td>\n",
       "      <td>3.420000</td>\n",
       "    </tr>\n",
       "    <tr>\n",
       "      <th>75%</th>\n",
       "      <td>4664.500000</td>\n",
       "      <td>1.010000</td>\n",
       "      <td>62.500000</td>\n",
       "      <td>59.000000</td>\n",
       "      <td>6.420000</td>\n",
       "      <td>6.420000</td>\n",
       "      <td>3.980000</td>\n",
       "    </tr>\n",
       "    <tr>\n",
       "      <th>max</th>\n",
       "      <td>11883.000000</td>\n",
       "      <td>3.050000</td>\n",
       "      <td>79.000000</td>\n",
       "      <td>79.000000</td>\n",
       "      <td>9.260000</td>\n",
       "      <td>9.250000</td>\n",
       "      <td>5.730000</td>\n",
       "    </tr>\n",
       "  </tbody>\n",
       "</table>\n",
       "</div>"
      ],
      "text/plain": [
       "              price         carat         depth         table             x  \\\n",
       "count  37787.000000  37787.000000  37787.000000  37787.000000  37787.000000   \n",
       "mean    3153.596687      0.722653     61.760399     57.408908      5.580196   \n",
       "std     2765.847607      0.383713      1.428697      2.226124      0.994399   \n",
       "min      326.000000      0.200000     43.000000     43.000000      3.770000   \n",
       "25%      906.000000      0.380000     61.100000     56.000000      4.660000   \n",
       "50%     2141.000000      0.670000     61.800000     57.000000      5.570000   \n",
       "75%     4664.500000      1.010000     62.500000     59.000000      6.420000   \n",
       "max    11883.000000      3.050000     79.000000     79.000000      9.260000   \n",
       "\n",
       "                  y             z  \n",
       "count  37787.000000  37787.000000  \n",
       "mean       5.583112      3.447043  \n",
       "std        0.986914      0.616175  \n",
       "min        3.720000      1.070000  \n",
       "25%        4.680000      2.870000  \n",
       "50%        5.560000      3.420000  \n",
       "75%        6.420000      3.980000  \n",
       "max        9.250000      5.730000  "
      ]
     },
     "execution_count": 17,
     "metadata": {},
     "output_type": "execute_result"
    }
   ],
   "source": [
    "diamonds_train.describe()"
   ]
  },
  {
   "cell_type": "markdown",
   "id": "83ab5a55",
   "metadata": {},
   "source": [
    "## 2. Encoding"
   ]
  },
  {
   "cell_type": "markdown",
   "id": "5957714c",
   "metadata": {},
   "source": [
    "### Categorical variables overview"
   ]
  },
  {
   "cell_type": "code",
   "execution_count": 18,
   "id": "04d1320b",
   "metadata": {},
   "outputs": [],
   "source": [
    "cat_var_lst = [\"city\", \"cut\", \"color\", \"clarity\"]\n",
    "#cat_var_overview = fn.cat_var(diamonds_train, cat_var_lst)\n",
    "#cat_var_overview"
   ]
  },
  {
   "cell_type": "markdown",
   "id": "48a3b6be",
   "metadata": {},
   "source": [
    "### One hot encoding"
   ]
  },
  {
   "cell_type": "code",
   "execution_count": 19,
   "id": "39bf8480",
   "metadata": {},
   "outputs": [],
   "source": [
    "baseline_train = fn.one_hot_encod(diamonds_train, cat_var_lst)"
   ]
  },
  {
   "cell_type": "code",
   "execution_count": 20,
   "id": "0317b460",
   "metadata": {},
   "outputs": [],
   "source": [
    "#baseline_train.head()"
   ]
  },
  {
   "cell_type": "markdown",
   "id": "225c2bcb",
   "metadata": {},
   "source": [
    "Checking that all features are numeric"
   ]
  },
  {
   "cell_type": "code",
   "execution_count": 21,
   "id": "cac258a9",
   "metadata": {
    "scrolled": true
   },
   "outputs": [],
   "source": [
    "#baseline_train.info()"
   ]
  },
  {
   "cell_type": "markdown",
   "id": "8c20bc15",
   "metadata": {},
   "source": [
    "### Save pre-processing to csv"
   ]
  },
  {
   "cell_type": "code",
   "execution_count": 22,
   "id": "a360ca17",
   "metadata": {},
   "outputs": [],
   "source": [
    "#baseline_train.to_csv('../data/baseline_train.csv', index=False)"
   ]
  },
  {
   "cell_type": "markdown",
   "id": "ea9bb7ef",
   "metadata": {},
   "source": [
    "## 3. Model selection"
   ]
  },
  {
   "cell_type": "code",
   "execution_count": 23,
   "id": "096f5848",
   "metadata": {},
   "outputs": [],
   "source": [
    "y = baseline_train['price'].astype('float64').to_numpy()\n",
    "X = baseline_train[[col for col in baseline_train.columns if col != 'price']].to_numpy()"
   ]
  },
  {
   "cell_type": "code",
   "execution_count": 24,
   "id": "1225564c",
   "metadata": {},
   "outputs": [],
   "source": [
    "X_train, X_test, y_train, y_test = train_test_split(X, y, test_size = 0.2, random_state = 42)\n",
    "#print(f\"X_train: {X_train.shape}, X_test: {X_test.shape}, y_train: {y_train.shape}, y_test: {y_test.shape}\")\n",
    "#print(f\"X_train: {type(X_train)}, X_test: {type(X_test)}, y_train: {type(y_train)}, y_test: {type(y_test)}\")"
   ]
  },
  {
   "cell_type": "markdown",
   "id": "767fe0ff",
   "metadata": {},
   "source": [
    "## 3. e) RandomForestRegressor"
   ]
  },
  {
   "cell_type": "code",
   "execution_count": 25,
   "id": "99f35ea6",
   "metadata": {},
   "outputs": [
    {
     "name": "stdout",
     "output_type": "stream",
     "text": [
      "Cross val. scores: [-426.10435039 -446.96298989 -431.47117546 -426.32850514 -424.746432  ] \n",
      "\n",
      "Mean of scores: 431.1226905754141 \n",
      "\n"
     ]
    }
   ],
   "source": [
    "model_randomforest = RandomForestRegressor()\n",
    "\n",
    "fn.cross_val(model_randomforest, X, y)"
   ]
  },
  {
   "cell_type": "markdown",
   "id": "7ff1a6e1",
   "metadata": {},
   "source": [
    "## 3. g) ExtraTreesRegressor"
   ]
  },
  {
   "cell_type": "code",
   "execution_count": 26,
   "id": "45088c38",
   "metadata": {},
   "outputs": [
    {
     "name": "stdout",
     "output_type": "stream",
     "text": [
      "Cross val. scores: [-399.24367957 -414.71861752 -398.27938977 -401.5481918  -393.73376442] \n",
      "\n",
      "Mean of scores: 401.50472861576304 \n",
      "\n"
     ]
    }
   ],
   "source": [
    "model_extratrees = ExtraTreesRegressor()\n",
    "\n",
    "fn.cross_val(model_extratrees, X, y)"
   ]
  },
  {
   "cell_type": "markdown",
   "id": "929f1b6a",
   "metadata": {},
   "source": [
    "**CONCLUSION**: eliminating upper outliers in price improves significantly the model."
   ]
  },
  {
   "cell_type": "markdown",
   "id": "5a5ec2c9",
   "metadata": {},
   "source": [
    "### Grid Search: RandomForestRegressor"
   ]
  },
  {
   "cell_type": "code",
   "execution_count": null,
   "id": "61e38197",
   "metadata": {},
   "outputs": [],
   "source": [
    "#param_grid = {'n_estimators': [100, 200, 300],  # Number of trees in the forest.\n",
    "              'max_depth': [None, 3, 10],  # Maximum depth of the trees.\n",
    "              'min_samples_split': [2, 10],  # Minimum number of samples required to split an internal node.\n",
    "              'min_samples_leaf': [1, 4],  # Minimum number of samples required to be at a leaf node.\n",
    "              'max_features': [None, 'sqrt', 'log2']  # Number of features to consider when looking for the best split.\n",
    "              }"
   ]
  },
  {
   "cell_type": "code",
   "execution_count": null,
   "id": "a07cdf2f",
   "metadata": {},
   "outputs": [],
   "source": [
    "#grid_search = GridSearchCV(model_randomforest,\n",
    "                           param_grid,\n",
    "                           cv=5,\n",
    "                           verbose=3,\n",
    "                           scoring='neg_root_mean_squared_error',\n",
    "                           n_jobs=-1)"
   ]
  },
  {
   "cell_type": "code",
   "execution_count": null,
   "id": "1b3af75d",
   "metadata": {},
   "outputs": [],
   "source": [
    "#grid_search.fit(X, y)\n",
    "\n",
    "#print('\\n')\n",
    "#print('Best hyperparameters: ', grid_search.best_params_, '\\n')\n",
    "#print('Best score: ', -grid_search.best_score_, '\\n')"
   ]
  },
  {
   "cell_type": "markdown",
   "id": "aa20cf27",
   "metadata": {},
   "source": [
    "### Grid Search: ExtraTreesRegressor"
   ]
  },
  {
   "cell_type": "code",
   "execution_count": null,
   "id": "e3738d27",
   "metadata": {},
   "outputs": [],
   "source": [
    "#param_grid = {'n_estimators': [100],  # Number of trees in the forest.\n",
    "              'max_depth': [None],  # Maximum depth of the trees.\n",
    "              'min_samples_split': [6],  # Minimum number of samples required to split an internal node.\n",
    "              'min_samples_leaf': [2],  # Minimum number of samples required to be at a leaf node.\n",
    "              'max_features': [None]  # Number of features to consider when looking for the best split.\n",
    "              }"
   ]
  },
  {
   "cell_type": "code",
   "execution_count": null,
   "id": "9e2f7eae",
   "metadata": {},
   "outputs": [],
   "source": [
    "#grid_search = GridSearchCV(model_extratrees,\n",
    "                           param_grid,\n",
    "                           cv=5,\n",
    "                           verbose=3,\n",
    "                           scoring='neg_root_mean_squared_error',\n",
    "                           n_jobs=-1)"
   ]
  },
  {
   "cell_type": "code",
   "execution_count": null,
   "id": "b9c02ea3",
   "metadata": {},
   "outputs": [],
   "source": [
    "#grid_search.fit(X, y)\n",
    "\n",
    "#print('\\n')\n",
    "#print('Best hyperparameters: ', grid_search.best_params_, '\\n')\n",
    "#print('Best score: ', -grid_search.best_score_, '\\n')"
   ]
  },
  {
   "cell_type": "markdown",
   "id": "f0903a09",
   "metadata": {},
   "source": [
    "### Fit Model"
   ]
  },
  {
   "cell_type": "code",
   "execution_count": 27,
   "id": "76a8c562",
   "metadata": {},
   "outputs": [],
   "source": [
    "model_.fit(X_train, y_train)\n",
    "y_pred = model_extratrees.predict(X_test)"
   ]
  },
  {
   "cell_type": "markdown",
   "id": "e76da3e1",
   "metadata": {},
   "source": [
    "### Visual check"
   ]
  },
  {
   "cell_type": "code",
   "execution_count": 28,
   "id": "6bdcaaac",
   "metadata": {},
   "outputs": [
    {
     "data": {
      "text/html": [
       "<div>\n",
       "<style scoped>\n",
       "    .dataframe tbody tr th:only-of-type {\n",
       "        vertical-align: middle;\n",
       "    }\n",
       "\n",
       "    .dataframe tbody tr th {\n",
       "        vertical-align: top;\n",
       "    }\n",
       "\n",
       "    .dataframe thead th {\n",
       "        text-align: right;\n",
       "    }\n",
       "</style>\n",
       "<table border=\"1\" class=\"dataframe\">\n",
       "  <thead>\n",
       "    <tr style=\"text-align: right;\">\n",
       "      <th></th>\n",
       "      <th>Ground truth</th>\n",
       "      <th>Predictions</th>\n",
       "      <th>Diff</th>\n",
       "    </tr>\n",
       "  </thead>\n",
       "  <tbody>\n",
       "    <tr>\n",
       "      <th>0</th>\n",
       "      <td>1098.0</td>\n",
       "      <td>1177.77</td>\n",
       "      <td>-79.77</td>\n",
       "    </tr>\n",
       "    <tr>\n",
       "      <th>1</th>\n",
       "      <td>4646.0</td>\n",
       "      <td>4453.79</td>\n",
       "      <td>192.21</td>\n",
       "    </tr>\n",
       "    <tr>\n",
       "      <th>2</th>\n",
       "      <td>6239.0</td>\n",
       "      <td>6384.12</td>\n",
       "      <td>-145.12</td>\n",
       "    </tr>\n",
       "    <tr>\n",
       "      <th>3</th>\n",
       "      <td>1838.0</td>\n",
       "      <td>1885.89</td>\n",
       "      <td>-47.89</td>\n",
       "    </tr>\n",
       "    <tr>\n",
       "      <th>4</th>\n",
       "      <td>1271.0</td>\n",
       "      <td>1370.90</td>\n",
       "      <td>-99.90</td>\n",
       "    </tr>\n",
       "    <tr>\n",
       "      <th>...</th>\n",
       "      <td>...</td>\n",
       "      <td>...</td>\n",
       "      <td>...</td>\n",
       "    </tr>\n",
       "    <tr>\n",
       "      <th>7553</th>\n",
       "      <td>6324.0</td>\n",
       "      <td>5863.01</td>\n",
       "      <td>460.99</td>\n",
       "    </tr>\n",
       "    <tr>\n",
       "      <th>7554</th>\n",
       "      <td>6108.0</td>\n",
       "      <td>6811.14</td>\n",
       "      <td>-703.14</td>\n",
       "    </tr>\n",
       "    <tr>\n",
       "      <th>7555</th>\n",
       "      <td>4978.0</td>\n",
       "      <td>5242.52</td>\n",
       "      <td>-264.52</td>\n",
       "    </tr>\n",
       "    <tr>\n",
       "      <th>7556</th>\n",
       "      <td>537.0</td>\n",
       "      <td>521.77</td>\n",
       "      <td>15.23</td>\n",
       "    </tr>\n",
       "    <tr>\n",
       "      <th>7557</th>\n",
       "      <td>3285.0</td>\n",
       "      <td>3896.88</td>\n",
       "      <td>-611.88</td>\n",
       "    </tr>\n",
       "  </tbody>\n",
       "</table>\n",
       "<p>7558 rows × 3 columns</p>\n",
       "</div>"
      ],
      "text/plain": [
       "      Ground truth  Predictions    Diff\n",
       "0           1098.0      1177.77  -79.77\n",
       "1           4646.0      4453.79  192.21\n",
       "2           6239.0      6384.12 -145.12\n",
       "3           1838.0      1885.89  -47.89\n",
       "4           1271.0      1370.90  -99.90\n",
       "...            ...          ...     ...\n",
       "7553        6324.0      5863.01  460.99\n",
       "7554        6108.0      6811.14 -703.14\n",
       "7555        4978.0      5242.52 -264.52\n",
       "7556         537.0       521.77   15.23\n",
       "7557        3285.0      3896.88 -611.88\n",
       "\n",
       "[7558 rows x 3 columns]"
      ]
     },
     "execution_count": 28,
     "metadata": {},
     "output_type": "execute_result"
    }
   ],
   "source": [
    "check = pd.DataFrame({'Ground truth': y_test, 'Predictions': y_pred, 'Diff': y_test - y_pred})\n",
    "check"
   ]
  },
  {
   "cell_type": "code",
   "execution_count": 29,
   "id": "33704380",
   "metadata": {},
   "outputs": [],
   "source": [
    "check.reset_index(inplace=True)"
   ]
  },
  {
   "cell_type": "code",
   "execution_count": 30,
   "id": "b88c9571",
   "metadata": {},
   "outputs": [
    {
     "data": {
      "image/png": "[encoded data removed]",
      "text/plain": [
       "<Figure size 1200x300 with 1 Axes>"
      ]
     },
     "metadata": {},
     "output_type": "display_data"
    }
   ],
   "source": [
    "check.plot(x='index', y=['Ground truth', 'Predictions'], kind='line', figsize=(12, 3));"
   ]
  },
  {
   "cell_type": "markdown",
   "id": "e95a0d01",
   "metadata": {},
   "source": [
    "# 4. Predictions"
   ]
  },
  {
   "cell_type": "markdown",
   "id": "d5b3cffc",
   "metadata": {},
   "source": [
    "### Upload diamonds test data from csv"
   ]
  },
  {
   "cell_type": "code",
   "execution_count": 31,
   "id": "b0933b91",
   "metadata": {},
   "outputs": [],
   "source": [
    "diamonds_test = pd.read_csv('../data/diamonds_test.csv')\n",
    "#diamonds_test.head()"
   ]
  },
  {
   "cell_type": "markdown",
   "id": "cd4beed2",
   "metadata": {},
   "source": [
    "### One-hot-encoding"
   ]
  },
  {
   "cell_type": "code",
   "execution_count": 32,
   "id": "3381dea2",
   "metadata": {},
   "outputs": [],
   "source": [
    "baseline_test = fn.one_hot_encod(diamonds_test, cat_var_lst)"
   ]
  },
  {
   "cell_type": "code",
   "execution_count": 33,
   "id": "eff64cac",
   "metadata": {},
   "outputs": [],
   "source": [
    "baseline_test = baseline_test.drop('id', axis=1)"
   ]
  },
  {
   "cell_type": "code",
   "execution_count": 39,
   "id": "1198496c",
   "metadata": {},
   "outputs": [],
   "source": [
    "#baseline_test.head()"
   ]
  },
  {
   "cell_type": "markdown",
   "id": "d06c6ff0",
   "metadata": {},
   "source": [
    "### Predict: ExtraTreesRegressor"
   ]
  },
  {
   "cell_type": "code",
   "execution_count": 35,
   "id": "357e7ac2",
   "metadata": {},
   "outputs": [
    {
     "name": "stderr",
     "output_type": "stream",
     "text": [
      "C:\\Users\\Kristina\\miniconda3\\envs\\sklearn_env\\Lib\\site-packages\\sklearn\\utils\\validation.py:2732: UserWarning: X has feature names, but ExtraTreesRegressor was fitted without feature names\n",
      "  warnings.warn(\n"
     ]
    }
   ],
   "source": [
    "extratrees_model_pred = model_extratrees.predict(baseline_test)"
   ]
  },
  {
   "cell_type": "code",
   "execution_count": 36,
   "id": "481ce344",
   "metadata": {},
   "outputs": [
    {
     "data": {
      "text/plain": [
       "array([3024.14, 5374.9 , 9061.15, ..., 2879.16, 2074.19,  847.58])"
      ]
     },
     "execution_count": 36,
     "metadata": {},
     "output_type": "execute_result"
    }
   ],
   "source": [
    "extratrees_model_pred"
   ]
  },
  {
   "cell_type": "markdown",
   "id": "7d4f0092",
   "metadata": {},
   "source": [
    "### Save"
   ]
  },
  {
   "cell_type": "code",
   "execution_count": 37,
   "id": "61b4b8e0",
   "metadata": {},
   "outputs": [
    {
     "data": {
      "text/plain": [
       "'file saved succesfully'"
      ]
     },
     "execution_count": 37,
     "metadata": {},
     "output_type": "execute_result"
    }
   ],
   "source": [
    "fn.save_pred(diamonds_test, extratrees_model_pred, 'encod01_featu02_model01')"
   ]
  },
  {
   "cell_type": "code",
   "execution_count": null,
   "id": "912762c7",
   "metadata": {},
   "outputs": [],
   "source": []
  }
 ],
 "metadata": {
  "kernelspec": {
   "display_name": "Python [conda env:sklearn_env]",
   "language": "python",
   "name": "conda-env-sklearn_env-py"
  },
  "language_info": {
   "codemirror_mode": {
    "name": "ipython",
    "version": 3
   },
   "file_extension": ".py",
   "mimetype": "text/x-python",
   "name": "python",
   "nbconvert_exporter": "python",
   "pygments_lexer": "ipython3",
   "version": "3.13.1"
  }
 },
 "nbformat": 4,
 "nbformat_minor": 5
}
