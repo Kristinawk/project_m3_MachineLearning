{
 "cells": [
  {
   "cell_type": "markdown",
   "id": "bbb0cf00",
   "metadata": {},
   "source": [
    "### _Imports_"
   ]
  },
  {
   "cell_type": "code",
   "execution_count": 1,
   "id": "f3028a4a",
   "metadata": {},
   "outputs": [],
   "source": [
    "import pandas as pd\n",
    "import numpy as np\n",
    "\n",
    "from sklearn.model_selection import train_test_split\n",
    "\n",
    "from sklearn.linear_model  import ElasticNet\n",
    "from sklearn.linear_model import Ridge\n",
    "from sklearn.svm import SVR\n",
    "from sklearn.linear_model import SGDRegressor\n",
    "from sklearn.linear_model import LinearRegression\n",
    "from sklearn.ensemble import RandomForestRegressor\n",
    "\n",
    "from sklearn.metrics import root_mean_squared_error\n",
    "from sklearn.metrics import r2_score\n",
    "from sklearn.model_selection import cross_val_score\n",
    "\n",
    "import functions as fn # importing pre-defined functions from .py file (inside notebooks folder)"
   ]
  },
  {
   "cell_type": "markdown",
   "id": "61c6127e",
   "metadata": {},
   "source": [
    "### Upload diamonds train data from csv"
   ]
  },
  {
   "cell_type": "code",
   "execution_count": 2,
   "id": "8ca836cc",
   "metadata": {},
   "outputs": [
    {
     "data": {
      "text/html": [
       "<div>\n",
       "<style scoped>\n",
       "    .dataframe tbody tr th:only-of-type {\n",
       "        vertical-align: middle;\n",
       "    }\n",
       "\n",
       "    .dataframe tbody tr th {\n",
       "        vertical-align: top;\n",
       "    }\n",
       "\n",
       "    .dataframe thead th {\n",
       "        text-align: right;\n",
       "    }\n",
       "</style>\n",
       "<table border=\"1\" class=\"dataframe\">\n",
       "  <thead>\n",
       "    <tr style=\"text-align: right;\">\n",
       "      <th></th>\n",
       "      <th>price</th>\n",
       "      <th>carat</th>\n",
       "      <th>city</th>\n",
       "      <th>depth</th>\n",
       "      <th>table</th>\n",
       "      <th>x</th>\n",
       "      <th>y</th>\n",
       "      <th>z</th>\n",
       "      <th>cut</th>\n",
       "      <th>color</th>\n",
       "      <th>clarity</th>\n",
       "    </tr>\n",
       "  </thead>\n",
       "  <tbody>\n",
       "    <tr>\n",
       "      <th>0</th>\n",
       "      <td>4268</td>\n",
       "      <td>1.21</td>\n",
       "      <td>Dubai</td>\n",
       "      <td>62.4</td>\n",
       "      <td>58.0</td>\n",
       "      <td>6.83</td>\n",
       "      <td>6.79</td>\n",
       "      <td>4.25</td>\n",
       "      <td>Premium</td>\n",
       "      <td>J</td>\n",
       "      <td>VS2</td>\n",
       "    </tr>\n",
       "    <tr>\n",
       "      <th>1</th>\n",
       "      <td>505</td>\n",
       "      <td>0.32</td>\n",
       "      <td>Kimberly</td>\n",
       "      <td>63.0</td>\n",
       "      <td>57.0</td>\n",
       "      <td>4.35</td>\n",
       "      <td>4.38</td>\n",
       "      <td>2.75</td>\n",
       "      <td>Very Good</td>\n",
       "      <td>H</td>\n",
       "      <td>VS2</td>\n",
       "    </tr>\n",
       "    <tr>\n",
       "      <th>2</th>\n",
       "      <td>2686</td>\n",
       "      <td>0.71</td>\n",
       "      <td>Las Vegas</td>\n",
       "      <td>65.5</td>\n",
       "      <td>55.0</td>\n",
       "      <td>5.62</td>\n",
       "      <td>5.53</td>\n",
       "      <td>3.65</td>\n",
       "      <td>Fair</td>\n",
       "      <td>G</td>\n",
       "      <td>VS1</td>\n",
       "    </tr>\n",
       "    <tr>\n",
       "      <th>3</th>\n",
       "      <td>738</td>\n",
       "      <td>0.41</td>\n",
       "      <td>Kimberly</td>\n",
       "      <td>63.8</td>\n",
       "      <td>56.0</td>\n",
       "      <td>4.68</td>\n",
       "      <td>4.72</td>\n",
       "      <td>3.00</td>\n",
       "      <td>Good</td>\n",
       "      <td>D</td>\n",
       "      <td>SI1</td>\n",
       "    </tr>\n",
       "    <tr>\n",
       "      <th>4</th>\n",
       "      <td>4882</td>\n",
       "      <td>1.02</td>\n",
       "      <td>Dubai</td>\n",
       "      <td>60.5</td>\n",
       "      <td>59.0</td>\n",
       "      <td>6.55</td>\n",
       "      <td>6.51</td>\n",
       "      <td>3.95</td>\n",
       "      <td>Ideal</td>\n",
       "      <td>G</td>\n",
       "      <td>SI1</td>\n",
       "    </tr>\n",
       "  </tbody>\n",
       "</table>\n",
       "</div>"
      ],
      "text/plain": [
       "   price  carat       city  depth  table     x     y     z        cut color  \\\n",
       "0   4268   1.21      Dubai   62.4   58.0  6.83  6.79  4.25    Premium     J   \n",
       "1    505   0.32   Kimberly   63.0   57.0  4.35  4.38  2.75  Very Good     H   \n",
       "2   2686   0.71  Las Vegas   65.5   55.0  5.62  5.53  3.65       Fair     G   \n",
       "3    738   0.41   Kimberly   63.8   56.0  4.68  4.72  3.00       Good     D   \n",
       "4   4882   1.02      Dubai   60.5   59.0  6.55  6.51  3.95      Ideal     G   \n",
       "\n",
       "  clarity  \n",
       "0     VS2  \n",
       "1     VS2  \n",
       "2     VS1  \n",
       "3     SI1  \n",
       "4     SI1  "
      ]
     },
     "execution_count": 2,
     "metadata": {},
     "output_type": "execute_result"
    }
   ],
   "source": [
    "diamonds_train = pd.read_csv('../data/diamonds_train.csv')\n",
    "diamonds_train.head()"
   ]
  },
  {
   "cell_type": "markdown",
   "id": "d41ef47c",
   "metadata": {},
   "source": [
    "**Remark**: For the diamonds dataset, we have conducted an exploratory data analysis (EDA) in advance. Find references [here](https://github.com/Kristinawk/EDA_Diamonds).  \n",
    "  \n",
    "This dataset doesn't have nulls, therefore we can proceed directly with encoding."
   ]
  },
  {
   "cell_type": "markdown",
   "id": "83ab5a55",
   "metadata": {},
   "source": [
    "## 1. Encoding"
   ]
  },
  {
   "cell_type": "markdown",
   "id": "5957714c",
   "metadata": {},
   "source": [
    "### Categorical variables overview"
   ]
  },
  {
   "cell_type": "code",
   "execution_count": 3,
   "id": "04d1320b",
   "metadata": {},
   "outputs": [
    {
     "data": {
      "text/html": [
       "<div>\n",
       "<style scoped>\n",
       "    .dataframe tbody tr th:only-of-type {\n",
       "        vertical-align: middle;\n",
       "    }\n",
       "\n",
       "    .dataframe tbody tr th {\n",
       "        vertical-align: top;\n",
       "    }\n",
       "\n",
       "    .dataframe thead th {\n",
       "        text-align: right;\n",
       "    }\n",
       "</style>\n",
       "<table border=\"1\" class=\"dataframe\">\n",
       "  <thead>\n",
       "    <tr style=\"text-align: right;\">\n",
       "      <th></th>\n",
       "      <th>categorical_variable</th>\n",
       "      <th>number_of_possible_values</th>\n",
       "      <th>values</th>\n",
       "    </tr>\n",
       "  </thead>\n",
       "  <tbody>\n",
       "    <tr>\n",
       "      <th>0</th>\n",
       "      <td>city</td>\n",
       "      <td>13</td>\n",
       "      <td>[Dubai, Kimberly, Las Vegas, Tel Aviv, Amsterd...</td>\n",
       "    </tr>\n",
       "    <tr>\n",
       "      <th>1</th>\n",
       "      <td>clarity</td>\n",
       "      <td>8</td>\n",
       "      <td>[VS2, VS1, SI1, SI2, IF, VVS1, VVS2, I1]</td>\n",
       "    </tr>\n",
       "    <tr>\n",
       "      <th>2</th>\n",
       "      <td>color</td>\n",
       "      <td>7</td>\n",
       "      <td>[J, H, G, D, F, E, I]</td>\n",
       "    </tr>\n",
       "    <tr>\n",
       "      <th>3</th>\n",
       "      <td>cut</td>\n",
       "      <td>5</td>\n",
       "      <td>[Premium, Very Good, Fair, Good, Ideal]</td>\n",
       "    </tr>\n",
       "  </tbody>\n",
       "</table>\n",
       "</div>"
      ],
      "text/plain": [
       "  categorical_variable  number_of_possible_values  \\\n",
       "0                 city                         13   \n",
       "1              clarity                          8   \n",
       "2                color                          7   \n",
       "3                  cut                          5   \n",
       "\n",
       "                                              values  \n",
       "0  [Dubai, Kimberly, Las Vegas, Tel Aviv, Amsterd...  \n",
       "1           [VS2, VS1, SI1, SI2, IF, VVS1, VVS2, I1]  \n",
       "2                              [J, H, G, D, F, E, I]  \n",
       "3            [Premium, Very Good, Fair, Good, Ideal]  "
      ]
     },
     "execution_count": 3,
     "metadata": {},
     "output_type": "execute_result"
    }
   ],
   "source": [
    "cat_var_lst = [\"city\", \"cut\", \"color\", \"clarity\"]\n",
    "cat_var_overview = fn.cat_var(diamonds_train, cat_var_lst)\n",
    "cat_var_overview"
   ]
  },
  {
   "cell_type": "markdown",
   "id": "48a3b6be",
   "metadata": {},
   "source": [
    "### One hot encoding"
   ]
  },
  {
   "cell_type": "code",
   "execution_count": 4,
   "id": "39bf8480",
   "metadata": {},
   "outputs": [],
   "source": [
    "baseline_train = fn.one_hot_encod(diamonds_train, cat_var_lst)"
   ]
  },
  {
   "cell_type": "code",
   "execution_count": 5,
   "id": "0317b460",
   "metadata": {},
   "outputs": [
    {
     "data": {
      "text/html": [
       "<div>\n",
       "<style scoped>\n",
       "    .dataframe tbody tr th:only-of-type {\n",
       "        vertical-align: middle;\n",
       "    }\n",
       "\n",
       "    .dataframe tbody tr th {\n",
       "        vertical-align: top;\n",
       "    }\n",
       "\n",
       "    .dataframe thead th {\n",
       "        text-align: right;\n",
       "    }\n",
       "</style>\n",
       "<table border=\"1\" class=\"dataframe\">\n",
       "  <thead>\n",
       "    <tr style=\"text-align: right;\">\n",
       "      <th></th>\n",
       "      <th>price</th>\n",
       "      <th>carat</th>\n",
       "      <th>depth</th>\n",
       "      <th>table</th>\n",
       "      <th>x</th>\n",
       "      <th>y</th>\n",
       "      <th>z</th>\n",
       "      <th>city_Antwerp</th>\n",
       "      <th>city_Dubai</th>\n",
       "      <th>city_Kimberly</th>\n",
       "      <th>...</th>\n",
       "      <th>color_H</th>\n",
       "      <th>color_I</th>\n",
       "      <th>color_J</th>\n",
       "      <th>clarity_IF</th>\n",
       "      <th>clarity_SI1</th>\n",
       "      <th>clarity_SI2</th>\n",
       "      <th>clarity_VS1</th>\n",
       "      <th>clarity_VS2</th>\n",
       "      <th>clarity_VVS1</th>\n",
       "      <th>clarity_VVS2</th>\n",
       "    </tr>\n",
       "  </thead>\n",
       "  <tbody>\n",
       "    <tr>\n",
       "      <th>0</th>\n",
       "      <td>4268</td>\n",
       "      <td>1.21</td>\n",
       "      <td>62.4</td>\n",
       "      <td>58.0</td>\n",
       "      <td>6.83</td>\n",
       "      <td>6.79</td>\n",
       "      <td>4.25</td>\n",
       "      <td>0</td>\n",
       "      <td>1</td>\n",
       "      <td>0</td>\n",
       "      <td>...</td>\n",
       "      <td>0</td>\n",
       "      <td>0</td>\n",
       "      <td>1</td>\n",
       "      <td>0</td>\n",
       "      <td>0</td>\n",
       "      <td>0</td>\n",
       "      <td>0</td>\n",
       "      <td>1</td>\n",
       "      <td>0</td>\n",
       "      <td>0</td>\n",
       "    </tr>\n",
       "    <tr>\n",
       "      <th>1</th>\n",
       "      <td>505</td>\n",
       "      <td>0.32</td>\n",
       "      <td>63.0</td>\n",
       "      <td>57.0</td>\n",
       "      <td>4.35</td>\n",
       "      <td>4.38</td>\n",
       "      <td>2.75</td>\n",
       "      <td>0</td>\n",
       "      <td>0</td>\n",
       "      <td>1</td>\n",
       "      <td>...</td>\n",
       "      <td>1</td>\n",
       "      <td>0</td>\n",
       "      <td>0</td>\n",
       "      <td>0</td>\n",
       "      <td>0</td>\n",
       "      <td>0</td>\n",
       "      <td>0</td>\n",
       "      <td>1</td>\n",
       "      <td>0</td>\n",
       "      <td>0</td>\n",
       "    </tr>\n",
       "    <tr>\n",
       "      <th>2</th>\n",
       "      <td>2686</td>\n",
       "      <td>0.71</td>\n",
       "      <td>65.5</td>\n",
       "      <td>55.0</td>\n",
       "      <td>5.62</td>\n",
       "      <td>5.53</td>\n",
       "      <td>3.65</td>\n",
       "      <td>0</td>\n",
       "      <td>0</td>\n",
       "      <td>0</td>\n",
       "      <td>...</td>\n",
       "      <td>0</td>\n",
       "      <td>0</td>\n",
       "      <td>0</td>\n",
       "      <td>0</td>\n",
       "      <td>0</td>\n",
       "      <td>0</td>\n",
       "      <td>1</td>\n",
       "      <td>0</td>\n",
       "      <td>0</td>\n",
       "      <td>0</td>\n",
       "    </tr>\n",
       "    <tr>\n",
       "      <th>3</th>\n",
       "      <td>738</td>\n",
       "      <td>0.41</td>\n",
       "      <td>63.8</td>\n",
       "      <td>56.0</td>\n",
       "      <td>4.68</td>\n",
       "      <td>4.72</td>\n",
       "      <td>3.00</td>\n",
       "      <td>0</td>\n",
       "      <td>0</td>\n",
       "      <td>1</td>\n",
       "      <td>...</td>\n",
       "      <td>0</td>\n",
       "      <td>0</td>\n",
       "      <td>0</td>\n",
       "      <td>0</td>\n",
       "      <td>1</td>\n",
       "      <td>0</td>\n",
       "      <td>0</td>\n",
       "      <td>0</td>\n",
       "      <td>0</td>\n",
       "      <td>0</td>\n",
       "    </tr>\n",
       "    <tr>\n",
       "      <th>4</th>\n",
       "      <td>4882</td>\n",
       "      <td>1.02</td>\n",
       "      <td>60.5</td>\n",
       "      <td>59.0</td>\n",
       "      <td>6.55</td>\n",
       "      <td>6.51</td>\n",
       "      <td>3.95</td>\n",
       "      <td>0</td>\n",
       "      <td>1</td>\n",
       "      <td>0</td>\n",
       "      <td>...</td>\n",
       "      <td>0</td>\n",
       "      <td>0</td>\n",
       "      <td>0</td>\n",
       "      <td>0</td>\n",
       "      <td>1</td>\n",
       "      <td>0</td>\n",
       "      <td>0</td>\n",
       "      <td>0</td>\n",
       "      <td>0</td>\n",
       "      <td>0</td>\n",
       "    </tr>\n",
       "  </tbody>\n",
       "</table>\n",
       "<p>5 rows × 36 columns</p>\n",
       "</div>"
      ],
      "text/plain": [
       "   price  carat  depth  table     x     y     z  city_Antwerp  city_Dubai  \\\n",
       "0   4268   1.21   62.4   58.0  6.83  6.79  4.25             0           1   \n",
       "1    505   0.32   63.0   57.0  4.35  4.38  2.75             0           0   \n",
       "2   2686   0.71   65.5   55.0  5.62  5.53  3.65             0           0   \n",
       "3    738   0.41   63.8   56.0  4.68  4.72  3.00             0           0   \n",
       "4   4882   1.02   60.5   59.0  6.55  6.51  3.95             0           1   \n",
       "\n",
       "   city_Kimberly  ...  color_H  color_I  color_J  clarity_IF  clarity_SI1  \\\n",
       "0              0  ...        0        0        1           0            0   \n",
       "1              1  ...        1        0        0           0            0   \n",
       "2              0  ...        0        0        0           0            0   \n",
       "3              1  ...        0        0        0           0            1   \n",
       "4              0  ...        0        0        0           0            1   \n",
       "\n",
       "   clarity_SI2  clarity_VS1  clarity_VS2  clarity_VVS1  clarity_VVS2  \n",
       "0            0            0            1             0             0  \n",
       "1            0            0            1             0             0  \n",
       "2            0            1            0             0             0  \n",
       "3            0            0            0             0             0  \n",
       "4            0            0            0             0             0  \n",
       "\n",
       "[5 rows x 36 columns]"
      ]
     },
     "execution_count": 5,
     "metadata": {},
     "output_type": "execute_result"
    }
   ],
   "source": [
    "baseline_train.head()"
   ]
  },
  {
   "cell_type": "markdown",
   "id": "225c2bcb",
   "metadata": {},
   "source": [
    "Checking that all features are numeric"
   ]
  },
  {
   "cell_type": "code",
   "execution_count": 6,
   "id": "cac258a9",
   "metadata": {
    "scrolled": true
   },
   "outputs": [
    {
     "name": "stdout",
     "output_type": "stream",
     "text": [
      "<class 'pandas.core.frame.DataFrame'>\n",
      "RangeIndex: 40455 entries, 0 to 40454\n",
      "Data columns (total 36 columns):\n",
      " #   Column              Non-Null Count  Dtype  \n",
      "---  ------              --------------  -----  \n",
      " 0   price               40455 non-null  int64  \n",
      " 1   carat               40455 non-null  float64\n",
      " 2   depth               40455 non-null  float64\n",
      " 3   table               40455 non-null  float64\n",
      " 4   x                   40455 non-null  float64\n",
      " 5   y                   40455 non-null  float64\n",
      " 6   z                   40455 non-null  float64\n",
      " 7   city_Antwerp        40455 non-null  int64  \n",
      " 8   city_Dubai          40455 non-null  int64  \n",
      " 9   city_Kimberly       40455 non-null  int64  \n",
      " 10  city_Las Vegas      40455 non-null  int64  \n",
      " 11  city_London         40455 non-null  int64  \n",
      " 12  city_Luxembourg     40455 non-null  int64  \n",
      " 13  city_Madrid         40455 non-null  int64  \n",
      " 14  city_New York City  40455 non-null  int64  \n",
      " 15  city_Paris          40455 non-null  int64  \n",
      " 16  city_Surat          40455 non-null  int64  \n",
      " 17  city_Tel Aviv       40455 non-null  int64  \n",
      " 18  city_Zurich         40455 non-null  int64  \n",
      " 19  cut_Good            40455 non-null  int64  \n",
      " 20  cut_Ideal           40455 non-null  int64  \n",
      " 21  cut_Premium         40455 non-null  int64  \n",
      " 22  cut_Very Good       40455 non-null  int64  \n",
      " 23  color_E             40455 non-null  int64  \n",
      " 24  color_F             40455 non-null  int64  \n",
      " 25  color_G             40455 non-null  int64  \n",
      " 26  color_H             40455 non-null  int64  \n",
      " 27  color_I             40455 non-null  int64  \n",
      " 28  color_J             40455 non-null  int64  \n",
      " 29  clarity_IF          40455 non-null  int64  \n",
      " 30  clarity_SI1         40455 non-null  int64  \n",
      " 31  clarity_SI2         40455 non-null  int64  \n",
      " 32  clarity_VS1         40455 non-null  int64  \n",
      " 33  clarity_VS2         40455 non-null  int64  \n",
      " 34  clarity_VVS1        40455 non-null  int64  \n",
      " 35  clarity_VVS2        40455 non-null  int64  \n",
      "dtypes: float64(6), int64(30)\n",
      "memory usage: 11.1 MB\n"
     ]
    }
   ],
   "source": [
    "baseline_train.info()"
   ]
  },
  {
   "cell_type": "markdown",
   "id": "5a6e4eaf",
   "metadata": {},
   "source": [
    "## 2. Features selection and engineering"
   ]
  },
  {
   "cell_type": "markdown",
   "id": "86ed1902",
   "metadata": {},
   "source": [
    "In this phase we will not apply any changes to the features."
   ]
  },
  {
   "cell_type": "markdown",
   "id": "8c20bc15",
   "metadata": {},
   "source": [
    "### Save pre-processing to csv"
   ]
  },
  {
   "cell_type": "code",
   "execution_count": 7,
   "id": "a360ca17",
   "metadata": {},
   "outputs": [],
   "source": [
    "baseline_train.to_csv('../data/baseline_train.csv', index=False)"
   ]
  },
  {
   "cell_type": "markdown",
   "id": "ea9bb7ef",
   "metadata": {},
   "source": [
    "## 3. Model training"
   ]
  },
  {
   "cell_type": "code",
   "execution_count": 8,
   "id": "096f5848",
   "metadata": {},
   "outputs": [],
   "source": [
    "y = baseline_train['price'].astype('float64').to_numpy()\n",
    "X = baseline_train[[col for col in baseline_train.columns if col != 'price']].to_numpy()"
   ]
  },
  {
   "cell_type": "code",
   "execution_count": 9,
   "id": "1225564c",
   "metadata": {},
   "outputs": [],
   "source": [
    "X_train, X_test, y_train, y_test = train_test_split(X, y, test_size = 0.2, random_state = 42)\n",
    "#print(f\"X_train: {X_train.shape}, X_test: {X_test.shape}, y_train: {y_train.shape}, y_test: {y_test.shape}\")\n",
    "#print(f\"X_train: {type(X_train)}, X_test: {type(X_test)}, y_train: {type(y_train)}, y_test: {type(y_test)}\")"
   ]
  },
  {
   "cell_type": "markdown",
   "id": "3f895350",
   "metadata": {},
   "source": [
    "## 3. a) LinearRegression"
   ]
  },
  {
   "cell_type": "markdown",
   "id": "b9efe133",
   "metadata": {},
   "source": [
    "### Select Model"
   ]
  },
  {
   "cell_type": "code",
   "execution_count": 10,
   "id": "6d14aa5f",
   "metadata": {},
   "outputs": [],
   "source": [
    "model_linear = LinearRegression()\n",
    "model_linear.fit(X_train, y_train)\n",
    "y_pred = model_linear.predict(X_test)"
   ]
  },
  {
   "cell_type": "markdown",
   "id": "571d7d8a",
   "metadata": {},
   "source": [
    "### Visual check"
   ]
  },
  {
   "cell_type": "code",
   "execution_count": 11,
   "id": "07e46456",
   "metadata": {},
   "outputs": [
    {
     "data": {
      "text/html": [
       "<div>\n",
       "<style scoped>\n",
       "    .dataframe tbody tr th:only-of-type {\n",
       "        vertical-align: middle;\n",
       "    }\n",
       "\n",
       "    .dataframe tbody tr th {\n",
       "        vertical-align: top;\n",
       "    }\n",
       "\n",
       "    .dataframe thead th {\n",
       "        text-align: right;\n",
       "    }\n",
       "</style>\n",
       "<table border=\"1\" class=\"dataframe\">\n",
       "  <thead>\n",
       "    <tr style=\"text-align: right;\">\n",
       "      <th></th>\n",
       "      <th>Ground truth</th>\n",
       "      <th>Predictions</th>\n",
       "      <th>Diff</th>\n",
       "    </tr>\n",
       "  </thead>\n",
       "  <tbody>\n",
       "    <tr>\n",
       "      <th>0</th>\n",
       "      <td>2970.0</td>\n",
       "      <td>3592.966083</td>\n",
       "      <td>-622.966083</td>\n",
       "    </tr>\n",
       "    <tr>\n",
       "      <th>1</th>\n",
       "      <td>3004.0</td>\n",
       "      <td>3180.816135</td>\n",
       "      <td>-176.816135</td>\n",
       "    </tr>\n",
       "    <tr>\n",
       "      <th>2</th>\n",
       "      <td>838.0</td>\n",
       "      <td>1303.984829</td>\n",
       "      <td>-465.984829</td>\n",
       "    </tr>\n",
       "    <tr>\n",
       "      <th>3</th>\n",
       "      <td>6468.0</td>\n",
       "      <td>6132.377051</td>\n",
       "      <td>335.622949</td>\n",
       "    </tr>\n",
       "    <tr>\n",
       "      <th>4</th>\n",
       "      <td>633.0</td>\n",
       "      <td>801.154705</td>\n",
       "      <td>-168.154705</td>\n",
       "    </tr>\n",
       "    <tr>\n",
       "      <th>...</th>\n",
       "      <td>...</td>\n",
       "      <td>...</td>\n",
       "      <td>...</td>\n",
       "    </tr>\n",
       "    <tr>\n",
       "      <th>8086</th>\n",
       "      <td>4764.0</td>\n",
       "      <td>5485.230912</td>\n",
       "      <td>-721.230912</td>\n",
       "    </tr>\n",
       "    <tr>\n",
       "      <th>8087</th>\n",
       "      <td>756.0</td>\n",
       "      <td>360.328256</td>\n",
       "      <td>395.671744</td>\n",
       "    </tr>\n",
       "    <tr>\n",
       "      <th>8088</th>\n",
       "      <td>2690.0</td>\n",
       "      <td>3346.974806</td>\n",
       "      <td>-656.974806</td>\n",
       "    </tr>\n",
       "    <tr>\n",
       "      <th>8089</th>\n",
       "      <td>3992.0</td>\n",
       "      <td>4535.724524</td>\n",
       "      <td>-543.724524</td>\n",
       "    </tr>\n",
       "    <tr>\n",
       "      <th>8090</th>\n",
       "      <td>6629.0</td>\n",
       "      <td>9416.405396</td>\n",
       "      <td>-2787.405396</td>\n",
       "    </tr>\n",
       "  </tbody>\n",
       "</table>\n",
       "<p>8091 rows × 3 columns</p>\n",
       "</div>"
      ],
      "text/plain": [
       "      Ground truth  Predictions         Diff\n",
       "0           2970.0  3592.966083  -622.966083\n",
       "1           3004.0  3180.816135  -176.816135\n",
       "2            838.0  1303.984829  -465.984829\n",
       "3           6468.0  6132.377051   335.622949\n",
       "4            633.0   801.154705  -168.154705\n",
       "...            ...          ...          ...\n",
       "8086        4764.0  5485.230912  -721.230912\n",
       "8087         756.0   360.328256   395.671744\n",
       "8088        2690.0  3346.974806  -656.974806\n",
       "8089        3992.0  4535.724524  -543.724524\n",
       "8090        6629.0  9416.405396 -2787.405396\n",
       "\n",
       "[8091 rows x 3 columns]"
      ]
     },
     "execution_count": 11,
     "metadata": {},
     "output_type": "execute_result"
    }
   ],
   "source": [
    "check = pd.DataFrame({'Ground truth': y_test, 'Predictions': y_pred, 'Diff': y_test - y_pred})\n",
    "check"
   ]
  },
  {
   "cell_type": "code",
   "execution_count": 12,
   "id": "9ab42d3a",
   "metadata": {},
   "outputs": [],
   "source": [
    "check.reset_index(inplace=True)"
   ]
  },
  {
   "cell_type": "code",
   "execution_count": 13,
   "id": "37d060f5",
   "metadata": {},
   "outputs": [
    {
     "data": {
      "image/png": "[encoded data removed]",
      "text/plain": [
       "<Figure size 1200x300 with 1 Axes>"
      ]
     },
     "metadata": {},
     "output_type": "display_data"
    }
   ],
   "source": [
    "check.plot(x='index', y=['Ground truth', 'Predictions'], kind='line', figsize=(12, 3));"
   ]
  },
  {
   "cell_type": "markdown",
   "id": "b275f404",
   "metadata": {},
   "source": [
    "### Error evaluation"
   ]
  },
  {
   "cell_type": "code",
   "execution_count": 14,
   "id": "044aadef",
   "metadata": {},
   "outputs": [
    {
     "name": "stdout",
     "output_type": "stream",
     "text": [
      "rmse: 1124.8553834499114/n\n",
      "r2: 0.9223017804520173\n"
     ]
    }
   ],
   "source": [
    "rmse = root_mean_squared_error(y_test, y_pred)\n",
    "r2 = r2_score(y_test, y_pred)\n",
    "\n",
    "print(f'rmse: {rmse}/n')\n",
    "print(f'r2: {r2}')"
   ]
  },
  {
   "cell_type": "markdown",
   "id": "767fe0ff",
   "metadata": {},
   "source": [
    "## 3. b) RandomForestRegressor"
   ]
  },
  {
   "cell_type": "markdown",
   "id": "0cf0eb90",
   "metadata": {},
   "source": [
    "### Cross-validation"
   ]
  },
  {
   "cell_type": "code",
   "execution_count": 15,
   "id": "99f35ea6",
   "metadata": {},
   "outputs": [
    {
     "name": "stdout",
     "output_type": "stream",
     "text": [
      "Cross val. scores: [-659.212525   -666.32947166 -675.83079119 -661.8760547  -655.66514653] \n",
      "\n",
      "Mean of scores: 663.7827978170295 \n",
      "\n"
     ]
    }
   ],
   "source": [
    "model_randomforest = RandomForestRegressor()\n",
    "\n",
    "fn.cross_val(model_randomforest, X, y)"
   ]
  },
  {
   "cell_type": "markdown",
   "id": "f0903a09",
   "metadata": {},
   "source": [
    "### Fit Model"
   ]
  },
  {
   "cell_type": "code",
   "execution_count": 16,
   "id": "76a8c562",
   "metadata": {},
   "outputs": [],
   "source": [
    "model_randomforest.fit(X_train, y_train)\n",
    "y_pred = model_linear.predict(X_test)"
   ]
  },
  {
   "cell_type": "markdown",
   "id": "e76da3e1",
   "metadata": {},
   "source": [
    "### Visual check"
   ]
  },
  {
   "cell_type": "code",
   "execution_count": 17,
   "id": "6bdcaaac",
   "metadata": {},
   "outputs": [
    {
     "data": {
      "text/html": [
       "<div>\n",
       "<style scoped>\n",
       "    .dataframe tbody tr th:only-of-type {\n",
       "        vertical-align: middle;\n",
       "    }\n",
       "\n",
       "    .dataframe tbody tr th {\n",
       "        vertical-align: top;\n",
       "    }\n",
       "\n",
       "    .dataframe thead th {\n",
       "        text-align: right;\n",
       "    }\n",
       "</style>\n",
       "<table border=\"1\" class=\"dataframe\">\n",
       "  <thead>\n",
       "    <tr style=\"text-align: right;\">\n",
       "      <th></th>\n",
       "      <th>Ground truth</th>\n",
       "      <th>Predictions</th>\n",
       "      <th>Diff</th>\n",
       "    </tr>\n",
       "  </thead>\n",
       "  <tbody>\n",
       "    <tr>\n",
       "      <th>0</th>\n",
       "      <td>2970.0</td>\n",
       "      <td>3592.966083</td>\n",
       "      <td>-622.966083</td>\n",
       "    </tr>\n",
       "    <tr>\n",
       "      <th>1</th>\n",
       "      <td>3004.0</td>\n",
       "      <td>3180.816135</td>\n",
       "      <td>-176.816135</td>\n",
       "    </tr>\n",
       "    <tr>\n",
       "      <th>2</th>\n",
       "      <td>838.0</td>\n",
       "      <td>1303.984829</td>\n",
       "      <td>-465.984829</td>\n",
       "    </tr>\n",
       "    <tr>\n",
       "      <th>3</th>\n",
       "      <td>6468.0</td>\n",
       "      <td>6132.377051</td>\n",
       "      <td>335.622949</td>\n",
       "    </tr>\n",
       "    <tr>\n",
       "      <th>4</th>\n",
       "      <td>633.0</td>\n",
       "      <td>801.154705</td>\n",
       "      <td>-168.154705</td>\n",
       "    </tr>\n",
       "    <tr>\n",
       "      <th>...</th>\n",
       "      <td>...</td>\n",
       "      <td>...</td>\n",
       "      <td>...</td>\n",
       "    </tr>\n",
       "    <tr>\n",
       "      <th>8086</th>\n",
       "      <td>4764.0</td>\n",
       "      <td>5485.230912</td>\n",
       "      <td>-721.230912</td>\n",
       "    </tr>\n",
       "    <tr>\n",
       "      <th>8087</th>\n",
       "      <td>756.0</td>\n",
       "      <td>360.328256</td>\n",
       "      <td>395.671744</td>\n",
       "    </tr>\n",
       "    <tr>\n",
       "      <th>8088</th>\n",
       "      <td>2690.0</td>\n",
       "      <td>3346.974806</td>\n",
       "      <td>-656.974806</td>\n",
       "    </tr>\n",
       "    <tr>\n",
       "      <th>8089</th>\n",
       "      <td>3992.0</td>\n",
       "      <td>4535.724524</td>\n",
       "      <td>-543.724524</td>\n",
       "    </tr>\n",
       "    <tr>\n",
       "      <th>8090</th>\n",
       "      <td>6629.0</td>\n",
       "      <td>9416.405396</td>\n",
       "      <td>-2787.405396</td>\n",
       "    </tr>\n",
       "  </tbody>\n",
       "</table>\n",
       "<p>8091 rows × 3 columns</p>\n",
       "</div>"
      ],
      "text/plain": [
       "      Ground truth  Predictions         Diff\n",
       "0           2970.0  3592.966083  -622.966083\n",
       "1           3004.0  3180.816135  -176.816135\n",
       "2            838.0  1303.984829  -465.984829\n",
       "3           6468.0  6132.377051   335.622949\n",
       "4            633.0   801.154705  -168.154705\n",
       "...            ...          ...          ...\n",
       "8086        4764.0  5485.230912  -721.230912\n",
       "8087         756.0   360.328256   395.671744\n",
       "8088        2690.0  3346.974806  -656.974806\n",
       "8089        3992.0  4535.724524  -543.724524\n",
       "8090        6629.0  9416.405396 -2787.405396\n",
       "\n",
       "[8091 rows x 3 columns]"
      ]
     },
     "execution_count": 17,
     "metadata": {},
     "output_type": "execute_result"
    }
   ],
   "source": [
    "check = pd.DataFrame({'Ground truth': y_test, 'Predictions': y_pred, 'Diff': y_test - y_pred})\n",
    "check"
   ]
  },
  {
   "cell_type": "code",
   "execution_count": 18,
   "id": "33704380",
   "metadata": {},
   "outputs": [],
   "source": [
    "check.reset_index(inplace=True)"
   ]
  },
  {
   "cell_type": "code",
   "execution_count": 19,
   "id": "b88c9571",
   "metadata": {},
   "outputs": [
    {
     "data": {
      "image/png": "[encoded data removed]",
      "text/plain": [
       "<Figure size 1200x300 with 1 Axes>"
      ]
     },
     "metadata": {},
     "output_type": "display_data"
    }
   ],
   "source": [
    "check.plot(x='index', y=['Ground truth', 'Predictions'], kind='line', figsize=(12, 3));"
   ]
  },
  {
   "cell_type": "markdown",
   "id": "e95a0d01",
   "metadata": {},
   "source": [
    "# 4. Predictions"
   ]
  },
  {
   "cell_type": "markdown",
   "id": "d5b3cffc",
   "metadata": {},
   "source": [
    "### Upload diamonds test data from csv"
   ]
  },
  {
   "cell_type": "code",
   "execution_count": 20,
   "id": "b0933b91",
   "metadata": {},
   "outputs": [
    {
     "data": {
      "text/html": [
       "<div>\n",
       "<style scoped>\n",
       "    .dataframe tbody tr th:only-of-type {\n",
       "        vertical-align: middle;\n",
       "    }\n",
       "\n",
       "    .dataframe tbody tr th {\n",
       "        vertical-align: top;\n",
       "    }\n",
       "\n",
       "    .dataframe thead th {\n",
       "        text-align: right;\n",
       "    }\n",
       "</style>\n",
       "<table border=\"1\" class=\"dataframe\">\n",
       "  <thead>\n",
       "    <tr style=\"text-align: right;\">\n",
       "      <th></th>\n",
       "      <th>id</th>\n",
       "      <th>carat</th>\n",
       "      <th>cut</th>\n",
       "      <th>color</th>\n",
       "      <th>clarity</th>\n",
       "      <th>depth</th>\n",
       "      <th>table</th>\n",
       "      <th>x</th>\n",
       "      <th>y</th>\n",
       "      <th>z</th>\n",
       "      <th>city</th>\n",
       "    </tr>\n",
       "  </thead>\n",
       "  <tbody>\n",
       "    <tr>\n",
       "      <th>0</th>\n",
       "      <td>0</td>\n",
       "      <td>0.79</td>\n",
       "      <td>Very Good</td>\n",
       "      <td>F</td>\n",
       "      <td>SI1</td>\n",
       "      <td>62.7</td>\n",
       "      <td>60.0</td>\n",
       "      <td>5.82</td>\n",
       "      <td>5.89</td>\n",
       "      <td>3.67</td>\n",
       "      <td>Amsterdam</td>\n",
       "    </tr>\n",
       "    <tr>\n",
       "      <th>1</th>\n",
       "      <td>1</td>\n",
       "      <td>1.20</td>\n",
       "      <td>Ideal</td>\n",
       "      <td>J</td>\n",
       "      <td>VS1</td>\n",
       "      <td>61.0</td>\n",
       "      <td>57.0</td>\n",
       "      <td>6.81</td>\n",
       "      <td>6.89</td>\n",
       "      <td>4.18</td>\n",
       "      <td>Surat</td>\n",
       "    </tr>\n",
       "    <tr>\n",
       "      <th>2</th>\n",
       "      <td>2</td>\n",
       "      <td>1.57</td>\n",
       "      <td>Premium</td>\n",
       "      <td>H</td>\n",
       "      <td>SI1</td>\n",
       "      <td>62.2</td>\n",
       "      <td>61.0</td>\n",
       "      <td>7.38</td>\n",
       "      <td>7.32</td>\n",
       "      <td>4.57</td>\n",
       "      <td>Kimberly</td>\n",
       "    </tr>\n",
       "    <tr>\n",
       "      <th>3</th>\n",
       "      <td>3</td>\n",
       "      <td>0.90</td>\n",
       "      <td>Very Good</td>\n",
       "      <td>F</td>\n",
       "      <td>SI1</td>\n",
       "      <td>63.8</td>\n",
       "      <td>54.0</td>\n",
       "      <td>6.09</td>\n",
       "      <td>6.13</td>\n",
       "      <td>3.90</td>\n",
       "      <td>Kimberly</td>\n",
       "    </tr>\n",
       "    <tr>\n",
       "      <th>4</th>\n",
       "      <td>4</td>\n",
       "      <td>0.50</td>\n",
       "      <td>Very Good</td>\n",
       "      <td>F</td>\n",
       "      <td>VS1</td>\n",
       "      <td>62.9</td>\n",
       "      <td>58.0</td>\n",
       "      <td>5.05</td>\n",
       "      <td>5.09</td>\n",
       "      <td>3.19</td>\n",
       "      <td>Amsterdam</td>\n",
       "    </tr>\n",
       "  </tbody>\n",
       "</table>\n",
       "</div>"
      ],
      "text/plain": [
       "   id  carat        cut color clarity  depth  table     x     y     z  \\\n",
       "0   0   0.79  Very Good     F     SI1   62.7   60.0  5.82  5.89  3.67   \n",
       "1   1   1.20      Ideal     J     VS1   61.0   57.0  6.81  6.89  4.18   \n",
       "2   2   1.57    Premium     H     SI1   62.2   61.0  7.38  7.32  4.57   \n",
       "3   3   0.90  Very Good     F     SI1   63.8   54.0  6.09  6.13  3.90   \n",
       "4   4   0.50  Very Good     F     VS1   62.9   58.0  5.05  5.09  3.19   \n",
       "\n",
       "        city  \n",
       "0  Amsterdam  \n",
       "1      Surat  \n",
       "2   Kimberly  \n",
       "3   Kimberly  \n",
       "4  Amsterdam  "
      ]
     },
     "execution_count": 20,
     "metadata": {},
     "output_type": "execute_result"
    }
   ],
   "source": [
    "diamonds_test = pd.read_csv('../data/diamonds_test.csv')\n",
    "diamonds_test.head()"
   ]
  },
  {
   "cell_type": "markdown",
   "id": "cd4beed2",
   "metadata": {},
   "source": [
    "### One-hot-encoding"
   ]
  },
  {
   "cell_type": "code",
   "execution_count": 21,
   "id": "3381dea2",
   "metadata": {},
   "outputs": [],
   "source": [
    "baseline_test = fn.one_hot_encod(diamonds_test, cat_var_lst)"
   ]
  },
  {
   "cell_type": "code",
   "execution_count": 22,
   "id": "eff64cac",
   "metadata": {},
   "outputs": [],
   "source": [
    "baseline_test = baseline_test.drop('id', axis=1)"
   ]
  },
  {
   "cell_type": "code",
   "execution_count": 23,
   "id": "1198496c",
   "metadata": {},
   "outputs": [
    {
     "data": {
      "text/html": [
       "<div>\n",
       "<style scoped>\n",
       "    .dataframe tbody tr th:only-of-type {\n",
       "        vertical-align: middle;\n",
       "    }\n",
       "\n",
       "    .dataframe tbody tr th {\n",
       "        vertical-align: top;\n",
       "    }\n",
       "\n",
       "    .dataframe thead th {\n",
       "        text-align: right;\n",
       "    }\n",
       "</style>\n",
       "<table border=\"1\" class=\"dataframe\">\n",
       "  <thead>\n",
       "    <tr style=\"text-align: right;\">\n",
       "      <th></th>\n",
       "      <th>carat</th>\n",
       "      <th>depth</th>\n",
       "      <th>table</th>\n",
       "      <th>x</th>\n",
       "      <th>y</th>\n",
       "      <th>z</th>\n",
       "      <th>city_Antwerp</th>\n",
       "      <th>city_Dubai</th>\n",
       "      <th>city_Kimberly</th>\n",
       "      <th>city_Las Vegas</th>\n",
       "      <th>...</th>\n",
       "      <th>color_H</th>\n",
       "      <th>color_I</th>\n",
       "      <th>color_J</th>\n",
       "      <th>clarity_IF</th>\n",
       "      <th>clarity_SI1</th>\n",
       "      <th>clarity_SI2</th>\n",
       "      <th>clarity_VS1</th>\n",
       "      <th>clarity_VS2</th>\n",
       "      <th>clarity_VVS1</th>\n",
       "      <th>clarity_VVS2</th>\n",
       "    </tr>\n",
       "  </thead>\n",
       "  <tbody>\n",
       "    <tr>\n",
       "      <th>0</th>\n",
       "      <td>0.79</td>\n",
       "      <td>62.7</td>\n",
       "      <td>60.0</td>\n",
       "      <td>5.82</td>\n",
       "      <td>5.89</td>\n",
       "      <td>3.67</td>\n",
       "      <td>0</td>\n",
       "      <td>0</td>\n",
       "      <td>0</td>\n",
       "      <td>0</td>\n",
       "      <td>...</td>\n",
       "      <td>0</td>\n",
       "      <td>0</td>\n",
       "      <td>0</td>\n",
       "      <td>0</td>\n",
       "      <td>1</td>\n",
       "      <td>0</td>\n",
       "      <td>0</td>\n",
       "      <td>0</td>\n",
       "      <td>0</td>\n",
       "      <td>0</td>\n",
       "    </tr>\n",
       "    <tr>\n",
       "      <th>1</th>\n",
       "      <td>1.20</td>\n",
       "      <td>61.0</td>\n",
       "      <td>57.0</td>\n",
       "      <td>6.81</td>\n",
       "      <td>6.89</td>\n",
       "      <td>4.18</td>\n",
       "      <td>0</td>\n",
       "      <td>0</td>\n",
       "      <td>0</td>\n",
       "      <td>0</td>\n",
       "      <td>...</td>\n",
       "      <td>0</td>\n",
       "      <td>0</td>\n",
       "      <td>1</td>\n",
       "      <td>0</td>\n",
       "      <td>0</td>\n",
       "      <td>0</td>\n",
       "      <td>1</td>\n",
       "      <td>0</td>\n",
       "      <td>0</td>\n",
       "      <td>0</td>\n",
       "    </tr>\n",
       "    <tr>\n",
       "      <th>2</th>\n",
       "      <td>1.57</td>\n",
       "      <td>62.2</td>\n",
       "      <td>61.0</td>\n",
       "      <td>7.38</td>\n",
       "      <td>7.32</td>\n",
       "      <td>4.57</td>\n",
       "      <td>0</td>\n",
       "      <td>0</td>\n",
       "      <td>1</td>\n",
       "      <td>0</td>\n",
       "      <td>...</td>\n",
       "      <td>1</td>\n",
       "      <td>0</td>\n",
       "      <td>0</td>\n",
       "      <td>0</td>\n",
       "      <td>1</td>\n",
       "      <td>0</td>\n",
       "      <td>0</td>\n",
       "      <td>0</td>\n",
       "      <td>0</td>\n",
       "      <td>0</td>\n",
       "    </tr>\n",
       "    <tr>\n",
       "      <th>3</th>\n",
       "      <td>0.90</td>\n",
       "      <td>63.8</td>\n",
       "      <td>54.0</td>\n",
       "      <td>6.09</td>\n",
       "      <td>6.13</td>\n",
       "      <td>3.90</td>\n",
       "      <td>0</td>\n",
       "      <td>0</td>\n",
       "      <td>1</td>\n",
       "      <td>0</td>\n",
       "      <td>...</td>\n",
       "      <td>0</td>\n",
       "      <td>0</td>\n",
       "      <td>0</td>\n",
       "      <td>0</td>\n",
       "      <td>1</td>\n",
       "      <td>0</td>\n",
       "      <td>0</td>\n",
       "      <td>0</td>\n",
       "      <td>0</td>\n",
       "      <td>0</td>\n",
       "    </tr>\n",
       "    <tr>\n",
       "      <th>4</th>\n",
       "      <td>0.50</td>\n",
       "      <td>62.9</td>\n",
       "      <td>58.0</td>\n",
       "      <td>5.05</td>\n",
       "      <td>5.09</td>\n",
       "      <td>3.19</td>\n",
       "      <td>0</td>\n",
       "      <td>0</td>\n",
       "      <td>0</td>\n",
       "      <td>0</td>\n",
       "      <td>...</td>\n",
       "      <td>0</td>\n",
       "      <td>0</td>\n",
       "      <td>0</td>\n",
       "      <td>0</td>\n",
       "      <td>0</td>\n",
       "      <td>0</td>\n",
       "      <td>1</td>\n",
       "      <td>0</td>\n",
       "      <td>0</td>\n",
       "      <td>0</td>\n",
       "    </tr>\n",
       "  </tbody>\n",
       "</table>\n",
       "<p>5 rows × 35 columns</p>\n",
       "</div>"
      ],
      "text/plain": [
       "   carat  depth  table     x     y     z  city_Antwerp  city_Dubai  \\\n",
       "0   0.79   62.7   60.0  5.82  5.89  3.67             0           0   \n",
       "1   1.20   61.0   57.0  6.81  6.89  4.18             0           0   \n",
       "2   1.57   62.2   61.0  7.38  7.32  4.57             0           0   \n",
       "3   0.90   63.8   54.0  6.09  6.13  3.90             0           0   \n",
       "4   0.50   62.9   58.0  5.05  5.09  3.19             0           0   \n",
       "\n",
       "   city_Kimberly  city_Las Vegas  ...  color_H  color_I  color_J  clarity_IF  \\\n",
       "0              0               0  ...        0        0        0           0   \n",
       "1              0               0  ...        0        0        1           0   \n",
       "2              1               0  ...        1        0        0           0   \n",
       "3              1               0  ...        0        0        0           0   \n",
       "4              0               0  ...        0        0        0           0   \n",
       "\n",
       "   clarity_SI1  clarity_SI2  clarity_VS1  clarity_VS2  clarity_VVS1  \\\n",
       "0            1            0            0            0             0   \n",
       "1            0            0            1            0             0   \n",
       "2            1            0            0            0             0   \n",
       "3            1            0            0            0             0   \n",
       "4            0            0            1            0             0   \n",
       "\n",
       "   clarity_VVS2  \n",
       "0             0  \n",
       "1             0  \n",
       "2             0  \n",
       "3             0  \n",
       "4             0  \n",
       "\n",
       "[5 rows x 35 columns]"
      ]
     },
     "execution_count": 23,
     "metadata": {},
     "output_type": "execute_result"
    }
   ],
   "source": [
    "baseline_test.head()"
   ]
  },
  {
   "cell_type": "markdown",
   "id": "58b6cf98",
   "metadata": {},
   "source": [
    "### Predict: LinearRegression"
   ]
  },
  {
   "cell_type": "code",
   "execution_count": 24,
   "id": "99b60006",
   "metadata": {},
   "outputs": [
    {
     "name": "stderr",
     "output_type": "stream",
     "text": [
      "C:\\Users\\Kristina\\miniconda3\\envs\\sklearn_env\\Lib\\site-packages\\sklearn\\utils\\validation.py:2732: UserWarning: X has feature names, but LinearRegression was fitted without feature names\n",
      "  warnings.warn(\n"
     ]
    }
   ],
   "source": [
    "linear_model_pred = model_linear.predict(baseline_test)"
   ]
  },
  {
   "cell_type": "code",
   "execution_count": 25,
   "id": "ce1d12f3",
   "metadata": {},
   "outputs": [
    {
     "data": {
      "text/plain": [
       "array([ 3663.15318434,  6301.51625872, 10100.28314186, ...,\n",
       "        3902.53069612,  1936.88218113,   713.46238336])"
      ]
     },
     "execution_count": 25,
     "metadata": {},
     "output_type": "execute_result"
    }
   ],
   "source": [
    "linear_model_pred"
   ]
  },
  {
   "cell_type": "markdown",
   "id": "d06c6ff0",
   "metadata": {},
   "source": [
    "### Predict: RandomForestRegressor"
   ]
  },
  {
   "cell_type": "code",
   "execution_count": 26,
   "id": "357e7ac2",
   "metadata": {},
   "outputs": [
    {
     "name": "stderr",
     "output_type": "stream",
     "text": [
      "C:\\Users\\Kristina\\miniconda3\\envs\\sklearn_env\\Lib\\site-packages\\sklearn\\utils\\validation.py:2732: UserWarning: X has feature names, but RandomForestRegressor was fitted without feature names\n",
      "  warnings.warn(\n"
     ]
    }
   ],
   "source": [
    "randomforest_model_pred = model_randomforest.predict(baseline_test)"
   ]
  },
  {
   "cell_type": "code",
   "execution_count": 27,
   "id": "481ce344",
   "metadata": {},
   "outputs": [
    {
     "data": {
      "text/plain": [
       "array([2939.39, 5274.58, 9598.17, ..., 3023.58, 2185.71,  823.94])"
      ]
     },
     "execution_count": 27,
     "metadata": {},
     "output_type": "execute_result"
    }
   ],
   "source": [
    "randomforest_model_pred"
   ]
  },
  {
   "cell_type": "markdown",
   "id": "7d4f0092",
   "metadata": {},
   "source": [
    "### Save"
   ]
  },
  {
   "cell_type": "code",
   "execution_count": 28,
   "id": "3d7fa775",
   "metadata": {},
   "outputs": [],
   "source": [
    "#fn.save_pred(diamonds_test, linear_model_pred, 'pred_baseline')"
   ]
  },
  {
   "cell_type": "code",
   "execution_count": 29,
   "id": "61b4b8e0",
   "metadata": {},
   "outputs": [
    {
     "data": {
      "text/plain": [
       "'file saved succesfully'"
      ]
     },
     "execution_count": 29,
     "metadata": {},
     "output_type": "execute_result"
    }
   ],
   "source": [
    "fn.save_pred(diamonds_test, randomforest_model_pred, 'encod01_featu00_model00')"
   ]
  }
 ],
 "metadata": {
  "kernelspec": {
   "display_name": "Python [conda env:sklearn_env]",
   "language": "python",
   "name": "conda-env-sklearn_env-py"
  },
  "language_info": {
   "codemirror_mode": {
    "name": "ipython",
    "version": 3
   },
   "file_extension": ".py",
   "mimetype": "text/x-python",
   "name": "python",
   "nbconvert_exporter": "python",
   "pygments_lexer": "ipython3",
   "version": "3.13.1"
  }
 },
 "nbformat": 4,
 "nbformat_minor": 5
}
