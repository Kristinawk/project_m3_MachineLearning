{
 "cells": [
  {
   "cell_type": "markdown",
   "id": "bbb0cf00",
   "metadata": {},
   "source": [
    "### _Imports_"
   ]
  },
  {
   "cell_type": "code",
   "execution_count": 1,
   "id": "f3028a4a",
   "metadata": {},
   "outputs": [],
   "source": [
    "import pandas as pd\n",
    "import numpy as np\n",
    "\n",
    "from sklearn.model_selection import train_test_split\n",
    "\n",
    "from sklearn.preprocessing import RobustScaler, StandardScaler\n",
    "\n",
    "from sklearn.linear_model  import ElasticNet\n",
    "from sklearn.linear_model import Ridge\n",
    "from sklearn.svm import SVR\n",
    "from sklearn.linear_model import SGDRegressor\n",
    "from sklearn.linear_model import LinearRegression\n",
    "from sklearn.ensemble import RandomForestRegressor\n",
    "from sklearn.tree import DecisionTreeRegressor\n",
    "from sklearn.ensemble import GradientBoostingRegressor\n",
    "from sklearn.ensemble import ExtraTreesRegressor\n",
    "from sklearn.ensemble import BaggingRegressor\n",
    "from sklearn.ensemble import StackingRegressor\n",
    "from sklearn.ensemble import AdaBoostRegressor\n",
    "from sklearn.neighbors import KNeighborsRegressor\n",
    "\n",
    "from xgboost import XGBRegressor\n",
    "from mlxtend.regressor import StackingCVRegressor\n",
    "from sklearn.linear_model import RidgeCV\n",
    "\n",
    "from sklearn.model_selection import GridSearchCV\n",
    "\n",
    "from sklearn.metrics import root_mean_squared_error\n",
    "from sklearn.metrics import r2_score\n",
    "from sklearn.model_selection import cross_val_score\n",
    "\n",
    "import seaborn as sns\n",
    "import matplotlib.pylab as plt\n",
    "\n",
    "import functions as fn # importing pre-defined functions from .py file (inside notebooks folder)"
   ]
  },
  {
   "cell_type": "markdown",
   "id": "61c6127e",
   "metadata": {},
   "source": [
    "### Upload diamonds train data from csv"
   ]
  },
  {
   "cell_type": "code",
   "execution_count": 2,
   "id": "8ca836cc",
   "metadata": {},
   "outputs": [
    {
     "data": {
      "text/html": [
       "<div>\n",
       "<style scoped>\n",
       "    .dataframe tbody tr th:only-of-type {\n",
       "        vertical-align: middle;\n",
       "    }\n",
       "\n",
       "    .dataframe tbody tr th {\n",
       "        vertical-align: top;\n",
       "    }\n",
       "\n",
       "    .dataframe thead th {\n",
       "        text-align: right;\n",
       "    }\n",
       "</style>\n",
       "<table border=\"1\" class=\"dataframe\">\n",
       "  <thead>\n",
       "    <tr style=\"text-align: right;\">\n",
       "      <th></th>\n",
       "      <th>price</th>\n",
       "      <th>carat</th>\n",
       "      <th>city</th>\n",
       "      <th>depth</th>\n",
       "      <th>table</th>\n",
       "      <th>x</th>\n",
       "      <th>y</th>\n",
       "      <th>z</th>\n",
       "      <th>cut</th>\n",
       "      <th>color</th>\n",
       "      <th>clarity</th>\n",
       "    </tr>\n",
       "  </thead>\n",
       "  <tbody>\n",
       "    <tr>\n",
       "      <th>0</th>\n",
       "      <td>4268</td>\n",
       "      <td>1.21</td>\n",
       "      <td>Dubai</td>\n",
       "      <td>62.4</td>\n",
       "      <td>58.0</td>\n",
       "      <td>6.83</td>\n",
       "      <td>6.79</td>\n",
       "      <td>4.25</td>\n",
       "      <td>Premium</td>\n",
       "      <td>J</td>\n",
       "      <td>VS2</td>\n",
       "    </tr>\n",
       "    <tr>\n",
       "      <th>1</th>\n",
       "      <td>505</td>\n",
       "      <td>0.32</td>\n",
       "      <td>Kimberly</td>\n",
       "      <td>63.0</td>\n",
       "      <td>57.0</td>\n",
       "      <td>4.35</td>\n",
       "      <td>4.38</td>\n",
       "      <td>2.75</td>\n",
       "      <td>Very Good</td>\n",
       "      <td>H</td>\n",
       "      <td>VS2</td>\n",
       "    </tr>\n",
       "    <tr>\n",
       "      <th>2</th>\n",
       "      <td>2686</td>\n",
       "      <td>0.71</td>\n",
       "      <td>Las Vegas</td>\n",
       "      <td>65.5</td>\n",
       "      <td>55.0</td>\n",
       "      <td>5.62</td>\n",
       "      <td>5.53</td>\n",
       "      <td>3.65</td>\n",
       "      <td>Fair</td>\n",
       "      <td>G</td>\n",
       "      <td>VS1</td>\n",
       "    </tr>\n",
       "    <tr>\n",
       "      <th>3</th>\n",
       "      <td>738</td>\n",
       "      <td>0.41</td>\n",
       "      <td>Kimberly</td>\n",
       "      <td>63.8</td>\n",
       "      <td>56.0</td>\n",
       "      <td>4.68</td>\n",
       "      <td>4.72</td>\n",
       "      <td>3.00</td>\n",
       "      <td>Good</td>\n",
       "      <td>D</td>\n",
       "      <td>SI1</td>\n",
       "    </tr>\n",
       "    <tr>\n",
       "      <th>4</th>\n",
       "      <td>4882</td>\n",
       "      <td>1.02</td>\n",
       "      <td>Dubai</td>\n",
       "      <td>60.5</td>\n",
       "      <td>59.0</td>\n",
       "      <td>6.55</td>\n",
       "      <td>6.51</td>\n",
       "      <td>3.95</td>\n",
       "      <td>Ideal</td>\n",
       "      <td>G</td>\n",
       "      <td>SI1</td>\n",
       "    </tr>\n",
       "  </tbody>\n",
       "</table>\n",
       "</div>"
      ],
      "text/plain": [
       "   price  carat       city  depth  table     x     y     z        cut color  \\\n",
       "0   4268   1.21      Dubai   62.4   58.0  6.83  6.79  4.25    Premium     J   \n",
       "1    505   0.32   Kimberly   63.0   57.0  4.35  4.38  2.75  Very Good     H   \n",
       "2   2686   0.71  Las Vegas   65.5   55.0  5.62  5.53  3.65       Fair     G   \n",
       "3    738   0.41   Kimberly   63.8   56.0  4.68  4.72  3.00       Good     D   \n",
       "4   4882   1.02      Dubai   60.5   59.0  6.55  6.51  3.95      Ideal     G   \n",
       "\n",
       "  clarity  \n",
       "0     VS2  \n",
       "1     VS2  \n",
       "2     VS1  \n",
       "3     SI1  \n",
       "4     SI1  "
      ]
     },
     "execution_count": 2,
     "metadata": {},
     "output_type": "execute_result"
    }
   ],
   "source": [
    "diamonds_train = pd.read_csv('../data/diamonds_train.csv')\n",
    "diamonds_train.head()"
   ]
  },
  {
   "cell_type": "markdown",
   "id": "d41ef47c",
   "metadata": {},
   "source": [
    "**Remark**: For the diamonds dataset, we have conducted an exploratory data analysis (EDA) in advance. Find references [here](https://github.com/Kristinawk/EDA_Diamonds).  \n",
    "  \n",
    "This dataset doesn't have nulls, therefore we can proceed directly with encoding."
   ]
  },
  {
   "cell_type": "markdown",
   "id": "83ab5a55",
   "metadata": {},
   "source": [
    "## 1. Encoding"
   ]
  },
  {
   "cell_type": "markdown",
   "id": "5957714c",
   "metadata": {},
   "source": [
    "### Categorical variables overview"
   ]
  },
  {
   "cell_type": "code",
   "execution_count": 3,
   "id": "04d1320b",
   "metadata": {},
   "outputs": [],
   "source": [
    "cat_var_lst = [\"city\", \"cut\", \"color\", \"clarity\"]\n",
    "#cat_var_overview = fn.cat_var(diamonds_train, cat_var_lst)\n",
    "#cat_var_overview"
   ]
  },
  {
   "cell_type": "markdown",
   "id": "48a3b6be",
   "metadata": {},
   "source": [
    "### One hot encoding"
   ]
  },
  {
   "cell_type": "code",
   "execution_count": 4,
   "id": "39bf8480",
   "metadata": {},
   "outputs": [],
   "source": [
    "baseline_train = fn.one_hot_encod(diamonds_train, cat_var_lst)"
   ]
  },
  {
   "cell_type": "code",
   "execution_count": 5,
   "id": "0317b460",
   "metadata": {},
   "outputs": [],
   "source": [
    "#baseline_train.head()"
   ]
  },
  {
   "cell_type": "markdown",
   "id": "225c2bcb",
   "metadata": {},
   "source": [
    "Checking that all features are numeric"
   ]
  },
  {
   "cell_type": "code",
   "execution_count": 6,
   "id": "cac258a9",
   "metadata": {
    "scrolled": true
   },
   "outputs": [],
   "source": [
    "#baseline_train.info()"
   ]
  },
  {
   "cell_type": "markdown",
   "id": "5a6e4eaf",
   "metadata": {},
   "source": [
    "## 2. Features selection and engineering"
   ]
  },
  {
   "cell_type": "markdown",
   "id": "86ed1902",
   "metadata": {},
   "source": [
    "In this phase we will not apply any changes to the features."
   ]
  },
  {
   "cell_type": "markdown",
   "id": "8c20bc15",
   "metadata": {},
   "source": [
    "### Save pre-processing to csv"
   ]
  },
  {
   "cell_type": "code",
   "execution_count": 7,
   "id": "a360ca17",
   "metadata": {},
   "outputs": [],
   "source": [
    "#baseline_train.to_csv('../data/baseline_train.csv', index=False)"
   ]
  },
  {
   "cell_type": "markdown",
   "id": "ea9bb7ef",
   "metadata": {},
   "source": [
    "## 3. Model selection"
   ]
  },
  {
   "cell_type": "code",
   "execution_count": 8,
   "id": "096f5848",
   "metadata": {},
   "outputs": [],
   "source": [
    "y = baseline_train['price'].astype('float64').to_numpy()\n",
    "X = baseline_train[[col for col in baseline_train.columns if col != 'price']].to_numpy()"
   ]
  },
  {
   "cell_type": "code",
   "execution_count": 9,
   "id": "1225564c",
   "metadata": {},
   "outputs": [],
   "source": [
    "X_train, X_test, y_train, y_test = train_test_split(X, y, test_size = 0.2, random_state = 42)\n",
    "#print(f\"X_train: {X_train.shape}, X_test: {X_test.shape}, y_train: {y_train.shape}, y_test: {y_test.shape}\")\n",
    "#print(f\"X_train: {type(X_train)}, X_test: {type(X_test)}, y_train: {type(y_train)}, y_test: {type(y_test)}\")"
   ]
  },
  {
   "cell_type": "markdown",
   "id": "3f895350",
   "metadata": {},
   "source": [
    "## 3. a) ElasticNet"
   ]
  },
  {
   "cell_type": "code",
   "execution_count": 13,
   "id": "6d14aa5f",
   "metadata": {},
   "outputs": [
    {
     "name": "stdout",
     "output_type": "stream",
     "text": [
      "Cross val. scores: [-1833.64390701 -1937.89311616 -1838.94606472 -1834.4722746\n",
      " -1803.07991273] \n",
      "\n",
      "Mean of scores: 1849.6070550429442 \n",
      "\n"
     ]
    }
   ],
   "source": [
    "model_elasticnet = ElasticNet()\n",
    "\n",
    "fn.cross_val(model_elasticnet, X, y)"
   ]
  },
  {
   "cell_type": "markdown",
   "id": "a88585a9",
   "metadata": {},
   "source": [
    "## 3. b) SVR"
   ]
  },
  {
   "cell_type": "code",
   "execution_count": 16,
   "id": "07e46456",
   "metadata": {},
   "outputs": [
    {
     "name": "stdout",
     "output_type": "stream",
     "text": [
      "Cross val. scores: [-4208.27630307 -4349.59084525 -4258.49970513 -4225.98461454\n",
      " -4222.88255361] \n",
      "\n",
      "Mean of scores: 4253.046804323332 \n",
      "\n"
     ]
    }
   ],
   "source": [
    "model_svr = SVR()\n",
    "\n",
    "fn.cross_val(model_svr, X, y)"
   ]
  },
  {
   "cell_type": "markdown",
   "id": "571d7d8a",
   "metadata": {},
   "source": [
    "## 3. c) Ridge"
   ]
  },
  {
   "cell_type": "code",
   "execution_count": 17,
   "id": "37d060f5",
   "metadata": {},
   "outputs": [
    {
     "name": "stdout",
     "output_type": "stream",
     "text": [
      "Cross val. scores: [-1162.37097317 -1236.84771998 -1181.36659532 -1123.77678443\n",
      " -1086.81019334] \n",
      "\n",
      "Mean of scores: 1158.2344532457496 \n",
      "\n"
     ]
    }
   ],
   "source": [
    "model_ridge = Ridge()\n",
    "\n",
    "fn.cross_val(model_ridge, X, y)"
   ]
  },
  {
   "cell_type": "markdown",
   "id": "7f0eaac7",
   "metadata": {},
   "source": [
    "## 3. d) Decision Tree Regressor"
   ]
  },
  {
   "cell_type": "code",
   "execution_count": 20,
   "id": "011cf379",
   "metadata": {},
   "outputs": [
    {
     "name": "stdout",
     "output_type": "stream",
     "text": [
      "Cross val. scores: [-877.62931559 -872.70115246 -907.36536323 -858.23774212 -845.13098535] \n",
      "\n",
      "Mean of scores: 872.2129117503431 \n",
      "\n"
     ]
    }
   ],
   "source": [
    "model_decisiontree = DecisionTreeRegressor()\n",
    "\n",
    "fn.cross_val(model_decisiontree, X, y)"
   ]
  },
  {
   "cell_type": "markdown",
   "id": "767fe0ff",
   "metadata": {},
   "source": [
    "## 3. e) RandomForestRegressor"
   ]
  },
  {
   "cell_type": "code",
   "execution_count": 48,
   "id": "99f35ea6",
   "metadata": {},
   "outputs": [
    {
     "name": "stdout",
     "output_type": "stream",
     "text": [
      "Cross val. scores: [-654.95224026 -662.57559913 -670.01148258 -665.67893135 -651.56808185] \n",
      "\n",
      "Mean of scores: 660.9572670347252 \n",
      "\n"
     ]
    }
   ],
   "source": [
    "model_randomforest = RandomForestRegressor()\n",
    "\n",
    "fn.cross_val(model_randomforest, X, y)"
   ]
  },
  {
   "cell_type": "markdown",
   "id": "5206fae4",
   "metadata": {},
   "source": [
    "## 3. f) GradientBoostingRegressor"
   ]
  },
  {
   "cell_type": "code",
   "execution_count": 23,
   "id": "929fbf18",
   "metadata": {},
   "outputs": [
    {
     "name": "stdout",
     "output_type": "stream",
     "text": [
      "Cross val. scores: [-879.59064277 -856.04185565 -889.98164808 -869.74512933 -827.06412632] \n",
      "\n",
      "Mean of scores: 864.484680430803 \n",
      "\n"
     ]
    }
   ],
   "source": [
    "model_gradientboosting = GradientBoostingRegressor()\n",
    "\n",
    "fn.cross_val(model_gradientboosting, X, y)"
   ]
  },
  {
   "cell_type": "markdown",
   "id": "7ff1a6e1",
   "metadata": {},
   "source": [
    "## 3. g) ExtraTreesRegressor"
   ]
  },
  {
   "cell_type": "code",
   "execution_count": 26,
   "id": "45088c38",
   "metadata": {},
   "outputs": [
    {
     "name": "stdout",
     "output_type": "stream",
     "text": [
      "Cross val. scores: [-613.81259552 -619.0077115  -614.08969898 -620.04012503 -598.93489935] \n",
      "\n",
      "Mean of scores: 613.1770060765838 \n",
      "\n"
     ]
    }
   ],
   "source": [
    "model_extratrees = ExtraTreesRegressor()\n",
    "\n",
    "fn.cross_val(model_extratrees, X, y)"
   ]
  },
  {
   "cell_type": "markdown",
   "id": "da31501c",
   "metadata": {},
   "source": [
    "## 3. h) BaggingRegressor"
   ]
  },
  {
   "cell_type": "code",
   "execution_count": 28,
   "id": "0a36a5f6",
   "metadata": {},
   "outputs": [
    {
     "name": "stdout",
     "output_type": "stream",
     "text": [
      "Cross val. scores: [-691.21925102 -708.19306603 -713.79584737 -700.17574779 -678.97964718] \n",
      "\n",
      "Mean of scores: 698.4727118796867 \n",
      "\n"
     ]
    }
   ],
   "source": [
    "model_bagging = BaggingRegressor()\n",
    "\n",
    "fn.cross_val(model_bagging, X, y)"
   ]
  },
  {
   "cell_type": "markdown",
   "id": "10fd7094",
   "metadata": {},
   "source": [
    "## 3. i) AdaBoostRegressor"
   ]
  },
  {
   "cell_type": "code",
   "execution_count": 31,
   "id": "116d0b68",
   "metadata": {},
   "outputs": [
    {
     "name": "stdout",
     "output_type": "stream",
     "text": [
      "Cross val. scores: [-1599.44833947 -1511.38562057 -1520.56161739 -1555.29603015\n",
      " -1547.01533228] \n",
      "\n",
      "Mean of scores: 1546.7413879698531 \n",
      "\n"
     ]
    }
   ],
   "source": [
    "model_adaboost = AdaBoostRegressor()\n",
    "\n",
    "fn.cross_val(model_adaboost, X, y)"
   ]
  },
  {
   "cell_type": "markdown",
   "id": "9bdf0bb5",
   "metadata": {},
   "source": [
    "## 3. j) XGBRegressor"
   ]
  },
  {
   "cell_type": "code",
   "execution_count": 13,
   "id": "d5dfb83a",
   "metadata": {},
   "outputs": [],
   "source": [
    "model_xgb = XGBRegressor(n_estimators=100, random_state=42)\n",
    "model_xgb.fit(X_train, y_train)\n",
    "y_pred = model_xgb.predict(X_test)"
   ]
  },
  {
   "cell_type": "code",
   "execution_count": 15,
   "id": "7c633fb8",
   "metadata": {},
   "outputs": [
    {
     "name": "stdout",
     "output_type": "stream",
     "text": [
      "604.736944806901\n"
     ]
    }
   ],
   "source": [
    "rmse = root_mean_squared_error(y_test, y_pred)\n",
    "print(rmse)"
   ]
  },
  {
   "cell_type": "markdown",
   "id": "f36de321",
   "metadata": {},
   "source": [
    "## 3. k) KNeighborsRegressor"
   ]
  },
  {
   "cell_type": "code",
   "execution_count": 17,
   "id": "4df3c97d",
   "metadata": {},
   "outputs": [
    {
     "name": "stdout",
     "output_type": "stream",
     "text": [
      "Cross val. scores: [-1163.55810032 -1159.10035929 -1201.77515276 -1189.10705478\n",
      " -1121.14549699] \n",
      "\n",
      "Mean of scores: 1166.9372328271334 \n",
      "\n"
     ]
    }
   ],
   "source": [
    "model_kneighbors = KNeighborsRegressor(n_neighbors=5)\n",
    "\n",
    "fn.cross_val(model_kneighbors, X, y)"
   ]
  },
  {
   "cell_type": "markdown",
   "id": "46388171",
   "metadata": {},
   "source": [
    "## 3. l) StackingRegressor"
   ]
  },
  {
   "cell_type": "code",
   "execution_count": 10,
   "id": "60baf4c3",
   "metadata": {},
   "outputs": [],
   "source": [
    "scaler = StandardScaler()\n",
    "scaled_data = scaler.fit_transform(X)"
   ]
  },
  {
   "cell_type": "code",
   "execution_count": 11,
   "id": "4c37768a",
   "metadata": {},
   "outputs": [],
   "source": [
    "X_train, X_test, y_train, y_test = train_test_split(scaled_data, y, test_size = 0.2, random_state = 42)"
   ]
  },
  {
   "cell_type": "code",
   "execution_count": 12,
   "id": "b4e89830",
   "metadata": {},
   "outputs": [],
   "source": [
    "# Define base models\n",
    "base_learners = [\n",
    "    ('rf', RandomForestRegressor(n_estimators=100, random_state=42)),\n",
    "    ('xgb', XGBRegressor(n_estimators=100, random_state=42, objective=\"reg:squarederror\")),\n",
    "    ('lr', ExtraTreesRegressor(n_estimators=100, random_state=42))\n",
    "]\n",
    "\n",
    "# Define meta-model\n",
    "meta_model = RidgeCV(alphas=[0.1, 1, 10, 100, 1000], store_cv_values=True)\n",
    "\n",
    "#    ('gb', GradientBoostingRegressor(n_estimators=100)),\n",
    "\n",
    "stacking_regressor = StackingRegressor(estimators=base_learners, final_estimator=meta_model)"
   ]
  },
  {
   "cell_type": "code",
   "execution_count": 13,
   "id": "603eb8c4",
   "metadata": {},
   "outputs": [
    {
     "data": {
      "text/html": [
       "<style>#sk-container-id-1 {\n",
       "  /* Definition of color scheme common for light and dark mode */\n",
       "  --sklearn-color-text: black;\n",
       "  --sklearn-color-line: gray;\n",
       "  /* Definition of color scheme for unfitted estimators */\n",
       "  --sklearn-color-unfitted-level-0: #fff5e6;\n",
       "  --sklearn-color-unfitted-level-1: #f6e4d2;\n",
       "  --sklearn-color-unfitted-level-2: #ffe0b3;\n",
       "  --sklearn-color-unfitted-level-3: chocolate;\n",
       "  /* Definition of color scheme for fitted estimators */\n",
       "  --sklearn-color-fitted-level-0: #f0f8ff;\n",
       "  --sklearn-color-fitted-level-1: #d4ebff;\n",
       "  --sklearn-color-fitted-level-2: #b3dbfd;\n",
       "  --sklearn-color-fitted-level-3: cornflowerblue;\n",
       "\n",
       "  /* Specific color for light theme */\n",
       "  --sklearn-color-text-on-default-background: var(--sg-text-color, var(--theme-code-foreground, var(--jp-content-font-color1, black)));\n",
       "  --sklearn-color-background: var(--sg-background-color, var(--theme-background, var(--jp-layout-color0, white)));\n",
       "  --sklearn-color-border-box: var(--sg-text-color, var(--theme-code-foreground, var(--jp-content-font-color1, black)));\n",
       "  --sklearn-color-icon: #696969;\n",
       "\n",
       "  @media (prefers-color-scheme: dark) {\n",
       "    /* Redefinition of color scheme for dark theme */\n",
       "    --sklearn-color-text-on-default-background: var(--sg-text-color, var(--theme-code-foreground, var(--jp-content-font-color1, white)));\n",
       "    --sklearn-color-background: var(--sg-background-color, var(--theme-background, var(--jp-layout-color0, #111)));\n",
       "    --sklearn-color-border-box: var(--sg-text-color, var(--theme-code-foreground, var(--jp-content-font-color1, white)));\n",
       "    --sklearn-color-icon: #878787;\n",
       "  }\n",
       "}\n",
       "\n",
       "#sk-container-id-1 {\n",
       "  color: var(--sklearn-color-text);\n",
       "}\n",
       "\n",
       "#sk-container-id-1 pre {\n",
       "  padding: 0;\n",
       "}\n",
       "\n",
       "#sk-container-id-1 input.sk-hidden--visually {\n",
       "  border: 0;\n",
       "  clip: rect(1px 1px 1px 1px);\n",
       "  clip: rect(1px, 1px, 1px, 1px);\n",
       "  height: 1px;\n",
       "  margin: -1px;\n",
       "  overflow: hidden;\n",
       "  padding: 0;\n",
       "  position: absolute;\n",
       "  width: 1px;\n",
       "}\n",
       "\n",
       "#sk-container-id-1 div.sk-dashed-wrapped {\n",
       "  border: 1px dashed var(--sklearn-color-line);\n",
       "  margin: 0 0.4em 0.5em 0.4em;\n",
       "  box-sizing: border-box;\n",
       "  padding-bottom: 0.4em;\n",
       "  background-color: var(--sklearn-color-background);\n",
       "}\n",
       "\n",
       "#sk-container-id-1 div.sk-container {\n",
       "  /* jupyter's `normalize.less` sets `[hidden] { display: none; }`\n",
       "     but bootstrap.min.css set `[hidden] { display: none !important; }`\n",
       "     so we also need the `!important` here to be able to override the\n",
       "     default hidden behavior on the sphinx rendered scikit-learn.org.\n",
       "     See: https://github.com/scikit-learn/scikit-learn/issues/21755 */\n",
       "  display: inline-block !important;\n",
       "  position: relative;\n",
       "}\n",
       "\n",
       "#sk-container-id-1 div.sk-text-repr-fallback {\n",
       "  display: none;\n",
       "}\n",
       "\n",
       "div.sk-parallel-item,\n",
       "div.sk-serial,\n",
       "div.sk-item {\n",
       "  /* draw centered vertical line to link estimators */\n",
       "  background-image: linear-gradient(var(--sklearn-color-text-on-default-background), var(--sklearn-color-text-on-default-background));\n",
       "  background-size: 2px 100%;\n",
       "  background-repeat: no-repeat;\n",
       "  background-position: center center;\n",
       "}\n",
       "\n",
       "/* Parallel-specific style estimator block */\n",
       "\n",
       "#sk-container-id-1 div.sk-parallel-item::after {\n",
       "  content: \"\";\n",
       "  width: 100%;\n",
       "  border-bottom: 2px solid var(--sklearn-color-text-on-default-background);\n",
       "  flex-grow: 1;\n",
       "}\n",
       "\n",
       "#sk-container-id-1 div.sk-parallel {\n",
       "  display: flex;\n",
       "  align-items: stretch;\n",
       "  justify-content: center;\n",
       "  background-color: var(--sklearn-color-background);\n",
       "  position: relative;\n",
       "}\n",
       "\n",
       "#sk-container-id-1 div.sk-parallel-item {\n",
       "  display: flex;\n",
       "  flex-direction: column;\n",
       "}\n",
       "\n",
       "#sk-container-id-1 div.sk-parallel-item:first-child::after {\n",
       "  align-self: flex-end;\n",
       "  width: 50%;\n",
       "}\n",
       "\n",
       "#sk-container-id-1 div.sk-parallel-item:last-child::after {\n",
       "  align-self: flex-start;\n",
       "  width: 50%;\n",
       "}\n",
       "\n",
       "#sk-container-id-1 div.sk-parallel-item:only-child::after {\n",
       "  width: 0;\n",
       "}\n",
       "\n",
       "/* Serial-specific style estimator block */\n",
       "\n",
       "#sk-container-id-1 div.sk-serial {\n",
       "  display: flex;\n",
       "  flex-direction: column;\n",
       "  align-items: center;\n",
       "  background-color: var(--sklearn-color-background);\n",
       "  padding-right: 1em;\n",
       "  padding-left: 1em;\n",
       "}\n",
       "\n",
       "\n",
       "/* Toggleable style: style used for estimator/Pipeline/ColumnTransformer box that is\n",
       "clickable and can be expanded/collapsed.\n",
       "- Pipeline and ColumnTransformer use this feature and define the default style\n",
       "- Estimators will overwrite some part of the style using the `sk-estimator` class\n",
       "*/\n",
       "\n",
       "/* Pipeline and ColumnTransformer style (default) */\n",
       "\n",
       "#sk-container-id-1 div.sk-toggleable {\n",
       "  /* Default theme specific background. It is overwritten whether we have a\n",
       "  specific estimator or a Pipeline/ColumnTransformer */\n",
       "  background-color: var(--sklearn-color-background);\n",
       "}\n",
       "\n",
       "/* Toggleable label */\n",
       "#sk-container-id-1 label.sk-toggleable__label {\n",
       "  cursor: pointer;\n",
       "  display: block;\n",
       "  width: 100%;\n",
       "  margin-bottom: 0;\n",
       "  padding: 0.5em;\n",
       "  box-sizing: border-box;\n",
       "  text-align: center;\n",
       "}\n",
       "\n",
       "#sk-container-id-1 label.sk-toggleable__label-arrow:before {\n",
       "  /* Arrow on the left of the label */\n",
       "  content: \"▸\";\n",
       "  float: left;\n",
       "  margin-right: 0.25em;\n",
       "  color: var(--sklearn-color-icon);\n",
       "}\n",
       "\n",
       "#sk-container-id-1 label.sk-toggleable__label-arrow:hover:before {\n",
       "  color: var(--sklearn-color-text);\n",
       "}\n",
       "\n",
       "/* Toggleable content - dropdown */\n",
       "\n",
       "#sk-container-id-1 div.sk-toggleable__content {\n",
       "  max-height: 0;\n",
       "  max-width: 0;\n",
       "  overflow: hidden;\n",
       "  text-align: left;\n",
       "  /* unfitted */\n",
       "  background-color: var(--sklearn-color-unfitted-level-0);\n",
       "}\n",
       "\n",
       "#sk-container-id-1 div.sk-toggleable__content.fitted {\n",
       "  /* fitted */\n",
       "  background-color: var(--sklearn-color-fitted-level-0);\n",
       "}\n",
       "\n",
       "#sk-container-id-1 div.sk-toggleable__content pre {\n",
       "  margin: 0.2em;\n",
       "  border-radius: 0.25em;\n",
       "  color: var(--sklearn-color-text);\n",
       "  /* unfitted */\n",
       "  background-color: var(--sklearn-color-unfitted-level-0);\n",
       "}\n",
       "\n",
       "#sk-container-id-1 div.sk-toggleable__content.fitted pre {\n",
       "  /* unfitted */\n",
       "  background-color: var(--sklearn-color-fitted-level-0);\n",
       "}\n",
       "\n",
       "#sk-container-id-1 input.sk-toggleable__control:checked~div.sk-toggleable__content {\n",
       "  /* Expand drop-down */\n",
       "  max-height: 200px;\n",
       "  max-width: 100%;\n",
       "  overflow: auto;\n",
       "}\n",
       "\n",
       "#sk-container-id-1 input.sk-toggleable__control:checked~label.sk-toggleable__label-arrow:before {\n",
       "  content: \"▾\";\n",
       "}\n",
       "\n",
       "/* Pipeline/ColumnTransformer-specific style */\n",
       "\n",
       "#sk-container-id-1 div.sk-label input.sk-toggleable__control:checked~label.sk-toggleable__label {\n",
       "  color: var(--sklearn-color-text);\n",
       "  background-color: var(--sklearn-color-unfitted-level-2);\n",
       "}\n",
       "\n",
       "#sk-container-id-1 div.sk-label.fitted input.sk-toggleable__control:checked~label.sk-toggleable__label {\n",
       "  background-color: var(--sklearn-color-fitted-level-2);\n",
       "}\n",
       "\n",
       "/* Estimator-specific style */\n",
       "\n",
       "/* Colorize estimator box */\n",
       "#sk-container-id-1 div.sk-estimator input.sk-toggleable__control:checked~label.sk-toggleable__label {\n",
       "  /* unfitted */\n",
       "  background-color: var(--sklearn-color-unfitted-level-2);\n",
       "}\n",
       "\n",
       "#sk-container-id-1 div.sk-estimator.fitted input.sk-toggleable__control:checked~label.sk-toggleable__label {\n",
       "  /* fitted */\n",
       "  background-color: var(--sklearn-color-fitted-level-2);\n",
       "}\n",
       "\n",
       "#sk-container-id-1 div.sk-label label.sk-toggleable__label,\n",
       "#sk-container-id-1 div.sk-label label {\n",
       "  /* The background is the default theme color */\n",
       "  color: var(--sklearn-color-text-on-default-background);\n",
       "}\n",
       "\n",
       "/* On hover, darken the color of the background */\n",
       "#sk-container-id-1 div.sk-label:hover label.sk-toggleable__label {\n",
       "  color: var(--sklearn-color-text);\n",
       "  background-color: var(--sklearn-color-unfitted-level-2);\n",
       "}\n",
       "\n",
       "/* Label box, darken color on hover, fitted */\n",
       "#sk-container-id-1 div.sk-label.fitted:hover label.sk-toggleable__label.fitted {\n",
       "  color: var(--sklearn-color-text);\n",
       "  background-color: var(--sklearn-color-fitted-level-2);\n",
       "}\n",
       "\n",
       "/* Estimator label */\n",
       "\n",
       "#sk-container-id-1 div.sk-label label {\n",
       "  font-family: monospace;\n",
       "  font-weight: bold;\n",
       "  display: inline-block;\n",
       "  line-height: 1.2em;\n",
       "}\n",
       "\n",
       "#sk-container-id-1 div.sk-label-container {\n",
       "  text-align: center;\n",
       "}\n",
       "\n",
       "/* Estimator-specific */\n",
       "#sk-container-id-1 div.sk-estimator {\n",
       "  font-family: monospace;\n",
       "  border: 1px dotted var(--sklearn-color-border-box);\n",
       "  border-radius: 0.25em;\n",
       "  box-sizing: border-box;\n",
       "  margin-bottom: 0.5em;\n",
       "  /* unfitted */\n",
       "  background-color: var(--sklearn-color-unfitted-level-0);\n",
       "}\n",
       "\n",
       "#sk-container-id-1 div.sk-estimator.fitted {\n",
       "  /* fitted */\n",
       "  background-color: var(--sklearn-color-fitted-level-0);\n",
       "}\n",
       "\n",
       "/* on hover */\n",
       "#sk-container-id-1 div.sk-estimator:hover {\n",
       "  /* unfitted */\n",
       "  background-color: var(--sklearn-color-unfitted-level-2);\n",
       "}\n",
       "\n",
       "#sk-container-id-1 div.sk-estimator.fitted:hover {\n",
       "  /* fitted */\n",
       "  background-color: var(--sklearn-color-fitted-level-2);\n",
       "}\n",
       "\n",
       "/* Specification for estimator info (e.g. \"i\" and \"?\") */\n",
       "\n",
       "/* Common style for \"i\" and \"?\" */\n",
       "\n",
       ".sk-estimator-doc-link,\n",
       "a:link.sk-estimator-doc-link,\n",
       "a:visited.sk-estimator-doc-link {\n",
       "  float: right;\n",
       "  font-size: smaller;\n",
       "  line-height: 1em;\n",
       "  font-family: monospace;\n",
       "  background-color: var(--sklearn-color-background);\n",
       "  border-radius: 1em;\n",
       "  height: 1em;\n",
       "  width: 1em;\n",
       "  text-decoration: none !important;\n",
       "  margin-left: 1ex;\n",
       "  /* unfitted */\n",
       "  border: var(--sklearn-color-unfitted-level-1) 1pt solid;\n",
       "  color: var(--sklearn-color-unfitted-level-1);\n",
       "}\n",
       "\n",
       ".sk-estimator-doc-link.fitted,\n",
       "a:link.sk-estimator-doc-link.fitted,\n",
       "a:visited.sk-estimator-doc-link.fitted {\n",
       "  /* fitted */\n",
       "  border: var(--sklearn-color-fitted-level-1) 1pt solid;\n",
       "  color: var(--sklearn-color-fitted-level-1);\n",
       "}\n",
       "\n",
       "/* On hover */\n",
       "div.sk-estimator:hover .sk-estimator-doc-link:hover,\n",
       ".sk-estimator-doc-link:hover,\n",
       "div.sk-label-container:hover .sk-estimator-doc-link:hover,\n",
       ".sk-estimator-doc-link:hover {\n",
       "  /* unfitted */\n",
       "  background-color: var(--sklearn-color-unfitted-level-3);\n",
       "  color: var(--sklearn-color-background);\n",
       "  text-decoration: none;\n",
       "}\n",
       "\n",
       "div.sk-estimator.fitted:hover .sk-estimator-doc-link.fitted:hover,\n",
       ".sk-estimator-doc-link.fitted:hover,\n",
       "div.sk-label-container:hover .sk-estimator-doc-link.fitted:hover,\n",
       ".sk-estimator-doc-link.fitted:hover {\n",
       "  /* fitted */\n",
       "  background-color: var(--sklearn-color-fitted-level-3);\n",
       "  color: var(--sklearn-color-background);\n",
       "  text-decoration: none;\n",
       "}\n",
       "\n",
       "/* Span, style for the box shown on hovering the info icon */\n",
       ".sk-estimator-doc-link span {\n",
       "  display: none;\n",
       "  z-index: 9999;\n",
       "  position: relative;\n",
       "  font-weight: normal;\n",
       "  right: .2ex;\n",
       "  padding: .5ex;\n",
       "  margin: .5ex;\n",
       "  width: min-content;\n",
       "  min-width: 20ex;\n",
       "  max-width: 50ex;\n",
       "  color: var(--sklearn-color-text);\n",
       "  box-shadow: 2pt 2pt 4pt #999;\n",
       "  /* unfitted */\n",
       "  background: var(--sklearn-color-unfitted-level-0);\n",
       "  border: .5pt solid var(--sklearn-color-unfitted-level-3);\n",
       "}\n",
       "\n",
       ".sk-estimator-doc-link.fitted span {\n",
       "  /* fitted */\n",
       "  background: var(--sklearn-color-fitted-level-0);\n",
       "  border: var(--sklearn-color-fitted-level-3);\n",
       "}\n",
       "\n",
       ".sk-estimator-doc-link:hover span {\n",
       "  display: block;\n",
       "}\n",
       "\n",
       "/* \"?\"-specific style due to the `<a>` HTML tag */\n",
       "\n",
       "#sk-container-id-1 a.estimator_doc_link {\n",
       "  float: right;\n",
       "  font-size: 1rem;\n",
       "  line-height: 1em;\n",
       "  font-family: monospace;\n",
       "  background-color: var(--sklearn-color-background);\n",
       "  border-radius: 1rem;\n",
       "  height: 1rem;\n",
       "  width: 1rem;\n",
       "  text-decoration: none;\n",
       "  /* unfitted */\n",
       "  color: var(--sklearn-color-unfitted-level-1);\n",
       "  border: var(--sklearn-color-unfitted-level-1) 1pt solid;\n",
       "}\n",
       "\n",
       "#sk-container-id-1 a.estimator_doc_link.fitted {\n",
       "  /* fitted */\n",
       "  border: var(--sklearn-color-fitted-level-1) 1pt solid;\n",
       "  color: var(--sklearn-color-fitted-level-1);\n",
       "}\n",
       "\n",
       "/* On hover */\n",
       "#sk-container-id-1 a.estimator_doc_link:hover {\n",
       "  /* unfitted */\n",
       "  background-color: var(--sklearn-color-unfitted-level-3);\n",
       "  color: var(--sklearn-color-background);\n",
       "  text-decoration: none;\n",
       "}\n",
       "\n",
       "#sk-container-id-1 a.estimator_doc_link.fitted:hover {\n",
       "  /* fitted */\n",
       "  background-color: var(--sklearn-color-fitted-level-3);\n",
       "}\n",
       "</style><div id=\"sk-container-id-1\" class=\"sk-top-container\"><div class=\"sk-text-repr-fallback\"><pre>StackingRegressor(estimators=[(&#x27;rf&#x27;, RandomForestRegressor(random_state=42)),\n",
       "                              (&#x27;xgb&#x27;,\n",
       "                               XGBRegressor(base_score=None, booster=None,\n",
       "                                            callbacks=None,\n",
       "                                            colsample_bylevel=None,\n",
       "                                            colsample_bynode=None,\n",
       "                                            colsample_bytree=None, device=None,\n",
       "                                            early_stopping_rounds=None,\n",
       "                                            enable_categorical=False,\n",
       "                                            eval_metric=None,\n",
       "                                            feature_types=None, gamma=None,\n",
       "                                            grow_policy=None,\n",
       "                                            importance_type...\n",
       "                                            learning_rate=None, max_bin=None,\n",
       "                                            max_cat_threshold=None,\n",
       "                                            max_cat_to_onehot=None,\n",
       "                                            max_delta_step=None, max_depth=None,\n",
       "                                            max_leaves=None,\n",
       "                                            min_child_weight=None, missing=nan,\n",
       "                                            monotone_constraints=None,\n",
       "                                            multi_strategy=None,\n",
       "                                            n_estimators=100, n_jobs=None,\n",
       "                                            num_parallel_tree=None,\n",
       "                                            random_state=42, ...)),\n",
       "                              (&#x27;lr&#x27;, ExtraTreesRegressor(random_state=42))],\n",
       "                  final_estimator=Ridge())</pre><b>In a Jupyter environment, please rerun this cell to show the HTML representation or trust the notebook. <br />On GitHub, the HTML representation is unable to render, please try loading this page with nbviewer.org.</b></div><div class=\"sk-container\" hidden><div class=\"sk-item sk-dashed-wrapped\"><div class=\"sk-label-container\"><div class=\"sk-label fitted sk-toggleable\"><input class=\"sk-toggleable__control sk-hidden--visually\" id=\"sk-estimator-id-1\" type=\"checkbox\" ><label for=\"sk-estimator-id-1\" class=\"sk-toggleable__label fitted sk-toggleable__label-arrow fitted\">&nbsp;&nbsp;StackingRegressor<a class=\"sk-estimator-doc-link fitted\" rel=\"noreferrer\" target=\"_blank\" href=\"https://scikit-learn.org/1.5/modules/generated/sklearn.ensemble.StackingRegressor.html\">?<span>Documentation for StackingRegressor</span></a><span class=\"sk-estimator-doc-link fitted\">i<span>Fitted</span></span></label><div class=\"sk-toggleable__content fitted\"><pre>StackingRegressor(estimators=[(&#x27;rf&#x27;, RandomForestRegressor(random_state=42)),\n",
       "                              (&#x27;xgb&#x27;,\n",
       "                               XGBRegressor(base_score=None, booster=None,\n",
       "                                            callbacks=None,\n",
       "                                            colsample_bylevel=None,\n",
       "                                            colsample_bynode=None,\n",
       "                                            colsample_bytree=None, device=None,\n",
       "                                            early_stopping_rounds=None,\n",
       "                                            enable_categorical=False,\n",
       "                                            eval_metric=None,\n",
       "                                            feature_types=None, gamma=None,\n",
       "                                            grow_policy=None,\n",
       "                                            importance_type...\n",
       "                                            learning_rate=None, max_bin=None,\n",
       "                                            max_cat_threshold=None,\n",
       "                                            max_cat_to_onehot=None,\n",
       "                                            max_delta_step=None, max_depth=None,\n",
       "                                            max_leaves=None,\n",
       "                                            min_child_weight=None, missing=nan,\n",
       "                                            monotone_constraints=None,\n",
       "                                            multi_strategy=None,\n",
       "                                            n_estimators=100, n_jobs=None,\n",
       "                                            num_parallel_tree=None,\n",
       "                                            random_state=42, ...)),\n",
       "                              (&#x27;lr&#x27;, ExtraTreesRegressor(random_state=42))],\n",
       "                  final_estimator=Ridge())</pre></div> </div></div><div class=\"sk-serial\"><div class=\"sk-item\"><div class=\"sk-parallel\"><div class=\"sk-parallel-item\"><div class=\"sk-item\"><div class=\"sk-label-container\"><div class=\"sk-label fitted sk-toggleable\"><label>rf</label></div></div><div class=\"sk-serial\"><div class=\"sk-item\"><div class=\"sk-estimator fitted sk-toggleable\"><input class=\"sk-toggleable__control sk-hidden--visually\" id=\"sk-estimator-id-2\" type=\"checkbox\" ><label for=\"sk-estimator-id-2\" class=\"sk-toggleable__label fitted sk-toggleable__label-arrow fitted\">&nbsp;RandomForestRegressor<a class=\"sk-estimator-doc-link fitted\" rel=\"noreferrer\" target=\"_blank\" href=\"https://scikit-learn.org/1.5/modules/generated/sklearn.ensemble.RandomForestRegressor.html\">?<span>Documentation for RandomForestRegressor</span></a></label><div class=\"sk-toggleable__content fitted\"><pre>RandomForestRegressor(random_state=42)</pre></div> </div></div></div></div></div><div class=\"sk-parallel-item\"><div class=\"sk-item\"><div class=\"sk-label-container\"><div class=\"sk-label fitted sk-toggleable\"><label>xgb</label></div></div><div class=\"sk-serial\"><div class=\"sk-item\"><div class=\"sk-estimator fitted sk-toggleable\"><input class=\"sk-toggleable__control sk-hidden--visually\" id=\"sk-estimator-id-3\" type=\"checkbox\" ><label for=\"sk-estimator-id-3\" class=\"sk-toggleable__label fitted sk-toggleable__label-arrow fitted\">XGBRegressor</label><div class=\"sk-toggleable__content fitted\"><pre>XGBRegressor(base_score=None, booster=None, callbacks=None,\n",
       "             colsample_bylevel=None, colsample_bynode=None,\n",
       "             colsample_bytree=None, device=None, early_stopping_rounds=None,\n",
       "             enable_categorical=False, eval_metric=None, feature_types=None,\n",
       "             gamma=None, grow_policy=None, importance_type=None,\n",
       "             interaction_constraints=None, learning_rate=None, max_bin=None,\n",
       "             max_cat_threshold=None, max_cat_to_onehot=None,\n",
       "             max_delta_step=None, max_depth=None, max_leaves=None,\n",
       "             min_child_weight=None, missing=nan, monotone_constraints=None,\n",
       "             multi_strategy=None, n_estimators=100, n_jobs=None,\n",
       "             num_parallel_tree=None, random_state=42, ...)</pre></div> </div></div></div></div></div><div class=\"sk-parallel-item\"><div class=\"sk-item\"><div class=\"sk-label-container\"><div class=\"sk-label fitted sk-toggleable\"><label>lr</label></div></div><div class=\"sk-serial\"><div class=\"sk-item\"><div class=\"sk-estimator fitted sk-toggleable\"><input class=\"sk-toggleable__control sk-hidden--visually\" id=\"sk-estimator-id-4\" type=\"checkbox\" ><label for=\"sk-estimator-id-4\" class=\"sk-toggleable__label fitted sk-toggleable__label-arrow fitted\">&nbsp;ExtraTreesRegressor<a class=\"sk-estimator-doc-link fitted\" rel=\"noreferrer\" target=\"_blank\" href=\"https://scikit-learn.org/1.5/modules/generated/sklearn.ensemble.ExtraTreesRegressor.html\">?<span>Documentation for ExtraTreesRegressor</span></a></label><div class=\"sk-toggleable__content fitted\"><pre>ExtraTreesRegressor(random_state=42)</pre></div> </div></div></div></div></div></div></div><div class=\"sk-item\"><div class=\"sk-parallel\"><div class=\"sk-parallel-item\"><div class=\"sk-item\"><div class=\"sk-label-container\"><div class=\"sk-label fitted sk-toggleable\"><label>final_estimator</label></div></div><div class=\"sk-serial\"><div class=\"sk-item\"><div class=\"sk-estimator fitted sk-toggleable\"><input class=\"sk-toggleable__control sk-hidden--visually\" id=\"sk-estimator-id-5\" type=\"checkbox\" ><label for=\"sk-estimator-id-5\" class=\"sk-toggleable__label fitted sk-toggleable__label-arrow fitted\">&nbsp;Ridge<a class=\"sk-estimator-doc-link fitted\" rel=\"noreferrer\" target=\"_blank\" href=\"https://scikit-learn.org/1.5/modules/generated/sklearn.linear_model.Ridge.html\">?<span>Documentation for Ridge</span></a></label><div class=\"sk-toggleable__content fitted\"><pre>Ridge()</pre></div> </div></div></div></div></div></div></div></div></div></div></div>"
      ],
      "text/plain": [
       "StackingRegressor(estimators=[('rf', RandomForestRegressor(random_state=42)),\n",
       "                              ('xgb',\n",
       "                               XGBRegressor(base_score=None, booster=None,\n",
       "                                            callbacks=None,\n",
       "                                            colsample_bylevel=None,\n",
       "                                            colsample_bynode=None,\n",
       "                                            colsample_bytree=None, device=None,\n",
       "                                            early_stopping_rounds=None,\n",
       "                                            enable_categorical=False,\n",
       "                                            eval_metric=None,\n",
       "                                            feature_types=None, gamma=None,\n",
       "                                            grow_policy=None,\n",
       "                                            importance_type...\n",
       "                                            learning_rate=None, max_bin=None,\n",
       "                                            max_cat_threshold=None,\n",
       "                                            max_cat_to_onehot=None,\n",
       "                                            max_delta_step=None, max_depth=None,\n",
       "                                            max_leaves=None,\n",
       "                                            min_child_weight=None, missing=nan,\n",
       "                                            monotone_constraints=None,\n",
       "                                            multi_strategy=None,\n",
       "                                            n_estimators=100, n_jobs=None,\n",
       "                                            num_parallel_tree=None,\n",
       "                                            random_state=42, ...)),\n",
       "                              ('lr', ExtraTreesRegressor(random_state=42))],\n",
       "                  final_estimator=Ridge())"
      ]
     },
     "execution_count": 13,
     "metadata": {},
     "output_type": "execute_result"
    }
   ],
   "source": [
    "stacking_regressor.fit(X_train, y_train)"
   ]
  },
  {
   "cell_type": "code",
   "execution_count": 14,
   "id": "8a70a015",
   "metadata": {},
   "outputs": [],
   "source": [
    "y_pred = stacking_regressor.predict(X_test)"
   ]
  },
  {
   "cell_type": "code",
   "execution_count": 15,
   "id": "25d6337b",
   "metadata": {},
   "outputs": [
    {
     "name": "stdout",
     "output_type": "stream",
     "text": [
      "570.6051095290945\n"
     ]
    }
   ],
   "source": [
    "rmse = root_mean_squared_error(y_test, y_pred)\n",
    "print(rmse)"
   ]
  },
  {
   "cell_type": "code",
   "execution_count": 34,
   "id": "c3b25e46",
   "metadata": {},
   "outputs": [
    {
     "name": "stdout",
     "output_type": "stream",
     "text": [
      "1.6.1\n"
     ]
    }
   ],
   "source": [
    "import sklearn\n",
    "print(sklearn.__version__)"
   ]
  },
  {
   "cell_type": "code",
   "execution_count": 35,
   "id": "de7526ff",
   "metadata": {},
   "outputs": [
    {
     "name": "stdout",
     "output_type": "stream",
     "text": [
      "Requirement already satisfied: scikit-learn in c:\\users\\kristina\\miniconda3\\envs\\sklearn_env\\lib\\site-packages (1.6.1)\n",
      "Requirement already satisfied: numpy>=1.19.5 in c:\\users\\kristina\\miniconda3\\envs\\sklearn_env\\lib\\site-packages (from scikit-learn) (2.1.3)\n",
      "Requirement already satisfied: scipy>=1.6.0 in c:\\users\\kristina\\miniconda3\\envs\\sklearn_env\\lib\\site-packages (from scikit-learn) (1.15.1)\n",
      "Requirement already satisfied: joblib>=1.2.0 in c:\\users\\kristina\\miniconda3\\envs\\sklearn_env\\lib\\site-packages (from scikit-learn) (1.4.2)\n",
      "Requirement already satisfied: threadpoolctl>=3.1.0 in c:\\users\\kristina\\miniconda3\\envs\\sklearn_env\\lib\\site-packages (from scikit-learn) (3.5.0)\n",
      "Note: you may need to restart the kernel to use updated packages.\n"
     ]
    }
   ],
   "source": [
    "pip install --upgrade scikit-learn"
   ]
  },
  {
   "cell_type": "code",
   "execution_count": 36,
   "id": "025c946f",
   "metadata": {},
   "outputs": [
    {
     "name": "stdout",
     "output_type": "stream",
     "text": [
      "2.1.1\n"
     ]
    }
   ],
   "source": [
    "import xgboost\n",
    "print(xgboost.__version__)"
   ]
  },
  {
   "cell_type": "code",
   "execution_count": 37,
   "id": "ddb5ed00",
   "metadata": {},
   "outputs": [
    {
     "name": "stdout",
     "output_type": "stream",
     "text": [
      "Requirement already satisfied: xgboost in c:\\users\\kristina\\miniconda3\\envs\\sklearn_env\\lib\\site-packages (2.1.1)\n",
      "Collecting xgboost\n",
      "  Downloading xgboost-2.1.3-py3-none-win_amd64.whl.metadata (2.1 kB)\n",
      "Requirement already satisfied: numpy in c:\\users\\kristina\\miniconda3\\envs\\sklearn_env\\lib\\site-packages (from xgboost) (2.1.3)\n",
      "Requirement already satisfied: scipy in c:\\users\\kristina\\miniconda3\\envs\\sklearn_env\\lib\\site-packages (from xgboost) (1.15.1)\n",
      "Downloading xgboost-2.1.3-py3-none-win_amd64.whl (124.9 MB)\n",
      "   ---------------------------------------- 0.0/124.9 MB ? eta -:--:--\n",
      "   -- ------------------------------------- 7.3/124.9 MB 41.7 MB/s eta 0:00:03\n",
      "   ---- ----------------------------------- 13.6/124.9 MB 34.8 MB/s eta 0:00:04\n",
      "   ------ --------------------------------- 21.8/124.9 MB 36.3 MB/s eta 0:00:03\n",
      "   -------- ------------------------------- 27.5/124.9 MB 36.6 MB/s eta 0:00:03\n",
      "   ---------- ----------------------------- 33.6/124.9 MB 34.6 MB/s eta 0:00:03\n",
      "   ------------- -------------------------- 41.7/124.9 MB 33.4 MB/s eta 0:00:03\n",
      "   --------------- ------------------------ 47.4/124.9 MB 33.3 MB/s eta 0:00:03\n",
      "   ------------------ --------------------- 56.4/124.9 MB 33.5 MB/s eta 0:00:03\n",
      "   --------------------- ------------------ 68.2/124.9 MB 36.7 MB/s eta 0:00:02\n",
      "   ---------------------- ----------------- 68.9/124.9 MB 32.6 MB/s eta 0:00:02\n",
      "   --------------------------- ------------ 84.7/124.9 MB 36.3 MB/s eta 0:00:02\n",
      "   ------------------------------- -------- 97.3/124.9 MB 38.2 MB/s eta 0:00:01\n",
      "   -------------------------------- ------ 104.1/124.9 MB 38.3 MB/s eta 0:00:01\n",
      "   ------------------------------------- - 119.0/124.9 MB 39.9 MB/s eta 0:00:01\n",
      "   --------------------------------------  124.8/124.9 MB 40.8 MB/s eta 0:00:01\n",
      "   --------------------------------------  124.8/124.9 MB 40.8 MB/s eta 0:00:01\n",
      "   --------------------------------------  124.8/124.9 MB 40.8 MB/s eta 0:00:01\n",
      "   --------------------------------------  124.8/124.9 MB 40.8 MB/s eta 0:00:01\n",
      "   --------------------------------------  124.8/124.9 MB 40.8 MB/s eta 0:00:01\n",
      "   --------------------------------------- 124.9/124.9 MB 29.7 MB/s eta 0:00:00\n",
      "Installing collected packages: xgboost\n",
      "  Attempting uninstall: xgboost\n",
      "    Found existing installation: xgboost 2.1.1\n",
      "    Uninstalling xgboost-2.1.1:\n",
      "      Successfully uninstalled xgboost-2.1.1\n",
      "Successfully installed xgboost-2.1.3\n",
      "Note: you may need to restart the kernel to use updated packages.\n"
     ]
    }
   ],
   "source": [
    "pip install --upgrade xgboost"
   ]
  },
  {
   "cell_type": "code",
   "execution_count": 20,
   "id": "b9874b30",
   "metadata": {},
   "outputs": [
    {
     "name": "stdout",
     "output_type": "stream",
     "text": [
      "Collecting mlxtend\n",
      "  Downloading mlxtend-0.23.4-py3-none-any.whl.metadata (7.3 kB)\n",
      "Requirement already satisfied: scipy>=1.2.1 in c:\\users\\kristina\\miniconda3\\envs\\sklearn_env\\lib\\site-packages (from mlxtend) (1.15.1)\n",
      "Requirement already satisfied: numpy>=1.16.2 in c:\\users\\kristina\\miniconda3\\envs\\sklearn_env\\lib\\site-packages (from mlxtend) (2.1.3)\n",
      "Requirement already satisfied: pandas>=0.24.2 in c:\\users\\kristina\\miniconda3\\envs\\sklearn_env\\lib\\site-packages (from mlxtend) (2.2.3)\n",
      "Requirement already satisfied: scikit-learn>=1.3.1 in c:\\users\\kristina\\miniconda3\\envs\\sklearn_env\\lib\\site-packages (from mlxtend) (1.6.1)\n",
      "Requirement already satisfied: matplotlib>=3.0.0 in c:\\users\\kristina\\miniconda3\\envs\\sklearn_env\\lib\\site-packages (from mlxtend) (3.10.0)\n",
      "Requirement already satisfied: joblib>=0.13.2 in c:\\users\\kristina\\miniconda3\\envs\\sklearn_env\\lib\\site-packages (from mlxtend) (1.4.2)\n",
      "Requirement already satisfied: contourpy>=1.0.1 in c:\\users\\kristina\\miniconda3\\envs\\sklearn_env\\lib\\site-packages (from matplotlib>=3.0.0->mlxtend) (1.3.1)\n",
      "Requirement already satisfied: cycler>=0.10 in c:\\users\\kristina\\miniconda3\\envs\\sklearn_env\\lib\\site-packages (from matplotlib>=3.0.0->mlxtend) (0.11.0)\n",
      "Requirement already satisfied: fonttools>=4.22.0 in c:\\users\\kristina\\miniconda3\\envs\\sklearn_env\\lib\\site-packages (from matplotlib>=3.0.0->mlxtend) (4.55.3)\n",
      "Requirement already satisfied: kiwisolver>=1.3.1 in c:\\users\\kristina\\miniconda3\\envs\\sklearn_env\\lib\\site-packages (from matplotlib>=3.0.0->mlxtend) (1.4.8)\n",
      "Requirement already satisfied: packaging>=20.0 in c:\\users\\kristina\\miniconda3\\envs\\sklearn_env\\lib\\site-packages (from matplotlib>=3.0.0->mlxtend) (24.2)\n",
      "Requirement already satisfied: pillow>=8 in c:\\users\\kristina\\miniconda3\\envs\\sklearn_env\\lib\\site-packages (from matplotlib>=3.0.0->mlxtend) (11.1.0)\n",
      "Requirement already satisfied: pyparsing>=2.3.1 in c:\\users\\kristina\\miniconda3\\envs\\sklearn_env\\lib\\site-packages (from matplotlib>=3.0.0->mlxtend) (3.2.0)\n",
      "Requirement already satisfied: python-dateutil>=2.7 in c:\\users\\kristina\\miniconda3\\envs\\sklearn_env\\lib\\site-packages (from matplotlib>=3.0.0->mlxtend) (2.9.0.post0)\n",
      "Requirement already satisfied: pytz>=2020.1 in c:\\users\\kristina\\miniconda3\\envs\\sklearn_env\\lib\\site-packages (from pandas>=0.24.2->mlxtend) (2024.1)\n",
      "Requirement already satisfied: tzdata>=2022.7 in c:\\users\\kristina\\miniconda3\\envs\\sklearn_env\\lib\\site-packages (from pandas>=0.24.2->mlxtend) (2023.3)\n",
      "Requirement already satisfied: threadpoolctl>=3.1.0 in c:\\users\\kristina\\miniconda3\\envs\\sklearn_env\\lib\\site-packages (from scikit-learn>=1.3.1->mlxtend) (3.5.0)\n",
      "Requirement already satisfied: six>=1.5 in c:\\users\\kristina\\miniconda3\\envs\\sklearn_env\\lib\\site-packages (from python-dateutil>=2.7->matplotlib>=3.0.0->mlxtend) (1.16.0)\n",
      "Downloading mlxtend-0.23.4-py3-none-any.whl (1.4 MB)\n",
      "   ---------------------------------------- 0.0/1.4 MB ? eta -:--:--\n",
      "   ---------------------------------------- 1.4/1.4 MB 28.9 MB/s eta 0:00:00\n",
      "Installing collected packages: mlxtend\n",
      "Successfully installed mlxtend-0.23.4\n",
      "Note: you may need to restart the kernel to use updated packages.\n"
     ]
    }
   ],
   "source": [
    "pip install mlxtend"
   ]
  },
  {
   "cell_type": "code",
   "execution_count": 36,
   "id": "ffb3d5cf",
   "metadata": {},
   "outputs": [
    {
     "name": "stdout",
     "output_type": "stream",
     "text": [
      "Requirement already satisfied: mlxtend in c:\\users\\kristina\\miniconda3\\envs\\sklearn_env\\lib\\site-packages (0.23.4)\n",
      "Requirement already satisfied: scipy>=1.2.1 in c:\\users\\kristina\\miniconda3\\envs\\sklearn_env\\lib\\site-packages (from mlxtend) (1.15.1)\n",
      "Requirement already satisfied: numpy>=1.16.2 in c:\\users\\kristina\\miniconda3\\envs\\sklearn_env\\lib\\site-packages (from mlxtend) (2.1.3)\n",
      "Requirement already satisfied: pandas>=0.24.2 in c:\\users\\kristina\\miniconda3\\envs\\sklearn_env\\lib\\site-packages (from mlxtend) (2.2.3)\n",
      "Requirement already satisfied: scikit-learn>=1.3.1 in c:\\users\\kristina\\miniconda3\\envs\\sklearn_env\\lib\\site-packages (from mlxtend) (1.6.1)\n",
      "Requirement already satisfied: matplotlib>=3.0.0 in c:\\users\\kristina\\miniconda3\\envs\\sklearn_env\\lib\\site-packages (from mlxtend) (3.10.0)\n",
      "Requirement already satisfied: joblib>=0.13.2 in c:\\users\\kristina\\miniconda3\\envs\\sklearn_env\\lib\\site-packages (from mlxtend) (1.4.2)\n",
      "Requirement already satisfied: contourpy>=1.0.1 in c:\\users\\kristina\\miniconda3\\envs\\sklearn_env\\lib\\site-packages (from matplotlib>=3.0.0->mlxtend) (1.3.1)\n",
      "Requirement already satisfied: cycler>=0.10 in c:\\users\\kristina\\miniconda3\\envs\\sklearn_env\\lib\\site-packages (from matplotlib>=3.0.0->mlxtend) (0.11.0)\n",
      "Requirement already satisfied: fonttools>=4.22.0 in c:\\users\\kristina\\miniconda3\\envs\\sklearn_env\\lib\\site-packages (from matplotlib>=3.0.0->mlxtend) (4.55.3)\n",
      "Requirement already satisfied: kiwisolver>=1.3.1 in c:\\users\\kristina\\miniconda3\\envs\\sklearn_env\\lib\\site-packages (from matplotlib>=3.0.0->mlxtend) (1.4.8)\n",
      "Requirement already satisfied: packaging>=20.0 in c:\\users\\kristina\\miniconda3\\envs\\sklearn_env\\lib\\site-packages (from matplotlib>=3.0.0->mlxtend) (24.2)\n",
      "Requirement already satisfied: pillow>=8 in c:\\users\\kristina\\miniconda3\\envs\\sklearn_env\\lib\\site-packages (from matplotlib>=3.0.0->mlxtend) (11.1.0)\n",
      "Requirement already satisfied: pyparsing>=2.3.1 in c:\\users\\kristina\\miniconda3\\envs\\sklearn_env\\lib\\site-packages (from matplotlib>=3.0.0->mlxtend) (3.2.0)\n",
      "Requirement already satisfied: python-dateutil>=2.7 in c:\\users\\kristina\\miniconda3\\envs\\sklearn_env\\lib\\site-packages (from matplotlib>=3.0.0->mlxtend) (2.9.0.post0)\n",
      "Requirement already satisfied: pytz>=2020.1 in c:\\users\\kristina\\miniconda3\\envs\\sklearn_env\\lib\\site-packages (from pandas>=0.24.2->mlxtend) (2024.1)\n",
      "Requirement already satisfied: tzdata>=2022.7 in c:\\users\\kristina\\miniconda3\\envs\\sklearn_env\\lib\\site-packages (from pandas>=0.24.2->mlxtend) (2023.3)\n",
      "Requirement already satisfied: threadpoolctl>=3.1.0 in c:\\users\\kristina\\miniconda3\\envs\\sklearn_env\\lib\\site-packages (from scikit-learn>=1.3.1->mlxtend) (3.5.0)\n",
      "Requirement already satisfied: six>=1.5 in c:\\users\\kristina\\miniconda3\\envs\\sklearn_env\\lib\\site-packages (from python-dateutil>=2.7->matplotlib>=3.0.0->mlxtend) (1.16.0)\n",
      "Note: you may need to restart the kernel to use updated packages.\n"
     ]
    }
   ],
   "source": [
    "pip install --upgrade mlxtend"
   ]
  },
  {
   "cell_type": "code",
   "execution_count": 16,
   "id": "d95473eb",
   "metadata": {},
   "outputs": [
    {
     "name": "stdout",
     "output_type": "stream",
     "text": [
      "Cross val. scores: [-575.73157062 -578.66210651 -576.53949067 -592.65811718 -568.79104359] \n",
      "\n",
      "Mean of scores: 578.4764657126952 \n",
      "\n"
     ]
    }
   ],
   "source": [
    "fn.cross_val(stacking_regressor, X, y)"
   ]
  },
  {
   "cell_type": "code",
   "execution_count": 46,
   "id": "d0eccf1c",
   "metadata": {},
   "outputs": [
    {
     "name": "stdout",
     "output_type": "stream",
     "text": [
      "Found existing installation: scikit-learn 1.6.1\n",
      "Uninstalling scikit-learn-1.6.1:\n",
      "  Successfully uninstalled scikit-learn-1.6.1\n"
     ]
    },
    {
     "name": "stderr",
     "output_type": "stream",
     "text": [
      "WARNING: Failed to remove contents in a temporary directory 'C:\\Users\\Kristina\\miniconda3\\envs\\sklearn_env\\Lib\\site-packages\\~klearn'.\n",
      "You can safely remove it manually.\n"
     ]
    },
    {
     "name": "stdout",
     "output_type": "stream",
     "text": [
      "Collecting scikit-learn==1.5.2\n",
      "  Downloading scikit_learn-1.5.2-cp313-cp313-win_amd64.whl.metadata (13 kB)\n",
      "Requirement already satisfied: numpy>=1.19.5 in c:\\users\\kristina\\miniconda3\\envs\\sklearn_env\\lib\\site-packages (from scikit-learn==1.5.2) (2.1.3)\n",
      "Requirement already satisfied: scipy>=1.6.0 in c:\\users\\kristina\\miniconda3\\envs\\sklearn_env\\lib\\site-packages (from scikit-learn==1.5.2) (1.15.1)\n",
      "Requirement already satisfied: joblib>=1.2.0 in c:\\users\\kristina\\miniconda3\\envs\\sklearn_env\\lib\\site-packages (from scikit-learn==1.5.2) (1.4.2)\n",
      "Requirement already satisfied: threadpoolctl>=3.1.0 in c:\\users\\kristina\\miniconda3\\envs\\sklearn_env\\lib\\site-packages (from scikit-learn==1.5.2) (3.5.0)\n",
      "Downloading scikit_learn-1.5.2-cp313-cp313-win_amd64.whl (11.0 MB)\n",
      "   ---------------------------------------- 0.0/11.0 MB ? eta -:--:--\n",
      "   ------------------------------ --------- 8.4/11.0 MB 46.4 MB/s eta 0:00:01\n",
      "   ---------------------------------------- 11.0/11.0 MB 28.2 MB/s eta 0:00:00\n",
      "Installing collected packages: scikit-learn\n",
      "Successfully installed scikit-learn-1.5.2\n"
     ]
    }
   ],
   "source": [
    "!pip uninstall -y scikit-learn\n",
    "!pip install scikit-learn==1.5.2"
   ]
  },
  {
   "cell_type": "markdown",
   "id": "929f1b6a",
   "metadata": {},
   "source": [
    "**CONCLUSION**: Stacking Regressor provides the best metrics: RMSE 606 in test dataset and 603 in Kaggle."
   ]
  },
  {
   "cell_type": "markdown",
   "id": "5a5ec2c9",
   "metadata": {},
   "source": [
    "### Grid Search: RandomForestRegressor"
   ]
  },
  {
   "cell_type": "code",
   "execution_count": 45,
   "id": "61e38197",
   "metadata": {},
   "outputs": [],
   "source": [
    "param_grid = {'n_estimators': [100, 200, 300],  # Number of trees in the forest.\n",
    "              'max_depth': [None, 3, 10],  # Maximum depth of the trees.\n",
    "              'min_samples_split': [2, 10],  # Minimum number of samples required to split an internal node.\n",
    "              'min_samples_leaf': [1, 4],  # Minimum number of samples required to be at a leaf node.\n",
    "              'max_features': [None, 'sqrt', 'log2']  # Number of features to consider when looking for the best split.\n",
    "              }"
   ]
  },
  {
   "cell_type": "code",
   "execution_count": 49,
   "id": "a07cdf2f",
   "metadata": {},
   "outputs": [],
   "source": [
    "grid_search = GridSearchCV(model_randomforest,\n",
    "                           param_grid,\n",
    "                           cv=5,\n",
    "                           verbose=3,\n",
    "                           scoring='neg_root_mean_squared_error',\n",
    "                           n_jobs=-1)"
   ]
  },
  {
   "cell_type": "code",
   "execution_count": 50,
   "id": "1b3af75d",
   "metadata": {},
   "outputs": [
    {
     "name": "stdout",
     "output_type": "stream",
     "text": [
      "Fitting 5 folds for each of 108 candidates, totalling 540 fits\n",
      "Best hyperparameters:  {'max_depth': None, 'max_features': None, 'min_samples_leaf': 1, 'min_samples_split': 2, 'n_estimators': 200} \n",
      "\n",
      "Best score:  659.2117645213639 \n",
      "\n"
     ]
    }
   ],
   "source": [
    "grid_search.fit(X, y)\n",
    "\n",
    "print('\\n')\n",
    "print('Best hyperparameters: ', grid_search.best_params_, '\\n')\n",
    "print('Best score: ', -grid_search.best_score_, '\\n')"
   ]
  },
  {
   "cell_type": "markdown",
   "id": "aa20cf27",
   "metadata": {},
   "source": [
    "### Grid Search: ExtraTreesRegressor"
   ]
  },
  {
   "cell_type": "code",
   "execution_count": 62,
   "id": "e3738d27",
   "metadata": {},
   "outputs": [],
   "source": [
    "param_grid = {'n_estimators': [100],  # Number of trees in the forest.\n",
    "              'max_depth': [None],  # Maximum depth of the trees.\n",
    "              'min_samples_split': [6],  # Minimum number of samples required to split an internal node.\n",
    "              'min_samples_leaf': [2],  # Minimum number of samples required to be at a leaf node.\n",
    "              'max_features': [None]  # Number of features to consider when looking for the best split.\n",
    "              }"
   ]
  },
  {
   "cell_type": "code",
   "execution_count": 63,
   "id": "9e2f7eae",
   "metadata": {},
   "outputs": [],
   "source": [
    "grid_search = GridSearchCV(model_extratrees,\n",
    "                           param_grid,\n",
    "                           cv=5,\n",
    "                           verbose=3,\n",
    "                           scoring='neg_root_mean_squared_error',\n",
    "                           n_jobs=-1)"
   ]
  },
  {
   "cell_type": "code",
   "execution_count": 64,
   "id": "b9c02ea3",
   "metadata": {},
   "outputs": [
    {
     "name": "stdout",
     "output_type": "stream",
     "text": [
      "Fitting 5 folds for each of 4 candidates, totalling 20 fits\n",
      "\n",
      "\n",
      "Best hyperparameters:  {'max_depth': None, 'max_features': None, 'min_samples_leaf': 2, 'min_samples_split': 6, 'n_estimators': 100} \n",
      "\n",
      "Best score:  606.4497365477694 \n",
      "\n"
     ]
    }
   ],
   "source": [
    "grid_search.fit(X, y)\n",
    "\n",
    "print('\\n')\n",
    "print('Best hyperparameters: ', grid_search.best_params_, '\\n')\n",
    "print('Best score: ', -grid_search.best_score_, '\\n')"
   ]
  },
  {
   "cell_type": "markdown",
   "id": "f0903a09",
   "metadata": {},
   "source": [
    "### Fit Model"
   ]
  },
  {
   "cell_type": "code",
   "execution_count": 32,
   "id": "76a8c562",
   "metadata": {},
   "outputs": [],
   "source": [
    "stacking_regressor.fit(X_train, y_train)\n",
    "y_pred = stacking_regressor.predict(X_test)"
   ]
  },
  {
   "cell_type": "markdown",
   "id": "e76da3e1",
   "metadata": {},
   "source": [
    "### Visual check"
   ]
  },
  {
   "cell_type": "code",
   "execution_count": 33,
   "id": "6bdcaaac",
   "metadata": {},
   "outputs": [
    {
     "data": {
      "text/html": [
       "<div>\n",
       "<style scoped>\n",
       "    .dataframe tbody tr th:only-of-type {\n",
       "        vertical-align: middle;\n",
       "    }\n",
       "\n",
       "    .dataframe tbody tr th {\n",
       "        vertical-align: top;\n",
       "    }\n",
       "\n",
       "    .dataframe thead th {\n",
       "        text-align: right;\n",
       "    }\n",
       "</style>\n",
       "<table border=\"1\" class=\"dataframe\">\n",
       "  <thead>\n",
       "    <tr style=\"text-align: right;\">\n",
       "      <th></th>\n",
       "      <th>Ground truth</th>\n",
       "      <th>Predictions</th>\n",
       "      <th>Diff</th>\n",
       "    </tr>\n",
       "  </thead>\n",
       "  <tbody>\n",
       "    <tr>\n",
       "      <th>0</th>\n",
       "      <td>2970.0</td>\n",
       "      <td>2770.399512</td>\n",
       "      <td>199.600488</td>\n",
       "    </tr>\n",
       "    <tr>\n",
       "      <th>1</th>\n",
       "      <td>3004.0</td>\n",
       "      <td>2308.476614</td>\n",
       "      <td>695.523386</td>\n",
       "    </tr>\n",
       "    <tr>\n",
       "      <th>2</th>\n",
       "      <td>838.0</td>\n",
       "      <td>873.415235</td>\n",
       "      <td>-35.415235</td>\n",
       "    </tr>\n",
       "    <tr>\n",
       "      <th>3</th>\n",
       "      <td>6468.0</td>\n",
       "      <td>6298.672997</td>\n",
       "      <td>169.327003</td>\n",
       "    </tr>\n",
       "    <tr>\n",
       "      <th>4</th>\n",
       "      <td>633.0</td>\n",
       "      <td>649.493764</td>\n",
       "      <td>-16.493764</td>\n",
       "    </tr>\n",
       "    <tr>\n",
       "      <th>...</th>\n",
       "      <td>...</td>\n",
       "      <td>...</td>\n",
       "      <td>...</td>\n",
       "    </tr>\n",
       "    <tr>\n",
       "      <th>8086</th>\n",
       "      <td>4764.0</td>\n",
       "      <td>4837.943558</td>\n",
       "      <td>-73.943558</td>\n",
       "    </tr>\n",
       "    <tr>\n",
       "      <th>8087</th>\n",
       "      <td>756.0</td>\n",
       "      <td>707.401323</td>\n",
       "      <td>48.598677</td>\n",
       "    </tr>\n",
       "    <tr>\n",
       "      <th>8088</th>\n",
       "      <td>2690.0</td>\n",
       "      <td>2936.127242</td>\n",
       "      <td>-246.127242</td>\n",
       "    </tr>\n",
       "    <tr>\n",
       "      <th>8089</th>\n",
       "      <td>3992.0</td>\n",
       "      <td>3955.995696</td>\n",
       "      <td>36.004304</td>\n",
       "    </tr>\n",
       "    <tr>\n",
       "      <th>8090</th>\n",
       "      <td>6629.0</td>\n",
       "      <td>8208.060600</td>\n",
       "      <td>-1579.060600</td>\n",
       "    </tr>\n",
       "  </tbody>\n",
       "</table>\n",
       "<p>8091 rows × 3 columns</p>\n",
       "</div>"
      ],
      "text/plain": [
       "      Ground truth  Predictions         Diff\n",
       "0           2970.0  2770.399512   199.600488\n",
       "1           3004.0  2308.476614   695.523386\n",
       "2            838.0   873.415235   -35.415235\n",
       "3           6468.0  6298.672997   169.327003\n",
       "4            633.0   649.493764   -16.493764\n",
       "...            ...          ...          ...\n",
       "8086        4764.0  4837.943558   -73.943558\n",
       "8087         756.0   707.401323    48.598677\n",
       "8088        2690.0  2936.127242  -246.127242\n",
       "8089        3992.0  3955.995696    36.004304\n",
       "8090        6629.0  8208.060600 -1579.060600\n",
       "\n",
       "[8091 rows x 3 columns]"
      ]
     },
     "execution_count": 33,
     "metadata": {},
     "output_type": "execute_result"
    }
   ],
   "source": [
    "check = pd.DataFrame({'Ground truth': y_test, 'Predictions': y_pred, 'Diff': y_test - y_pred})\n",
    "check"
   ]
  },
  {
   "cell_type": "code",
   "execution_count": 34,
   "id": "33704380",
   "metadata": {},
   "outputs": [],
   "source": [
    "check.reset_index(inplace=True)"
   ]
  },
  {
   "cell_type": "code",
   "execution_count": 35,
   "id": "b88c9571",
   "metadata": {},
   "outputs": [
    {
     "data": {
      "image/png": "[encoded data removed]",
      "text/plain": [
       "<Figure size 1200x300 with 1 Axes>"
      ]
     },
     "metadata": {},
     "output_type": "display_data"
    }
   ],
   "source": [
    "check.plot(x='index', y=['Ground truth', 'Predictions'], kind='line', figsize=(12, 3));"
   ]
  },
  {
   "cell_type": "code",
   "execution_count": 36,
   "id": "52adc1d9",
   "metadata": {},
   "outputs": [
    {
     "data": {
      "image/png": "[encoded data removed]",
      "text/plain": [
       "<Figure size 1000x500 with 1 Axes>"
      ]
     },
     "metadata": {},
     "output_type": "display_data"
    }
   ],
   "source": [
    "fig, ax = plt.subplots(nrows=1, ncols=1, figsize=(10, 5))\n",
    "\n",
    "ax.scatter(y_test, y_pred)\n",
    "ax.set_xlabel('Ground truth')\n",
    "ax.set_ylabel('Predictions')\n",
    "#ax.set_title('')\n",
    "plt.show()"
   ]
  },
  {
   "cell_type": "markdown",
   "id": "e95a0d01",
   "metadata": {},
   "source": [
    "# 4. Predictions"
   ]
  },
  {
   "cell_type": "markdown",
   "id": "d5b3cffc",
   "metadata": {},
   "source": [
    "### Upload diamonds test data from csv"
   ]
  },
  {
   "cell_type": "code",
   "execution_count": 37,
   "id": "b0933b91",
   "metadata": {},
   "outputs": [],
   "source": [
    "diamonds_test = pd.read_csv('../data/diamonds_test.csv')\n",
    "#diamonds_test.head()"
   ]
  },
  {
   "cell_type": "markdown",
   "id": "cd4beed2",
   "metadata": {},
   "source": [
    "### One-hot-encoding"
   ]
  },
  {
   "cell_type": "code",
   "execution_count": 38,
   "id": "3381dea2",
   "metadata": {},
   "outputs": [],
   "source": [
    "baseline_test = fn.one_hot_encod(diamonds_test, cat_var_lst)"
   ]
  },
  {
   "cell_type": "code",
   "execution_count": 39,
   "id": "eff64cac",
   "metadata": {},
   "outputs": [],
   "source": [
    "baseline_test = baseline_test.drop('id', axis=1)"
   ]
  },
  {
   "cell_type": "code",
   "execution_count": 40,
   "id": "1198496c",
   "metadata": {},
   "outputs": [],
   "source": [
    "#baseline_test.head()"
   ]
  },
  {
   "cell_type": "markdown",
   "id": "c5f92bb9",
   "metadata": {},
   "source": [
    "### Scalling"
   ]
  },
  {
   "cell_type": "code",
   "execution_count": 41,
   "id": "7329727c",
   "metadata": {},
   "outputs": [],
   "source": [
    "scaler = StandardScaler()\n",
    "scaled_data = scaler.fit_transform(baseline_test)"
   ]
  },
  {
   "cell_type": "code",
   "execution_count": null,
   "id": "f1a1d8b3",
   "metadata": {},
   "outputs": [],
   "source": []
  },
  {
   "cell_type": "markdown",
   "id": "d06c6ff0",
   "metadata": {},
   "source": [
    "### Predict: StackingRegressor"
   ]
  },
  {
   "cell_type": "code",
   "execution_count": 42,
   "id": "357e7ac2",
   "metadata": {},
   "outputs": [],
   "source": [
    "stacking_regressor_pred = stacking_regressor.predict(scaled_data)"
   ]
  },
  {
   "cell_type": "code",
   "execution_count": 43,
   "id": "481ce344",
   "metadata": {},
   "outputs": [
    {
     "data": {
      "text/plain": [
       "array([2506.85127391, 4132.91055108, 7546.42172684, ..., 2240.57310092,\n",
       "       1973.77774903,  476.88076483], shape=(13485,))"
      ]
     },
     "execution_count": 43,
     "metadata": {},
     "output_type": "execute_result"
    }
   ],
   "source": [
    "stacking_regressor_pred"
   ]
  },
  {
   "cell_type": "markdown",
   "id": "7d4f0092",
   "metadata": {},
   "source": [
    "### Save"
   ]
  },
  {
   "cell_type": "code",
   "execution_count": 27,
   "id": "61b4b8e0",
   "metadata": {},
   "outputs": [
    {
     "data": {
      "text/plain": [
       "'file saved succesfully'"
      ]
     },
     "execution_count": 27,
     "metadata": {},
     "output_type": "execute_result"
    }
   ],
   "source": [
    "fn.save_pred(diamonds_test, stacking_regressor_pred, 'encod01_featu00_model02')"
   ]
  },
  {
   "cell_type": "code",
   "execution_count": null,
   "id": "912762c7",
   "metadata": {},
   "outputs": [],
   "source": []
  }
 ],
 "metadata": {
  "kernelspec": {
   "display_name": "Python [conda env:sklearn_env]",
   "language": "python",
   "name": "conda-env-sklearn_env-py"
  },
  "language_info": {
   "codemirror_mode": {
    "name": "ipython",
    "version": 3
   },
   "file_extension": ".py",
   "mimetype": "text/x-python",
   "name": "python",
   "nbconvert_exporter": "python",
   "pygments_lexer": "ipython3",
   "version": "3.13.1"
  }
 },
 "nbformat": 4,
 "nbformat_minor": 5
}
