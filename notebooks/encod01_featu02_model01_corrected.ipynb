{
 "cells": [
  {
   "cell_type": "markdown",
   "id": "bbb0cf00",
   "metadata": {},
   "source": [
    "### _Imports_"
   ]
  },
  {
   "cell_type": "code",
   "execution_count": 54,
   "id": "f3028a4a",
   "metadata": {},
   "outputs": [],
   "source": [
    "import pandas as pd\n",
    "import numpy as np\n",
    "\n",
    "from sklearn.model_selection import train_test_split\n",
    "\n",
    "from sklearn.linear_model  import ElasticNet\n",
    "from sklearn.linear_model import Ridge\n",
    "from sklearn.svm import SVR\n",
    "from sklearn.linear_model import SGDRegressor\n",
    "from sklearn.linear_model import LinearRegression\n",
    "from sklearn.ensemble import RandomForestRegressor\n",
    "from sklearn.tree import DecisionTreeRegressor\n",
    "from sklearn.ensemble import GradientBoostingRegressor\n",
    "from sklearn.ensemble import ExtraTreesRegressor\n",
    "from sklearn.ensemble import BaggingRegressor\n",
    "from sklearn.ensemble import StackingRegressor\n",
    "from sklearn.ensemble import AdaBoostRegressor\n",
    "\n",
    "from sklearn.model_selection import GridSearchCV\n",
    "\n",
    "from sklearn.metrics import root_mean_squared_error\n",
    "from sklearn.metrics import r2_score\n",
    "from sklearn.model_selection import cross_val_score\n",
    "\n",
    "import functions as fn # importing pre-defined functions from .py file (inside notebooks folder)"
   ]
  },
  {
   "cell_type": "markdown",
   "id": "61c6127e",
   "metadata": {},
   "source": [
    "### Upload diamonds train data from csv"
   ]
  },
  {
   "cell_type": "code",
   "execution_count": 55,
   "id": "8ca836cc",
   "metadata": {},
   "outputs": [],
   "source": [
    "diamonds_train = pd.read_csv('../data/diamonds_train.csv')\n",
    "#diamonds_train.head()"
   ]
  },
  {
   "cell_type": "markdown",
   "id": "d41ef47c",
   "metadata": {},
   "source": [
    "**Remark**: For the diamonds dataset, we have conducted an exploratory data analysis (EDA) in advance. Find references [here](https://github.com/Kristinawk/EDA_Diamonds).  \n",
    "  \n",
    "This dataset doesn't have nulls, therefore we can proceed directly with encoding."
   ]
  },
  {
   "cell_type": "markdown",
   "id": "5a6e4eaf",
   "metadata": {},
   "source": [
    "## 1. Features selection and engineering"
   ]
  },
  {
   "cell_type": "markdown",
   "id": "86ed1902",
   "metadata": {},
   "source": [
    "During EDA we saw that some diamonds have ceros in size parameters x, y and z. It would be better to take these rows out for machine learning."
   ]
  },
  {
   "cell_type": "code",
   "execution_count": 56,
   "id": "dd01b4ba",
   "metadata": {},
   "outputs": [
    {
     "data": {
      "text/html": [
       "<div>\n",
       "<style scoped>\n",
       "    .dataframe tbody tr th:only-of-type {\n",
       "        vertical-align: middle;\n",
       "    }\n",
       "\n",
       "    .dataframe tbody tr th {\n",
       "        vertical-align: top;\n",
       "    }\n",
       "\n",
       "    .dataframe thead th {\n",
       "        text-align: right;\n",
       "    }\n",
       "</style>\n",
       "<table border=\"1\" class=\"dataframe\">\n",
       "  <thead>\n",
       "    <tr style=\"text-align: right;\">\n",
       "      <th></th>\n",
       "      <th>price</th>\n",
       "      <th>carat</th>\n",
       "      <th>depth</th>\n",
       "      <th>table</th>\n",
       "      <th>x</th>\n",
       "      <th>y</th>\n",
       "      <th>z</th>\n",
       "    </tr>\n",
       "  </thead>\n",
       "  <tbody>\n",
       "    <tr>\n",
       "      <th>count</th>\n",
       "      <td>40455.000000</td>\n",
       "      <td>40455.000000</td>\n",
       "      <td>40455.000000</td>\n",
       "      <td>40455.000000</td>\n",
       "      <td>40455.000000</td>\n",
       "      <td>40455.000000</td>\n",
       "      <td>40455.000000</td>\n",
       "    </tr>\n",
       "    <tr>\n",
       "      <th>mean</th>\n",
       "      <td>3928.444469</td>\n",
       "      <td>0.797706</td>\n",
       "      <td>61.752841</td>\n",
       "      <td>57.446133</td>\n",
       "      <td>5.729392</td>\n",
       "      <td>5.732819</td>\n",
       "      <td>3.537154</td>\n",
       "    </tr>\n",
       "    <tr>\n",
       "      <th>std</th>\n",
       "      <td>3992.416147</td>\n",
       "      <td>0.475544</td>\n",
       "      <td>1.431725</td>\n",
       "      <td>2.233535</td>\n",
       "      <td>1.124453</td>\n",
       "      <td>1.146650</td>\n",
       "      <td>0.697062</td>\n",
       "    </tr>\n",
       "    <tr>\n",
       "      <th>min</th>\n",
       "      <td>326.000000</td>\n",
       "      <td>0.200000</td>\n",
       "      <td>43.000000</td>\n",
       "      <td>43.000000</td>\n",
       "      <td>0.000000</td>\n",
       "      <td>0.000000</td>\n",
       "      <td>0.000000</td>\n",
       "    </tr>\n",
       "    <tr>\n",
       "      <th>25%</th>\n",
       "      <td>945.000000</td>\n",
       "      <td>0.400000</td>\n",
       "      <td>61.000000</td>\n",
       "      <td>56.000000</td>\n",
       "      <td>4.710000</td>\n",
       "      <td>4.720000</td>\n",
       "      <td>2.910000</td>\n",
       "    </tr>\n",
       "    <tr>\n",
       "      <th>50%</th>\n",
       "      <td>2397.000000</td>\n",
       "      <td>0.700000</td>\n",
       "      <td>61.800000</td>\n",
       "      <td>57.000000</td>\n",
       "      <td>5.690000</td>\n",
       "      <td>5.710000</td>\n",
       "      <td>3.520000</td>\n",
       "    </tr>\n",
       "    <tr>\n",
       "      <th>75%</th>\n",
       "      <td>5331.000000</td>\n",
       "      <td>1.040000</td>\n",
       "      <td>62.500000</td>\n",
       "      <td>59.000000</td>\n",
       "      <td>6.540000</td>\n",
       "      <td>6.540000</td>\n",
       "      <td>4.035000</td>\n",
       "    </tr>\n",
       "    <tr>\n",
       "      <th>max</th>\n",
       "      <td>18823.000000</td>\n",
       "      <td>4.500000</td>\n",
       "      <td>79.000000</td>\n",
       "      <td>95.000000</td>\n",
       "      <td>10.230000</td>\n",
       "      <td>58.900000</td>\n",
       "      <td>8.060000</td>\n",
       "    </tr>\n",
       "  </tbody>\n",
       "</table>\n",
       "</div>"
      ],
      "text/plain": [
       "              price         carat         depth         table             x  \\\n",
       "count  40455.000000  40455.000000  40455.000000  40455.000000  40455.000000   \n",
       "mean    3928.444469      0.797706     61.752841     57.446133      5.729392   \n",
       "std     3992.416147      0.475544      1.431725      2.233535      1.124453   \n",
       "min      326.000000      0.200000     43.000000     43.000000      0.000000   \n",
       "25%      945.000000      0.400000     61.000000     56.000000      4.710000   \n",
       "50%     2397.000000      0.700000     61.800000     57.000000      5.690000   \n",
       "75%     5331.000000      1.040000     62.500000     59.000000      6.540000   \n",
       "max    18823.000000      4.500000     79.000000     95.000000     10.230000   \n",
       "\n",
       "                  y             z  \n",
       "count  40455.000000  40455.000000  \n",
       "mean       5.732819      3.537154  \n",
       "std        1.146650      0.697062  \n",
       "min        0.000000      0.000000  \n",
       "25%        4.720000      2.910000  \n",
       "50%        5.710000      3.520000  \n",
       "75%        6.540000      4.035000  \n",
       "max       58.900000      8.060000  "
      ]
     },
     "execution_count": 56,
     "metadata": {},
     "output_type": "execute_result"
    }
   ],
   "source": [
    "diamonds_train.describe()"
   ]
  },
  {
   "cell_type": "code",
   "execution_count": 57,
   "id": "e529da9e",
   "metadata": {},
   "outputs": [
    {
     "data": {
      "text/plain": [
       "16"
      ]
     },
     "execution_count": 57,
     "metadata": {},
     "output_type": "execute_result"
    }
   ],
   "source": [
    "len(diamonds_train.query('x == 0 or y == 0 or z == 0'))"
   ]
  },
  {
   "cell_type": "markdown",
   "id": "85b7c00d",
   "metadata": {},
   "source": [
    "In total, there are 16 rows with this issue. Lets drop these values."
   ]
  },
  {
   "cell_type": "code",
   "execution_count": 58,
   "id": "17fc665d",
   "metadata": {},
   "outputs": [],
   "source": [
    "diamonds_train.drop(diamonds_train.query('x == 0 or y == 0 or z == 0').index, inplace=True)"
   ]
  },
  {
   "cell_type": "code",
   "execution_count": 59,
   "id": "aa4b16d9",
   "metadata": {},
   "outputs": [
    {
     "data": {
      "text/html": [
       "<div>\n",
       "<style scoped>\n",
       "    .dataframe tbody tr th:only-of-type {\n",
       "        vertical-align: middle;\n",
       "    }\n",
       "\n",
       "    .dataframe tbody tr th {\n",
       "        vertical-align: top;\n",
       "    }\n",
       "\n",
       "    .dataframe thead th {\n",
       "        text-align: right;\n",
       "    }\n",
       "</style>\n",
       "<table border=\"1\" class=\"dataframe\">\n",
       "  <thead>\n",
       "    <tr style=\"text-align: right;\">\n",
       "      <th></th>\n",
       "      <th>price</th>\n",
       "      <th>carat</th>\n",
       "      <th>depth</th>\n",
       "      <th>table</th>\n",
       "      <th>x</th>\n",
       "      <th>y</th>\n",
       "      <th>z</th>\n",
       "    </tr>\n",
       "  </thead>\n",
       "  <tbody>\n",
       "    <tr>\n",
       "      <th>count</th>\n",
       "      <td>40439.000000</td>\n",
       "      <td>40439.000000</td>\n",
       "      <td>40439.000000</td>\n",
       "      <td>40439.000000</td>\n",
       "      <td>40439.000000</td>\n",
       "      <td>40439.000000</td>\n",
       "      <td>40439.000000</td>\n",
       "    </tr>\n",
       "    <tr>\n",
       "      <th>mean</th>\n",
       "      <td>3926.535448</td>\n",
       "      <td>0.797425</td>\n",
       "      <td>61.753013</td>\n",
       "      <td>57.445543</td>\n",
       "      <td>5.729616</td>\n",
       "      <td>5.732897</td>\n",
       "      <td>3.538553</td>\n",
       "    </tr>\n",
       "    <tr>\n",
       "      <th>std</th>\n",
       "      <td>3990.024501</td>\n",
       "      <td>0.475257</td>\n",
       "      <td>1.431306</td>\n",
       "      <td>2.233055</td>\n",
       "      <td>1.122384</td>\n",
       "      <td>1.145002</td>\n",
       "      <td>0.693639</td>\n",
       "    </tr>\n",
       "    <tr>\n",
       "      <th>min</th>\n",
       "      <td>326.000000</td>\n",
       "      <td>0.200000</td>\n",
       "      <td>43.000000</td>\n",
       "      <td>43.000000</td>\n",
       "      <td>3.770000</td>\n",
       "      <td>3.720000</td>\n",
       "      <td>1.070000</td>\n",
       "    </tr>\n",
       "    <tr>\n",
       "      <th>25%</th>\n",
       "      <td>945.000000</td>\n",
       "      <td>0.400000</td>\n",
       "      <td>61.000000</td>\n",
       "      <td>56.000000</td>\n",
       "      <td>4.710000</td>\n",
       "      <td>4.720000</td>\n",
       "      <td>2.910000</td>\n",
       "    </tr>\n",
       "    <tr>\n",
       "      <th>50%</th>\n",
       "      <td>2396.000000</td>\n",
       "      <td>0.700000</td>\n",
       "      <td>61.800000</td>\n",
       "      <td>57.000000</td>\n",
       "      <td>5.690000</td>\n",
       "      <td>5.710000</td>\n",
       "      <td>3.520000</td>\n",
       "    </tr>\n",
       "    <tr>\n",
       "      <th>75%</th>\n",
       "      <td>5329.500000</td>\n",
       "      <td>1.040000</td>\n",
       "      <td>62.500000</td>\n",
       "      <td>59.000000</td>\n",
       "      <td>6.540000</td>\n",
       "      <td>6.540000</td>\n",
       "      <td>4.040000</td>\n",
       "    </tr>\n",
       "    <tr>\n",
       "      <th>max</th>\n",
       "      <td>18823.000000</td>\n",
       "      <td>4.500000</td>\n",
       "      <td>79.000000</td>\n",
       "      <td>95.000000</td>\n",
       "      <td>10.230000</td>\n",
       "      <td>58.900000</td>\n",
       "      <td>8.060000</td>\n",
       "    </tr>\n",
       "  </tbody>\n",
       "</table>\n",
       "</div>"
      ],
      "text/plain": [
       "              price         carat         depth         table             x  \\\n",
       "count  40439.000000  40439.000000  40439.000000  40439.000000  40439.000000   \n",
       "mean    3926.535448      0.797425     61.753013     57.445543      5.729616   \n",
       "std     3990.024501      0.475257      1.431306      2.233055      1.122384   \n",
       "min      326.000000      0.200000     43.000000     43.000000      3.770000   \n",
       "25%      945.000000      0.400000     61.000000     56.000000      4.710000   \n",
       "50%     2396.000000      0.700000     61.800000     57.000000      5.690000   \n",
       "75%     5329.500000      1.040000     62.500000     59.000000      6.540000   \n",
       "max    18823.000000      4.500000     79.000000     95.000000     10.230000   \n",
       "\n",
       "                  y             z  \n",
       "count  40439.000000  40439.000000  \n",
       "mean       5.732897      3.538553  \n",
       "std        1.145002      0.693639  \n",
       "min        3.720000      1.070000  \n",
       "25%        4.720000      2.910000  \n",
       "50%        5.710000      3.520000  \n",
       "75%        6.540000      4.040000  \n",
       "max       58.900000      8.060000  "
      ]
     },
     "execution_count": 59,
     "metadata": {},
     "output_type": "execute_result"
    }
   ],
   "source": [
    "diamonds_train.describe()"
   ]
  },
  {
   "cell_type": "markdown",
   "id": "96f3e72f",
   "metadata": {},
   "source": [
    "### Outliers"
   ]
  },
  {
   "cell_type": "markdown",
   "id": "5115a19e",
   "metadata": {},
   "source": [
    "Additionally we can do outliers analysis for these variables."
   ]
  },
  {
   "cell_type": "code",
   "execution_count": 60,
   "id": "9763ca19",
   "metadata": {},
   "outputs": [
    {
     "name": "stdout",
     "output_type": "stream",
     "text": [
      "x Upper bound: 9.285 Lower bound: 1.9649999999999999\n",
      "x Upper outliers 18 Lower outliers 0 \n",
      "\n",
      "y Upper bound: 9.27 Lower bound: 1.9899999999999993\n",
      "y Upper outliers 18 Lower outliers 0 \n",
      "\n",
      "z Upper bound: 5.734999999999999 Lower bound: 1.2150000000000003\n",
      "z Upper outliers 19 Lower outliers 1 \n",
      "\n"
     ]
    }
   ],
   "source": [
    "for col in ['x', 'y', 'z']:\n",
    "    q1 = diamonds_train[col].quantile(0.25)\n",
    "    q3 = diamonds_train[col].quantile(0.75)\n",
    "    iqr = q3 - q1\n",
    "    upper = q3 + 1.5 * iqr\n",
    "    upper_array = np.array(diamonds_train[col] >= upper)\n",
    "    lower = q1 - 1.5 * iqr\n",
    "    lower_array = np.array(diamonds_train[col] <= lower)\n",
    "    print(col, \"Upper bound:\", upper, \"Lower bound:\", lower)\n",
    "    print(col, \"Upper outliers\", upper_array.sum(), \"Lower outliers\", lower_array.sum(), '\\n')"
   ]
  },
  {
   "cell_type": "code",
   "execution_count": 61,
   "id": "8f83427f",
   "metadata": {},
   "outputs": [
    {
     "data": {
      "text/plain": [
       "27"
      ]
     },
     "execution_count": 61,
     "metadata": {},
     "output_type": "execute_result"
    }
   ],
   "source": [
    "len(diamonds_train.query('x > 9.28 or y > 9.27 or z > 5.73'))"
   ]
  },
  {
   "cell_type": "markdown",
   "id": "a817e590",
   "metadata": {},
   "source": [
    "Lets take out also these 27 rows."
   ]
  },
  {
   "cell_type": "code",
   "execution_count": 62,
   "id": "c398ed48",
   "metadata": {},
   "outputs": [],
   "source": [
    "diamonds_train.drop(diamonds_train.query('x > 9.28 or y > 9.27 or z > 5.73').index, inplace=True)"
   ]
  },
  {
   "cell_type": "code",
   "execution_count": 63,
   "id": "8687160a",
   "metadata": {},
   "outputs": [
    {
     "data": {
      "text/html": [
       "<div>\n",
       "<style scoped>\n",
       "    .dataframe tbody tr th:only-of-type {\n",
       "        vertical-align: middle;\n",
       "    }\n",
       "\n",
       "    .dataframe tbody tr th {\n",
       "        vertical-align: top;\n",
       "    }\n",
       "\n",
       "    .dataframe thead th {\n",
       "        text-align: right;\n",
       "    }\n",
       "</style>\n",
       "<table border=\"1\" class=\"dataframe\">\n",
       "  <thead>\n",
       "    <tr style=\"text-align: right;\">\n",
       "      <th></th>\n",
       "      <th>price</th>\n",
       "      <th>carat</th>\n",
       "      <th>depth</th>\n",
       "      <th>table</th>\n",
       "      <th>x</th>\n",
       "      <th>y</th>\n",
       "      <th>z</th>\n",
       "    </tr>\n",
       "  </thead>\n",
       "  <tbody>\n",
       "    <tr>\n",
       "      <th>count</th>\n",
       "      <td>40412.000000</td>\n",
       "      <td>40412.000000</td>\n",
       "      <td>40412.000000</td>\n",
       "      <td>40412.000000</td>\n",
       "      <td>40412.000000</td>\n",
       "      <td>40412.000000</td>\n",
       "      <td>40412.000000</td>\n",
       "    </tr>\n",
       "    <tr>\n",
       "      <th>mean</th>\n",
       "      <td>3919.081312</td>\n",
       "      <td>0.795810</td>\n",
       "      <td>61.752643</td>\n",
       "      <td>57.444776</td>\n",
       "      <td>5.727184</td>\n",
       "      <td>5.729259</td>\n",
       "      <td>3.536927</td>\n",
       "    </tr>\n",
       "    <tr>\n",
       "      <th>std</th>\n",
       "      <td>3979.978307</td>\n",
       "      <td>0.471078</td>\n",
       "      <td>1.429715</td>\n",
       "      <td>2.232493</td>\n",
       "      <td>1.118725</td>\n",
       "      <td>1.110596</td>\n",
       "      <td>0.690877</td>\n",
       "    </tr>\n",
       "    <tr>\n",
       "      <th>min</th>\n",
       "      <td>326.000000</td>\n",
       "      <td>0.200000</td>\n",
       "      <td>43.000000</td>\n",
       "      <td>43.000000</td>\n",
       "      <td>3.770000</td>\n",
       "      <td>3.720000</td>\n",
       "      <td>1.070000</td>\n",
       "    </tr>\n",
       "    <tr>\n",
       "      <th>25%</th>\n",
       "      <td>945.000000</td>\n",
       "      <td>0.400000</td>\n",
       "      <td>61.000000</td>\n",
       "      <td>56.000000</td>\n",
       "      <td>4.710000</td>\n",
       "      <td>4.720000</td>\n",
       "      <td>2.910000</td>\n",
       "    </tr>\n",
       "    <tr>\n",
       "      <th>50%</th>\n",
       "      <td>2394.000000</td>\n",
       "      <td>0.700000</td>\n",
       "      <td>61.800000</td>\n",
       "      <td>57.000000</td>\n",
       "      <td>5.690000</td>\n",
       "      <td>5.700000</td>\n",
       "      <td>3.520000</td>\n",
       "    </tr>\n",
       "    <tr>\n",
       "      <th>75%</th>\n",
       "      <td>5321.000000</td>\n",
       "      <td>1.040000</td>\n",
       "      <td>62.500000</td>\n",
       "      <td>59.000000</td>\n",
       "      <td>6.540000</td>\n",
       "      <td>6.540000</td>\n",
       "      <td>4.030000</td>\n",
       "    </tr>\n",
       "    <tr>\n",
       "      <th>max</th>\n",
       "      <td>18823.000000</td>\n",
       "      <td>3.050000</td>\n",
       "      <td>79.000000</td>\n",
       "      <td>95.000000</td>\n",
       "      <td>9.260000</td>\n",
       "      <td>9.250000</td>\n",
       "      <td>5.730000</td>\n",
       "    </tr>\n",
       "  </tbody>\n",
       "</table>\n",
       "</div>"
      ],
      "text/plain": [
       "              price         carat         depth         table             x  \\\n",
       "count  40412.000000  40412.000000  40412.000000  40412.000000  40412.000000   \n",
       "mean    3919.081312      0.795810     61.752643     57.444776      5.727184   \n",
       "std     3979.978307      0.471078      1.429715      2.232493      1.118725   \n",
       "min      326.000000      0.200000     43.000000     43.000000      3.770000   \n",
       "25%      945.000000      0.400000     61.000000     56.000000      4.710000   \n",
       "50%     2394.000000      0.700000     61.800000     57.000000      5.690000   \n",
       "75%     5321.000000      1.040000     62.500000     59.000000      6.540000   \n",
       "max    18823.000000      3.050000     79.000000     95.000000      9.260000   \n",
       "\n",
       "                  y             z  \n",
       "count  40412.000000  40412.000000  \n",
       "mean       5.729259      3.536927  \n",
       "std        1.110596      0.690877  \n",
       "min        3.720000      1.070000  \n",
       "25%        4.720000      2.910000  \n",
       "50%        5.700000      3.520000  \n",
       "75%        6.540000      4.030000  \n",
       "max        9.250000      5.730000  "
      ]
     },
     "execution_count": 63,
     "metadata": {},
     "output_type": "execute_result"
    }
   ],
   "source": [
    "diamonds_train.describe()"
   ]
  },
  {
   "cell_type": "markdown",
   "id": "951caf11",
   "metadata": {},
   "source": [
    "In our training dataset there are also outliers in price. Lets see if our model improves when we remove them."
   ]
  },
  {
   "cell_type": "code",
   "execution_count": 64,
   "id": "0b3c6226",
   "metadata": {},
   "outputs": [
    {
     "name": "stdout",
     "output_type": "stream",
     "text": [
      "price Upper bound: 11885.0 Lower bound: -5619.0\n",
      "price Upper outliers 2625 Lower outliers 0 \n",
      "\n"
     ]
    }
   ],
   "source": [
    "for col in ['price']:\n",
    "    q1 = diamonds_train[col].quantile(0.25)\n",
    "    q3 = diamonds_train[col].quantile(0.75)\n",
    "    iqr = q3 - q1\n",
    "    upper = q3 + 1.5 * iqr\n",
    "    upper_array = np.array(diamonds_train[col] >= upper)\n",
    "    lower = q1 - 1.5 * iqr\n",
    "    lower_array = np.array(diamonds_train[col] <= lower)\n",
    "    print(col, \"Upper bound:\", upper, \"Lower bound:\", lower)\n",
    "    print(col, \"Upper outliers\", upper_array.sum(), \"Lower outliers\", lower_array.sum(), '\\n')"
   ]
  },
  {
   "cell_type": "code",
   "execution_count": 72,
   "id": "20ef1bf1",
   "metadata": {},
   "outputs": [
    {
     "data": {
      "text/plain": [
       "0.12125111353063446"
      ]
     },
     "execution_count": 72,
     "metadata": {},
     "output_type": "execute_result"
    }
   ],
   "source": [
    "(len(diamonds_train[diamonds_train['price'] > 18600]) / len(diamonds_train)) *100"
   ]
  },
  {
   "cell_type": "code",
   "execution_count": 71,
   "id": "af643dc6",
   "metadata": {},
   "outputs": [
    {
     "data": {
      "text/plain": [
       "49"
      ]
     },
     "execution_count": 71,
     "metadata": {},
     "output_type": "execute_result"
    }
   ],
   "source": [
    "len(diamonds_train[diamonds_train['price'] > 18600])"
   ]
  },
  {
   "cell_type": "code",
   "execution_count": 52,
   "id": "647f63f0",
   "metadata": {},
   "outputs": [],
   "source": [
    "diamonds_train.drop(diamonds_train.query('price > 17500').index, inplace=True)"
   ]
  },
  {
   "cell_type": "code",
   "execution_count": 53,
   "id": "c49b7f4a",
   "metadata": {},
   "outputs": [
    {
     "data": {
      "text/html": [
       "<div>\n",
       "<style scoped>\n",
       "    .dataframe tbody tr th:only-of-type {\n",
       "        vertical-align: middle;\n",
       "    }\n",
       "\n",
       "    .dataframe tbody tr th {\n",
       "        vertical-align: top;\n",
       "    }\n",
       "\n",
       "    .dataframe thead th {\n",
       "        text-align: right;\n",
       "    }\n",
       "</style>\n",
       "<table border=\"1\" class=\"dataframe\">\n",
       "  <thead>\n",
       "    <tr style=\"text-align: right;\">\n",
       "      <th></th>\n",
       "      <th>price</th>\n",
       "      <th>carat</th>\n",
       "      <th>depth</th>\n",
       "      <th>table</th>\n",
       "      <th>x</th>\n",
       "      <th>y</th>\n",
       "      <th>z</th>\n",
       "    </tr>\n",
       "  </thead>\n",
       "  <tbody>\n",
       "    <tr>\n",
       "      <th>count</th>\n",
       "      <td>40063.000000</td>\n",
       "      <td>40063.000000</td>\n",
       "      <td>40063.000000</td>\n",
       "      <td>40063.000000</td>\n",
       "      <td>40063.000000</td>\n",
       "      <td>40063.000000</td>\n",
       "      <td>40063.000000</td>\n",
       "    </tr>\n",
       "    <tr>\n",
       "      <th>mean</th>\n",
       "      <td>3795.209146</td>\n",
       "      <td>0.785054</td>\n",
       "      <td>61.754844</td>\n",
       "      <td>57.439575</td>\n",
       "      <td>5.706417</td>\n",
       "      <td>5.708534</td>\n",
       "      <td>3.524308</td>\n",
       "    </tr>\n",
       "    <tr>\n",
       "      <th>std</th>\n",
       "      <td>3768.314204</td>\n",
       "      <td>0.458037</td>\n",
       "      <td>1.428721</td>\n",
       "      <td>2.233188</td>\n",
       "      <td>1.100533</td>\n",
       "      <td>1.092284</td>\n",
       "      <td>0.680071</td>\n",
       "    </tr>\n",
       "    <tr>\n",
       "      <th>min</th>\n",
       "      <td>326.000000</td>\n",
       "      <td>0.200000</td>\n",
       "      <td>43.000000</td>\n",
       "      <td>43.000000</td>\n",
       "      <td>3.770000</td>\n",
       "      <td>3.720000</td>\n",
       "      <td>1.070000</td>\n",
       "    </tr>\n",
       "    <tr>\n",
       "      <th>25%</th>\n",
       "      <td>942.000000</td>\n",
       "      <td>0.400000</td>\n",
       "      <td>61.000000</td>\n",
       "      <td>56.000000</td>\n",
       "      <td>4.700000</td>\n",
       "      <td>4.710000</td>\n",
       "      <td>2.900000</td>\n",
       "    </tr>\n",
       "    <tr>\n",
       "      <th>50%</th>\n",
       "      <td>2365.000000</td>\n",
       "      <td>0.700000</td>\n",
       "      <td>61.800000</td>\n",
       "      <td>57.000000</td>\n",
       "      <td>5.680000</td>\n",
       "      <td>5.690000</td>\n",
       "      <td>3.520000</td>\n",
       "    </tr>\n",
       "    <tr>\n",
       "      <th>75%</th>\n",
       "      <td>5226.000000</td>\n",
       "      <td>1.030000</td>\n",
       "      <td>62.500000</td>\n",
       "      <td>59.000000</td>\n",
       "      <td>6.520000</td>\n",
       "      <td>6.520000</td>\n",
       "      <td>4.030000</td>\n",
       "    </tr>\n",
       "    <tr>\n",
       "      <th>max</th>\n",
       "      <td>17496.000000</td>\n",
       "      <td>3.050000</td>\n",
       "      <td>79.000000</td>\n",
       "      <td>95.000000</td>\n",
       "      <td>9.260000</td>\n",
       "      <td>9.250000</td>\n",
       "      <td>5.730000</td>\n",
       "    </tr>\n",
       "  </tbody>\n",
       "</table>\n",
       "</div>"
      ],
      "text/plain": [
       "              price         carat         depth         table             x  \\\n",
       "count  40063.000000  40063.000000  40063.000000  40063.000000  40063.000000   \n",
       "mean    3795.209146      0.785054     61.754844     57.439575      5.706417   \n",
       "std     3768.314204      0.458037      1.428721      2.233188      1.100533   \n",
       "min      326.000000      0.200000     43.000000     43.000000      3.770000   \n",
       "25%      942.000000      0.400000     61.000000     56.000000      4.700000   \n",
       "50%     2365.000000      0.700000     61.800000     57.000000      5.680000   \n",
       "75%     5226.000000      1.030000     62.500000     59.000000      6.520000   \n",
       "max    17496.000000      3.050000     79.000000     95.000000      9.260000   \n",
       "\n",
       "                  y             z  \n",
       "count  40063.000000  40063.000000  \n",
       "mean       5.708534      3.524308  \n",
       "std        1.092284      0.680071  \n",
       "min        3.720000      1.070000  \n",
       "25%        4.710000      2.900000  \n",
       "50%        5.690000      3.520000  \n",
       "75%        6.520000      4.030000  \n",
       "max        9.250000      5.730000  "
      ]
     },
     "execution_count": 53,
     "metadata": {},
     "output_type": "execute_result"
    }
   ],
   "source": [
    "diamonds_train.describe()"
   ]
  },
  {
   "cell_type": "markdown",
   "id": "83ab5a55",
   "metadata": {},
   "source": [
    "## 2. Encoding"
   ]
  },
  {
   "cell_type": "markdown",
   "id": "5957714c",
   "metadata": {},
   "source": [
    "### Categorical variables overview"
   ]
  },
  {
   "cell_type": "code",
   "execution_count": 15,
   "id": "04d1320b",
   "metadata": {},
   "outputs": [],
   "source": [
    "cat_var_lst = [\"cut\", \"color\", \"clarity\"]\n",
    "#cat_var_overview = fn.cat_var(diamonds_train, cat_var_lst)\n",
    "#cat_var_overview"
   ]
  },
  {
   "cell_type": "markdown",
   "id": "48a3b6be",
   "metadata": {},
   "source": [
    "### One hot encoding"
   ]
  },
  {
   "cell_type": "code",
   "execution_count": 16,
   "id": "c08ed177",
   "metadata": {},
   "outputs": [],
   "source": [
    "diamonds_train.drop('city', axis=1, inplace=True)"
   ]
  },
  {
   "cell_type": "code",
   "execution_count": 17,
   "id": "39bf8480",
   "metadata": {},
   "outputs": [],
   "source": [
    "baseline_train = fn.one_hot_encod(diamonds_train, cat_var_lst)"
   ]
  },
  {
   "cell_type": "code",
   "execution_count": 18,
   "id": "0317b460",
   "metadata": {},
   "outputs": [
    {
     "data": {
      "text/html": [
       "<div>\n",
       "<style scoped>\n",
       "    .dataframe tbody tr th:only-of-type {\n",
       "        vertical-align: middle;\n",
       "    }\n",
       "\n",
       "    .dataframe tbody tr th {\n",
       "        vertical-align: top;\n",
       "    }\n",
       "\n",
       "    .dataframe thead th {\n",
       "        text-align: right;\n",
       "    }\n",
       "</style>\n",
       "<table border=\"1\" class=\"dataframe\">\n",
       "  <thead>\n",
       "    <tr style=\"text-align: right;\">\n",
       "      <th></th>\n",
       "      <th>price</th>\n",
       "      <th>carat</th>\n",
       "      <th>depth</th>\n",
       "      <th>table</th>\n",
       "      <th>x</th>\n",
       "      <th>y</th>\n",
       "      <th>z</th>\n",
       "      <th>cut_Good</th>\n",
       "      <th>cut_Ideal</th>\n",
       "      <th>cut_Premium</th>\n",
       "      <th>...</th>\n",
       "      <th>color_H</th>\n",
       "      <th>color_I</th>\n",
       "      <th>color_J</th>\n",
       "      <th>clarity_IF</th>\n",
       "      <th>clarity_SI1</th>\n",
       "      <th>clarity_SI2</th>\n",
       "      <th>clarity_VS1</th>\n",
       "      <th>clarity_VS2</th>\n",
       "      <th>clarity_VVS1</th>\n",
       "      <th>clarity_VVS2</th>\n",
       "    </tr>\n",
       "  </thead>\n",
       "  <tbody>\n",
       "    <tr>\n",
       "      <th>0</th>\n",
       "      <td>4268</td>\n",
       "      <td>1.21</td>\n",
       "      <td>62.4</td>\n",
       "      <td>58.0</td>\n",
       "      <td>6.83</td>\n",
       "      <td>6.79</td>\n",
       "      <td>4.25</td>\n",
       "      <td>0</td>\n",
       "      <td>0</td>\n",
       "      <td>1</td>\n",
       "      <td>...</td>\n",
       "      <td>0</td>\n",
       "      <td>0</td>\n",
       "      <td>1</td>\n",
       "      <td>0</td>\n",
       "      <td>0</td>\n",
       "      <td>0</td>\n",
       "      <td>0</td>\n",
       "      <td>1</td>\n",
       "      <td>0</td>\n",
       "      <td>0</td>\n",
       "    </tr>\n",
       "    <tr>\n",
       "      <th>1</th>\n",
       "      <td>505</td>\n",
       "      <td>0.32</td>\n",
       "      <td>63.0</td>\n",
       "      <td>57.0</td>\n",
       "      <td>4.35</td>\n",
       "      <td>4.38</td>\n",
       "      <td>2.75</td>\n",
       "      <td>0</td>\n",
       "      <td>0</td>\n",
       "      <td>0</td>\n",
       "      <td>...</td>\n",
       "      <td>1</td>\n",
       "      <td>0</td>\n",
       "      <td>0</td>\n",
       "      <td>0</td>\n",
       "      <td>0</td>\n",
       "      <td>0</td>\n",
       "      <td>0</td>\n",
       "      <td>1</td>\n",
       "      <td>0</td>\n",
       "      <td>0</td>\n",
       "    </tr>\n",
       "    <tr>\n",
       "      <th>2</th>\n",
       "      <td>2686</td>\n",
       "      <td>0.71</td>\n",
       "      <td>65.5</td>\n",
       "      <td>55.0</td>\n",
       "      <td>5.62</td>\n",
       "      <td>5.53</td>\n",
       "      <td>3.65</td>\n",
       "      <td>0</td>\n",
       "      <td>0</td>\n",
       "      <td>0</td>\n",
       "      <td>...</td>\n",
       "      <td>0</td>\n",
       "      <td>0</td>\n",
       "      <td>0</td>\n",
       "      <td>0</td>\n",
       "      <td>0</td>\n",
       "      <td>0</td>\n",
       "      <td>1</td>\n",
       "      <td>0</td>\n",
       "      <td>0</td>\n",
       "      <td>0</td>\n",
       "    </tr>\n",
       "    <tr>\n",
       "      <th>3</th>\n",
       "      <td>738</td>\n",
       "      <td>0.41</td>\n",
       "      <td>63.8</td>\n",
       "      <td>56.0</td>\n",
       "      <td>4.68</td>\n",
       "      <td>4.72</td>\n",
       "      <td>3.00</td>\n",
       "      <td>1</td>\n",
       "      <td>0</td>\n",
       "      <td>0</td>\n",
       "      <td>...</td>\n",
       "      <td>0</td>\n",
       "      <td>0</td>\n",
       "      <td>0</td>\n",
       "      <td>0</td>\n",
       "      <td>1</td>\n",
       "      <td>0</td>\n",
       "      <td>0</td>\n",
       "      <td>0</td>\n",
       "      <td>0</td>\n",
       "      <td>0</td>\n",
       "    </tr>\n",
       "    <tr>\n",
       "      <th>4</th>\n",
       "      <td>4882</td>\n",
       "      <td>1.02</td>\n",
       "      <td>60.5</td>\n",
       "      <td>59.0</td>\n",
       "      <td>6.55</td>\n",
       "      <td>6.51</td>\n",
       "      <td>3.95</td>\n",
       "      <td>0</td>\n",
       "      <td>1</td>\n",
       "      <td>0</td>\n",
       "      <td>...</td>\n",
       "      <td>0</td>\n",
       "      <td>0</td>\n",
       "      <td>0</td>\n",
       "      <td>0</td>\n",
       "      <td>1</td>\n",
       "      <td>0</td>\n",
       "      <td>0</td>\n",
       "      <td>0</td>\n",
       "      <td>0</td>\n",
       "      <td>0</td>\n",
       "    </tr>\n",
       "  </tbody>\n",
       "</table>\n",
       "<p>5 rows × 24 columns</p>\n",
       "</div>"
      ],
      "text/plain": [
       "   price  carat  depth  table     x     y     z  cut_Good  cut_Ideal  \\\n",
       "0   4268   1.21   62.4   58.0  6.83  6.79  4.25         0          0   \n",
       "1    505   0.32   63.0   57.0  4.35  4.38  2.75         0          0   \n",
       "2   2686   0.71   65.5   55.0  5.62  5.53  3.65         0          0   \n",
       "3    738   0.41   63.8   56.0  4.68  4.72  3.00         1          0   \n",
       "4   4882   1.02   60.5   59.0  6.55  6.51  3.95         0          1   \n",
       "\n",
       "   cut_Premium  ...  color_H  color_I  color_J  clarity_IF  clarity_SI1  \\\n",
       "0            1  ...        0        0        1           0            0   \n",
       "1            0  ...        1        0        0           0            0   \n",
       "2            0  ...        0        0        0           0            0   \n",
       "3            0  ...        0        0        0           0            1   \n",
       "4            0  ...        0        0        0           0            1   \n",
       "\n",
       "   clarity_SI2  clarity_VS1  clarity_VS2  clarity_VVS1  clarity_VVS2  \n",
       "0            0            0            1             0             0  \n",
       "1            0            0            1             0             0  \n",
       "2            0            1            0             0             0  \n",
       "3            0            0            0             0             0  \n",
       "4            0            0            0             0             0  \n",
       "\n",
       "[5 rows x 24 columns]"
      ]
     },
     "execution_count": 18,
     "metadata": {},
     "output_type": "execute_result"
    }
   ],
   "source": [
    "baseline_train.head()"
   ]
  },
  {
   "cell_type": "code",
   "execution_count": 19,
   "id": "592b6d5b",
   "metadata": {},
   "outputs": [
    {
     "data": {
      "text/plain": [
       "Index(['price', 'carat', 'depth', 'table', 'x', 'y', 'z', 'cut_Good',\n",
       "       'cut_Ideal', 'cut_Premium', 'cut_Very Good', 'color_E', 'color_F',\n",
       "       'color_G', 'color_H', 'color_I', 'color_J', 'clarity_IF', 'clarity_SI1',\n",
       "       'clarity_SI2', 'clarity_VS1', 'clarity_VS2', 'clarity_VVS1',\n",
       "       'clarity_VVS2'],\n",
       "      dtype='object')"
      ]
     },
     "execution_count": 19,
     "metadata": {},
     "output_type": "execute_result"
    }
   ],
   "source": [
    "baseline_train.columns"
   ]
  },
  {
   "cell_type": "markdown",
   "id": "225c2bcb",
   "metadata": {},
   "source": [
    "Checking that all features are numeric"
   ]
  },
  {
   "cell_type": "code",
   "execution_count": 20,
   "id": "cac258a9",
   "metadata": {
    "scrolled": true
   },
   "outputs": [],
   "source": [
    "#baseline_train.info()"
   ]
  },
  {
   "cell_type": "markdown",
   "id": "8c20bc15",
   "metadata": {},
   "source": [
    "### Save pre-processing to csv"
   ]
  },
  {
   "cell_type": "code",
   "execution_count": 21,
   "id": "a360ca17",
   "metadata": {},
   "outputs": [],
   "source": [
    "#baseline_train.to_csv('../data/baseline_train.csv', index=False)"
   ]
  },
  {
   "cell_type": "markdown",
   "id": "ea9bb7ef",
   "metadata": {},
   "source": [
    "## 3. Model selection"
   ]
  },
  {
   "cell_type": "code",
   "execution_count": 22,
   "id": "096f5848",
   "metadata": {},
   "outputs": [],
   "source": [
    "y = baseline_train['price'].astype('float64').to_numpy()\n",
    "X = baseline_train[[col for col in baseline_train.columns if col != 'price']].to_numpy()"
   ]
  },
  {
   "cell_type": "code",
   "execution_count": 23,
   "id": "1225564c",
   "metadata": {},
   "outputs": [],
   "source": [
    "X_train, X_test, y_train, y_test = train_test_split(X, y, test_size = 0.2, random_state = 42)\n",
    "#print(f\"X_train: {X_train.shape}, X_test: {X_test.shape}, y_train: {y_train.shape}, y_test: {y_test.shape}\")\n",
    "#print(f\"X_train: {type(X_train)}, X_test: {type(X_test)}, y_train: {type(y_train)}, y_test: {type(y_test)}\")"
   ]
  },
  {
   "cell_type": "markdown",
   "id": "767fe0ff",
   "metadata": {},
   "source": [
    "## 3. e) RandomForestRegressor"
   ]
  },
  {
   "cell_type": "code",
   "execution_count": 24,
   "id": "99f35ea6",
   "metadata": {},
   "outputs": [
    {
     "name": "stdout",
     "output_type": "stream",
     "text": [
      "Cross val. scores: [-526.17319698 -493.77696112 -522.70011064 -486.26905527 -492.13197383] \n",
      "\n",
      "Mean of scores: 504.21025956621315 \n",
      "\n"
     ]
    }
   ],
   "source": [
    "model_randomforest = RandomForestRegressor()\n",
    "\n",
    "fn.cross_val(model_randomforest, X, y)"
   ]
  },
  {
   "cell_type": "markdown",
   "id": "7ff1a6e1",
   "metadata": {},
   "source": [
    "## 3. g) ExtraTreesRegressor"
   ]
  },
  {
   "cell_type": "code",
   "execution_count": 25,
   "id": "45088c38",
   "metadata": {},
   "outputs": [
    {
     "name": "stdout",
     "output_type": "stream",
     "text": [
      "Cross val. scores: [-463.68933912 -452.0432465  -463.56627734 -464.75615071 -448.10928819] \n",
      "\n",
      "Mean of scores: 458.43286037260003 \n",
      "\n"
     ]
    }
   ],
   "source": [
    "model_extratrees = ExtraTreesRegressor()\n",
    "\n",
    "fn.cross_val(model_extratrees, X, y)"
   ]
  },
  {
   "cell_type": "markdown",
   "id": "929f1b6a",
   "metadata": {},
   "source": [
    "**CONCLUSION**: eliminating upper outliers in price improves significantly the model."
   ]
  },
  {
   "cell_type": "markdown",
   "id": "f0903a09",
   "metadata": {},
   "source": [
    "### Fit Model"
   ]
  },
  {
   "cell_type": "code",
   "execution_count": 26,
   "id": "76a8c562",
   "metadata": {},
   "outputs": [],
   "source": [
    "model_extratrees.fit(X_train, y_train)\n",
    "y_pred = model_extratrees.predict(X_test)"
   ]
  },
  {
   "cell_type": "markdown",
   "id": "e76da3e1",
   "metadata": {},
   "source": [
    "### Visual check"
   ]
  },
  {
   "cell_type": "code",
   "execution_count": 27,
   "id": "6bdcaaac",
   "metadata": {},
   "outputs": [
    {
     "data": {
      "text/html": [
       "<div>\n",
       "<style scoped>\n",
       "    .dataframe tbody tr th:only-of-type {\n",
       "        vertical-align: middle;\n",
       "    }\n",
       "\n",
       "    .dataframe tbody tr th {\n",
       "        vertical-align: top;\n",
       "    }\n",
       "\n",
       "    .dataframe thead th {\n",
       "        text-align: right;\n",
       "    }\n",
       "</style>\n",
       "<table border=\"1\" class=\"dataframe\">\n",
       "  <thead>\n",
       "    <tr style=\"text-align: right;\">\n",
       "      <th></th>\n",
       "      <th>Ground truth</th>\n",
       "      <th>Predictions</th>\n",
       "      <th>Diff</th>\n",
       "    </tr>\n",
       "  </thead>\n",
       "  <tbody>\n",
       "    <tr>\n",
       "      <th>0</th>\n",
       "      <td>1436.0</td>\n",
       "      <td>1610.92</td>\n",
       "      <td>-174.92</td>\n",
       "    </tr>\n",
       "    <tr>\n",
       "      <th>1</th>\n",
       "      <td>780.0</td>\n",
       "      <td>778.65</td>\n",
       "      <td>1.35</td>\n",
       "    </tr>\n",
       "    <tr>\n",
       "      <th>2</th>\n",
       "      <td>625.0</td>\n",
       "      <td>606.60</td>\n",
       "      <td>18.40</td>\n",
       "    </tr>\n",
       "    <tr>\n",
       "      <th>3</th>\n",
       "      <td>3816.0</td>\n",
       "      <td>3691.89</td>\n",
       "      <td>124.11</td>\n",
       "    </tr>\n",
       "    <tr>\n",
       "      <th>4</th>\n",
       "      <td>6285.0</td>\n",
       "      <td>6302.00</td>\n",
       "      <td>-17.00</td>\n",
       "    </tr>\n",
       "    <tr>\n",
       "      <th>...</th>\n",
       "      <td>...</td>\n",
       "      <td>...</td>\n",
       "      <td>...</td>\n",
       "    </tr>\n",
       "    <tr>\n",
       "      <th>7833</th>\n",
       "      <td>4637.0</td>\n",
       "      <td>4763.99</td>\n",
       "      <td>-126.99</td>\n",
       "    </tr>\n",
       "    <tr>\n",
       "      <th>7834</th>\n",
       "      <td>1567.0</td>\n",
       "      <td>1696.08</td>\n",
       "      <td>-129.08</td>\n",
       "    </tr>\n",
       "    <tr>\n",
       "      <th>7835</th>\n",
       "      <td>337.0</td>\n",
       "      <td>388.79</td>\n",
       "      <td>-51.79</td>\n",
       "    </tr>\n",
       "    <tr>\n",
       "      <th>7836</th>\n",
       "      <td>1959.0</td>\n",
       "      <td>1625.52</td>\n",
       "      <td>333.48</td>\n",
       "    </tr>\n",
       "    <tr>\n",
       "      <th>7837</th>\n",
       "      <td>6843.0</td>\n",
       "      <td>6415.31</td>\n",
       "      <td>427.69</td>\n",
       "    </tr>\n",
       "  </tbody>\n",
       "</table>\n",
       "<p>7838 rows × 3 columns</p>\n",
       "</div>"
      ],
      "text/plain": [
       "      Ground truth  Predictions    Diff\n",
       "0           1436.0      1610.92 -174.92\n",
       "1            780.0       778.65    1.35\n",
       "2            625.0       606.60   18.40\n",
       "3           3816.0      3691.89  124.11\n",
       "4           6285.0      6302.00  -17.00\n",
       "...            ...          ...     ...\n",
       "7833        4637.0      4763.99 -126.99\n",
       "7834        1567.0      1696.08 -129.08\n",
       "7835         337.0       388.79  -51.79\n",
       "7836        1959.0      1625.52  333.48\n",
       "7837        6843.0      6415.31  427.69\n",
       "\n",
       "[7838 rows x 3 columns]"
      ]
     },
     "execution_count": 27,
     "metadata": {},
     "output_type": "execute_result"
    }
   ],
   "source": [
    "check = pd.DataFrame({'Ground truth': y_test, 'Predictions': y_pred, 'Diff': y_test - y_pred})\n",
    "check"
   ]
  },
  {
   "cell_type": "code",
   "execution_count": 28,
   "id": "33704380",
   "metadata": {},
   "outputs": [],
   "source": [
    "check.reset_index(inplace=True)"
   ]
  },
  {
   "cell_type": "code",
   "execution_count": 29,
   "id": "b88c9571",
   "metadata": {},
   "outputs": [
    {
     "data": {
      "image/png": "[encoded data removed]",
      "text/plain": [
       "<Figure size 1200x300 with 1 Axes>"
      ]
     },
     "metadata": {},
     "output_type": "display_data"
    }
   ],
   "source": [
    "check.plot(x='index', y=['Ground truth', 'Predictions'], kind='line', figsize=(12, 3));"
   ]
  },
  {
   "cell_type": "markdown",
   "id": "e95a0d01",
   "metadata": {},
   "source": [
    "# 4. Predictions"
   ]
  },
  {
   "cell_type": "markdown",
   "id": "d5b3cffc",
   "metadata": {},
   "source": [
    "### Upload diamonds test data from csv"
   ]
  },
  {
   "cell_type": "code",
   "execution_count": 30,
   "id": "b0933b91",
   "metadata": {},
   "outputs": [],
   "source": [
    "diamonds_test = pd.read_csv('../data/diamonds_test.csv')\n",
    "#diamonds_test.head()"
   ]
  },
  {
   "cell_type": "markdown",
   "id": "cd4beed2",
   "metadata": {},
   "source": [
    "### One-hot-encoding"
   ]
  },
  {
   "cell_type": "code",
   "execution_count": 31,
   "id": "3381dea2",
   "metadata": {},
   "outputs": [],
   "source": [
    "baseline_test = fn.one_hot_encod(diamonds_test, cat_var_lst)"
   ]
  },
  {
   "cell_type": "code",
   "execution_count": 32,
   "id": "eff64cac",
   "metadata": {},
   "outputs": [],
   "source": [
    "baseline_test = baseline_test[['carat', 'depth', 'table', 'x', 'y', 'z', 'cut_Good',\n",
    "       'cut_Ideal', 'cut_Premium', 'cut_Very Good', 'color_E', 'color_F',\n",
    "       'color_G', 'color_H', 'color_I', 'color_J', 'clarity_IF', 'clarity_SI1',\n",
    "       'clarity_SI2', 'clarity_VS1', 'clarity_VS2', 'clarity_VVS1',\n",
    "       'clarity_VVS2']]"
   ]
  },
  {
   "cell_type": "code",
   "execution_count": 33,
   "id": "1198496c",
   "metadata": {},
   "outputs": [],
   "source": [
    "#baseline_test.head()"
   ]
  },
  {
   "cell_type": "markdown",
   "id": "d06c6ff0",
   "metadata": {},
   "source": [
    "### Predict: ExtraTreesRegressor"
   ]
  },
  {
   "cell_type": "code",
   "execution_count": 34,
   "id": "357e7ac2",
   "metadata": {},
   "outputs": [
    {
     "name": "stderr",
     "output_type": "stream",
     "text": [
      "C:\\Users\\Kristina\\miniconda3\\envs\\sklearn_env\\Lib\\site-packages\\sklearn\\base.py:486: UserWarning: X has feature names, but ExtraTreesRegressor was fitted without feature names\n",
      "  warnings.warn(\n"
     ]
    }
   ],
   "source": [
    "extratrees_model_pred = model_extratrees.predict(baseline_test)"
   ]
  },
  {
   "cell_type": "code",
   "execution_count": 35,
   "id": "481ce344",
   "metadata": {},
   "outputs": [
    {
     "data": {
      "text/plain": [
       "array([3048.93, 5360.04, 9338.79, ..., 3107.28, 2165.32,  864.51],\n",
       "      shape=(13485,))"
      ]
     },
     "execution_count": 35,
     "metadata": {},
     "output_type": "execute_result"
    }
   ],
   "source": [
    "extratrees_model_pred"
   ]
  },
  {
   "cell_type": "markdown",
   "id": "7d4f0092",
   "metadata": {},
   "source": [
    "### Save"
   ]
  },
  {
   "cell_type": "code",
   "execution_count": 36,
   "id": "61b4b8e0",
   "metadata": {},
   "outputs": [
    {
     "data": {
      "text/plain": [
       "'file saved succesfully'"
      ]
     },
     "execution_count": 36,
     "metadata": {},
     "output_type": "execute_result"
    }
   ],
   "source": [
    "fn.save_pred(diamonds_test, extratrees_model_pred, 'encod01_featu02_model01_corrected')"
   ]
  },
  {
   "cell_type": "code",
   "execution_count": null,
   "id": "912762c7",
   "metadata": {},
   "outputs": [],
   "source": []
  }
 ],
 "metadata": {
  "kernelspec": {
   "display_name": "Python [conda env:sklearn_env]",
   "language": "python",
   "name": "conda-env-sklearn_env-py"
  },
  "language_info": {
   "codemirror_mode": {
    "name": "ipython",
    "version": 3
   },
   "file_extension": ".py",
   "mimetype": "text/x-python",
   "name": "python",
   "nbconvert_exporter": "python",
   "pygments_lexer": "ipython3",
   "version": "3.13.1"
  }
 },
 "nbformat": 4,
 "nbformat_minor": 5
}
