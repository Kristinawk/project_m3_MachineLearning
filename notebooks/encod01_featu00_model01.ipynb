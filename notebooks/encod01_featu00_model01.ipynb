{
 "cells": [
  {
   "cell_type": "markdown",
   "id": "bbb0cf00",
   "metadata": {},
   "source": [
    "### _Imports_"
   ]
  },
  {
   "cell_type": "code",
   "execution_count": 44,
   "id": "f3028a4a",
   "metadata": {},
   "outputs": [],
   "source": [
    "import pandas as pd\n",
    "import numpy as np\n",
    "\n",
    "from sklearn.model_selection import train_test_split\n",
    "\n",
    "from sklearn.linear_model  import ElasticNet\n",
    "from sklearn.linear_model import Ridge\n",
    "from sklearn.svm import SVR\n",
    "from sklearn.linear_model import SGDRegressor\n",
    "from sklearn.linear_model import LinearRegression\n",
    "from sklearn.ensemble import RandomForestRegressor\n",
    "from sklearn.tree import DecisionTreeRegressor\n",
    "from sklearn.ensemble import GradientBoostingRegressor\n",
    "from sklearn.ensemble import ExtraTreesRegressor\n",
    "from sklearn.ensemble import BaggingRegressor\n",
    "from sklearn.ensemble import StackingRegressor\n",
    "from sklearn.ensemble import AdaBoostRegressor\n",
    "\n",
    "from sklearn.model_selection import GridSearchCV\n",
    "\n",
    "from sklearn.metrics import root_mean_squared_error\n",
    "from sklearn.metrics import r2_score\n",
    "from sklearn.model_selection import cross_val_score\n",
    "\n",
    "import functions as fn # importing pre-defined functions from .py file (inside notebooks folder)"
   ]
  },
  {
   "cell_type": "markdown",
   "id": "61c6127e",
   "metadata": {},
   "source": [
    "### Upload diamonds train data from csv"
   ]
  },
  {
   "cell_type": "code",
   "execution_count": 2,
   "id": "8ca836cc",
   "metadata": {},
   "outputs": [
    {
     "data": {
      "text/html": [
       "<div>\n",
       "<style scoped>\n",
       "    .dataframe tbody tr th:only-of-type {\n",
       "        vertical-align: middle;\n",
       "    }\n",
       "\n",
       "    .dataframe tbody tr th {\n",
       "        vertical-align: top;\n",
       "    }\n",
       "\n",
       "    .dataframe thead th {\n",
       "        text-align: right;\n",
       "    }\n",
       "</style>\n",
       "<table border=\"1\" class=\"dataframe\">\n",
       "  <thead>\n",
       "    <tr style=\"text-align: right;\">\n",
       "      <th></th>\n",
       "      <th>price</th>\n",
       "      <th>carat</th>\n",
       "      <th>city</th>\n",
       "      <th>depth</th>\n",
       "      <th>table</th>\n",
       "      <th>x</th>\n",
       "      <th>y</th>\n",
       "      <th>z</th>\n",
       "      <th>cut</th>\n",
       "      <th>color</th>\n",
       "      <th>clarity</th>\n",
       "    </tr>\n",
       "  </thead>\n",
       "  <tbody>\n",
       "    <tr>\n",
       "      <th>0</th>\n",
       "      <td>4268</td>\n",
       "      <td>1.21</td>\n",
       "      <td>Dubai</td>\n",
       "      <td>62.4</td>\n",
       "      <td>58.0</td>\n",
       "      <td>6.83</td>\n",
       "      <td>6.79</td>\n",
       "      <td>4.25</td>\n",
       "      <td>Premium</td>\n",
       "      <td>J</td>\n",
       "      <td>VS2</td>\n",
       "    </tr>\n",
       "    <tr>\n",
       "      <th>1</th>\n",
       "      <td>505</td>\n",
       "      <td>0.32</td>\n",
       "      <td>Kimberly</td>\n",
       "      <td>63.0</td>\n",
       "      <td>57.0</td>\n",
       "      <td>4.35</td>\n",
       "      <td>4.38</td>\n",
       "      <td>2.75</td>\n",
       "      <td>Very Good</td>\n",
       "      <td>H</td>\n",
       "      <td>VS2</td>\n",
       "    </tr>\n",
       "    <tr>\n",
       "      <th>2</th>\n",
       "      <td>2686</td>\n",
       "      <td>0.71</td>\n",
       "      <td>Las Vegas</td>\n",
       "      <td>65.5</td>\n",
       "      <td>55.0</td>\n",
       "      <td>5.62</td>\n",
       "      <td>5.53</td>\n",
       "      <td>3.65</td>\n",
       "      <td>Fair</td>\n",
       "      <td>G</td>\n",
       "      <td>VS1</td>\n",
       "    </tr>\n",
       "    <tr>\n",
       "      <th>3</th>\n",
       "      <td>738</td>\n",
       "      <td>0.41</td>\n",
       "      <td>Kimberly</td>\n",
       "      <td>63.8</td>\n",
       "      <td>56.0</td>\n",
       "      <td>4.68</td>\n",
       "      <td>4.72</td>\n",
       "      <td>3.00</td>\n",
       "      <td>Good</td>\n",
       "      <td>D</td>\n",
       "      <td>SI1</td>\n",
       "    </tr>\n",
       "    <tr>\n",
       "      <th>4</th>\n",
       "      <td>4882</td>\n",
       "      <td>1.02</td>\n",
       "      <td>Dubai</td>\n",
       "      <td>60.5</td>\n",
       "      <td>59.0</td>\n",
       "      <td>6.55</td>\n",
       "      <td>6.51</td>\n",
       "      <td>3.95</td>\n",
       "      <td>Ideal</td>\n",
       "      <td>G</td>\n",
       "      <td>SI1</td>\n",
       "    </tr>\n",
       "  </tbody>\n",
       "</table>\n",
       "</div>"
      ],
      "text/plain": [
       "   price  carat       city  depth  table     x     y     z        cut color  \\\n",
       "0   4268   1.21      Dubai   62.4   58.0  6.83  6.79  4.25    Premium     J   \n",
       "1    505   0.32   Kimberly   63.0   57.0  4.35  4.38  2.75  Very Good     H   \n",
       "2   2686   0.71  Las Vegas   65.5   55.0  5.62  5.53  3.65       Fair     G   \n",
       "3    738   0.41   Kimberly   63.8   56.0  4.68  4.72  3.00       Good     D   \n",
       "4   4882   1.02      Dubai   60.5   59.0  6.55  6.51  3.95      Ideal     G   \n",
       "\n",
       "  clarity  \n",
       "0     VS2  \n",
       "1     VS2  \n",
       "2     VS1  \n",
       "3     SI1  \n",
       "4     SI1  "
      ]
     },
     "execution_count": 2,
     "metadata": {},
     "output_type": "execute_result"
    }
   ],
   "source": [
    "diamonds_train = pd.read_csv('../data/diamonds_train.csv')\n",
    "diamonds_train.head()"
   ]
  },
  {
   "cell_type": "markdown",
   "id": "d41ef47c",
   "metadata": {},
   "source": [
    "**Remark**: For the diamonds dataset, we have conducted an exploratory data analysis (EDA) in advance. Find references [here](https://github.com/Kristinawk/EDA_Diamonds).  \n",
    "  \n",
    "This dataset doesn't have nulls, therefore we can proceed directly with encoding."
   ]
  },
  {
   "cell_type": "markdown",
   "id": "83ab5a55",
   "metadata": {},
   "source": [
    "## 1. Encoding"
   ]
  },
  {
   "cell_type": "markdown",
   "id": "5957714c",
   "metadata": {},
   "source": [
    "### Categorical variables overview"
   ]
  },
  {
   "cell_type": "code",
   "execution_count": 5,
   "id": "04d1320b",
   "metadata": {},
   "outputs": [],
   "source": [
    "cat_var_lst = [\"city\", \"cut\", \"color\", \"clarity\"]\n",
    "#cat_var_overview = fn.cat_var(diamonds_train, cat_var_lst)\n",
    "#cat_var_overview"
   ]
  },
  {
   "cell_type": "markdown",
   "id": "48a3b6be",
   "metadata": {},
   "source": [
    "### One hot encoding"
   ]
  },
  {
   "cell_type": "code",
   "execution_count": 6,
   "id": "39bf8480",
   "metadata": {},
   "outputs": [],
   "source": [
    "baseline_train = fn.one_hot_encod(diamonds_train, cat_var_lst)"
   ]
  },
  {
   "cell_type": "code",
   "execution_count": 8,
   "id": "0317b460",
   "metadata": {},
   "outputs": [],
   "source": [
    "#baseline_train.head()"
   ]
  },
  {
   "cell_type": "markdown",
   "id": "225c2bcb",
   "metadata": {},
   "source": [
    "Checking that all features are numeric"
   ]
  },
  {
   "cell_type": "code",
   "execution_count": 9,
   "id": "cac258a9",
   "metadata": {
    "scrolled": true
   },
   "outputs": [],
   "source": [
    "#baseline_train.info()"
   ]
  },
  {
   "cell_type": "markdown",
   "id": "5a6e4eaf",
   "metadata": {},
   "source": [
    "## 2. Features selection and engineering"
   ]
  },
  {
   "cell_type": "markdown",
   "id": "86ed1902",
   "metadata": {},
   "source": [
    "In this phase we will not apply any changes to the features."
   ]
  },
  {
   "cell_type": "markdown",
   "id": "8c20bc15",
   "metadata": {},
   "source": [
    "### Save pre-processing to csv"
   ]
  },
  {
   "cell_type": "code",
   "execution_count": 10,
   "id": "a360ca17",
   "metadata": {},
   "outputs": [],
   "source": [
    "#baseline_train.to_csv('../data/baseline_train.csv', index=False)"
   ]
  },
  {
   "cell_type": "markdown",
   "id": "ea9bb7ef",
   "metadata": {},
   "source": [
    "## 3. Model selection"
   ]
  },
  {
   "cell_type": "code",
   "execution_count": 11,
   "id": "096f5848",
   "metadata": {},
   "outputs": [],
   "source": [
    "y = baseline_train['price'].astype('float64').to_numpy()\n",
    "X = baseline_train[[col for col in baseline_train.columns if col != 'price']].to_numpy()"
   ]
  },
  {
   "cell_type": "code",
   "execution_count": 12,
   "id": "1225564c",
   "metadata": {},
   "outputs": [],
   "source": [
    "X_train, X_test, y_train, y_test = train_test_split(X, y, test_size = 0.2, random_state = 42)\n",
    "#print(f\"X_train: {X_train.shape}, X_test: {X_test.shape}, y_train: {y_train.shape}, y_test: {y_test.shape}\")\n",
    "#print(f\"X_train: {type(X_train)}, X_test: {type(X_test)}, y_train: {type(y_train)}, y_test: {type(y_test)}\")"
   ]
  },
  {
   "cell_type": "markdown",
   "id": "3f895350",
   "metadata": {},
   "source": [
    "## 3. a) ElasticNet"
   ]
  },
  {
   "cell_type": "code",
   "execution_count": 13,
   "id": "6d14aa5f",
   "metadata": {},
   "outputs": [
    {
     "name": "stdout",
     "output_type": "stream",
     "text": [
      "Cross val. scores: [-1833.64390701 -1937.89311616 -1838.94606472 -1834.4722746\n",
      " -1803.07991273] \n",
      "\n",
      "Mean of scores: 1849.6070550429442 \n",
      "\n"
     ]
    }
   ],
   "source": [
    "model_elasticnet = ElasticNet()\n",
    "\n",
    "fn.cross_val(model_elasticnet, X, y)"
   ]
  },
  {
   "cell_type": "markdown",
   "id": "a88585a9",
   "metadata": {},
   "source": [
    "## 3. b) SVR"
   ]
  },
  {
   "cell_type": "code",
   "execution_count": 16,
   "id": "07e46456",
   "metadata": {},
   "outputs": [
    {
     "name": "stdout",
     "output_type": "stream",
     "text": [
      "Cross val. scores: [-4208.27630307 -4349.59084525 -4258.49970513 -4225.98461454\n",
      " -4222.88255361] \n",
      "\n",
      "Mean of scores: 4253.046804323332 \n",
      "\n"
     ]
    }
   ],
   "source": [
    "model_svr = SVR()\n",
    "\n",
    "fn.cross_val(model_svr, X, y)"
   ]
  },
  {
   "cell_type": "markdown",
   "id": "571d7d8a",
   "metadata": {},
   "source": [
    "## 3. c) Ridge"
   ]
  },
  {
   "cell_type": "code",
   "execution_count": 17,
   "id": "37d060f5",
   "metadata": {},
   "outputs": [
    {
     "name": "stdout",
     "output_type": "stream",
     "text": [
      "Cross val. scores: [-1162.37097317 -1236.84771998 -1181.36659532 -1123.77678443\n",
      " -1086.81019334] \n",
      "\n",
      "Mean of scores: 1158.2344532457496 \n",
      "\n"
     ]
    }
   ],
   "source": [
    "model_ridge = Ridge()\n",
    "\n",
    "fn.cross_val(model_ridge, X, y)"
   ]
  },
  {
   "cell_type": "markdown",
   "id": "7f0eaac7",
   "metadata": {},
   "source": [
    "## 3. d) Decision Tree Regressor"
   ]
  },
  {
   "cell_type": "code",
   "execution_count": 20,
   "id": "011cf379",
   "metadata": {},
   "outputs": [
    {
     "name": "stdout",
     "output_type": "stream",
     "text": [
      "Cross val. scores: [-877.62931559 -872.70115246 -907.36536323 -858.23774212 -845.13098535] \n",
      "\n",
      "Mean of scores: 872.2129117503431 \n",
      "\n"
     ]
    }
   ],
   "source": [
    "model_decisiontree = DecisionTreeRegressor()\n",
    "\n",
    "fn.cross_val(model_decisiontree, X, y)"
   ]
  },
  {
   "cell_type": "markdown",
   "id": "767fe0ff",
   "metadata": {},
   "source": [
    "## 3. e) RandomForestRegressor"
   ]
  },
  {
   "cell_type": "code",
   "execution_count": 48,
   "id": "99f35ea6",
   "metadata": {},
   "outputs": [
    {
     "name": "stdout",
     "output_type": "stream",
     "text": [
      "Cross val. scores: [-654.95224026 -662.57559913 -670.01148258 -665.67893135 -651.56808185] \n",
      "\n",
      "Mean of scores: 660.9572670347252 \n",
      "\n"
     ]
    }
   ],
   "source": [
    "model_randomforest = RandomForestRegressor()\n",
    "\n",
    "fn.cross_val(model_randomforest, X, y)"
   ]
  },
  {
   "cell_type": "markdown",
   "id": "5206fae4",
   "metadata": {},
   "source": [
    "## 3. f) GradientBoostingRegressor"
   ]
  },
  {
   "cell_type": "code",
   "execution_count": 23,
   "id": "929fbf18",
   "metadata": {},
   "outputs": [
    {
     "name": "stdout",
     "output_type": "stream",
     "text": [
      "Cross val. scores: [-879.59064277 -856.04185565 -889.98164808 -869.74512933 -827.06412632] \n",
      "\n",
      "Mean of scores: 864.484680430803 \n",
      "\n"
     ]
    }
   ],
   "source": [
    "model_gradientboosting = GradientBoostingRegressor()\n",
    "\n",
    "fn.cross_val(model_gradientboosting, X, y)"
   ]
  },
  {
   "cell_type": "markdown",
   "id": "7ff1a6e1",
   "metadata": {},
   "source": [
    "## 3. g) ExtraTreesRegressor"
   ]
  },
  {
   "cell_type": "code",
   "execution_count": 26,
   "id": "45088c38",
   "metadata": {},
   "outputs": [
    {
     "name": "stdout",
     "output_type": "stream",
     "text": [
      "Cross val. scores: [-613.81259552 -619.0077115  -614.08969898 -620.04012503 -598.93489935] \n",
      "\n",
      "Mean of scores: 613.1770060765838 \n",
      "\n"
     ]
    }
   ],
   "source": [
    "model_extratrees = ExtraTreesRegressor()\n",
    "\n",
    "fn.cross_val(model_extratrees, X, y)"
   ]
  },
  {
   "cell_type": "markdown",
   "id": "da31501c",
   "metadata": {},
   "source": [
    "## 3. h) BaggingRegressor"
   ]
  },
  {
   "cell_type": "code",
   "execution_count": 28,
   "id": "0a36a5f6",
   "metadata": {},
   "outputs": [
    {
     "name": "stdout",
     "output_type": "stream",
     "text": [
      "Cross val. scores: [-691.21925102 -708.19306603 -713.79584737 -700.17574779 -678.97964718] \n",
      "\n",
      "Mean of scores: 698.4727118796867 \n",
      "\n"
     ]
    }
   ],
   "source": [
    "model_bagging = BaggingRegressor()\n",
    "\n",
    "fn.cross_val(model_bagging, X, y)"
   ]
  },
  {
   "cell_type": "markdown",
   "id": "46388171",
   "metadata": {},
   "source": [
    "## 3. i) StackingRegressor"
   ]
  },
  {
   "cell_type": "code",
   "execution_count": 71,
   "id": "b4e89830",
   "metadata": {},
   "outputs": [],
   "source": [
    "# Define base models\n",
    "base_learners = [\n",
    "    ('rf', RandomForestRegressor(n_estimators=200, \n",
    "                                 max_depth=None,\n",
    "                                 min_samples_split=2,\n",
    "                                 min_samples_leaf=1,\n",
    "                                 max_features=None)),\n",
    "    ('gb', GradientBoostingRegressor(n_estimators=100)),\n",
    "    ('lr', ExtraTreesRegressor(n_estimators=100,\n",
    "                                max_depth=None,\n",
    "                                min_samples_split=6,\n",
    "                                min_samples_leaf=2,\n",
    "                                max_features=None))\n",
    "]\n",
    "\n",
    "# Define meta-model (Ridge regression)\n",
    "meta_model = Ridge()\n"
   ]
  },
  {
   "cell_type": "code",
   "execution_count": 72,
   "id": "408d0be7",
   "metadata": {},
   "outputs": [],
   "source": [
    "# Create the Stacking Regressor\n",
    "stacking_regressor = StackingRegressor(estimators=base_learners, final_estimator=meta_model)"
   ]
  },
  {
   "cell_type": "code",
   "execution_count": 73,
   "id": "d95473eb",
   "metadata": {},
   "outputs": [
    {
     "name": "stdout",
     "output_type": "stream",
     "text": [
      "Cross val. scores: [-607.8681021  -609.29158779 -606.36620059 -611.78507187 -595.76157962] \n",
      "\n",
      "Mean of scores: 606.2145083949684 \n",
      "\n"
     ]
    }
   ],
   "source": [
    "fn.cross_val(stacking_regressor, X, y)"
   ]
  },
  {
   "cell_type": "markdown",
   "id": "10fd7094",
   "metadata": {},
   "source": [
    "## 3. j) AdaBoostRegressor"
   ]
  },
  {
   "cell_type": "code",
   "execution_count": 31,
   "id": "116d0b68",
   "metadata": {},
   "outputs": [
    {
     "name": "stdout",
     "output_type": "stream",
     "text": [
      "Cross val. scores: [-1599.44833947 -1511.38562057 -1520.56161739 -1555.29603015\n",
      " -1547.01533228] \n",
      "\n",
      "Mean of scores: 1546.7413879698531 \n",
      "\n"
     ]
    }
   ],
   "source": [
    "model_adaboost = AdaBoostRegressor()\n",
    "\n",
    "fn.cross_val(model_adaboost, X, y)"
   ]
  },
  {
   "cell_type": "markdown",
   "id": "929f1b6a",
   "metadata": {},
   "source": [
    "**CONCLUSION**: at this stage the two models that perform the best are RandomForestRegressor and ExtraTreesRegressor. We can improve these models with grid search."
   ]
  },
  {
   "cell_type": "markdown",
   "id": "5a5ec2c9",
   "metadata": {},
   "source": [
    "### Grid Search: RandomForestRegressor"
   ]
  },
  {
   "cell_type": "code",
   "execution_count": 45,
   "id": "61e38197",
   "metadata": {},
   "outputs": [],
   "source": [
    "param_grid = {'n_estimators': [100, 200, 300],  # Number of trees in the forest.\n",
    "              'max_depth': [None, 3, 10],  # Maximum depth of the trees.\n",
    "              'min_samples_split': [2, 10],  # Minimum number of samples required to split an internal node.\n",
    "              'min_samples_leaf': [1, 4],  # Minimum number of samples required to be at a leaf node.\n",
    "              'max_features': [None, 'sqrt', 'log2']  # Number of features to consider when looking for the best split.\n",
    "              }"
   ]
  },
  {
   "cell_type": "code",
   "execution_count": 49,
   "id": "a07cdf2f",
   "metadata": {},
   "outputs": [],
   "source": [
    "grid_search = GridSearchCV(model_randomforest,\n",
    "                           param_grid,\n",
    "                           cv=5,\n",
    "                           verbose=3,\n",
    "                           scoring='neg_root_mean_squared_error',\n",
    "                           n_jobs=-1)"
   ]
  },
  {
   "cell_type": "code",
   "execution_count": 50,
   "id": "1b3af75d",
   "metadata": {},
   "outputs": [
    {
     "name": "stdout",
     "output_type": "stream",
     "text": [
      "Fitting 5 folds for each of 108 candidates, totalling 540 fits\n",
      "Best hyperparameters:  {'max_depth': None, 'max_features': None, 'min_samples_leaf': 1, 'min_samples_split': 2, 'n_estimators': 200} \n",
      "\n",
      "Best score:  659.2117645213639 \n",
      "\n"
     ]
    }
   ],
   "source": [
    "grid_search.fit(X, y)\n",
    "\n",
    "print('\\n')\n",
    "print('Best hyperparameters: ', grid_search.best_params_, '\\n')\n",
    "print('Best score: ', -grid_search.best_score_, '\\n')"
   ]
  },
  {
   "cell_type": "markdown",
   "id": "aa20cf27",
   "metadata": {},
   "source": [
    "### Grid Search: ExtraTreesRegressor"
   ]
  },
  {
   "cell_type": "code",
   "execution_count": 62,
   "id": "e3738d27",
   "metadata": {},
   "outputs": [],
   "source": [
    "param_grid = {'n_estimators': [100],  # Number of trees in the forest.\n",
    "              'max_depth': [None],  # Maximum depth of the trees.\n",
    "              'min_samples_split': [6],  # Minimum number of samples required to split an internal node.\n",
    "              'min_samples_leaf': [2],  # Minimum number of samples required to be at a leaf node.\n",
    "              'max_features': [None]  # Number of features to consider when looking for the best split.\n",
    "              }"
   ]
  },
  {
   "cell_type": "code",
   "execution_count": 63,
   "id": "9e2f7eae",
   "metadata": {},
   "outputs": [],
   "source": [
    "grid_search = GridSearchCV(model_extratrees,\n",
    "                           param_grid,\n",
    "                           cv=5,\n",
    "                           verbose=3,\n",
    "                           scoring='neg_root_mean_squared_error',\n",
    "                           n_jobs=-1)"
   ]
  },
  {
   "cell_type": "code",
   "execution_count": 64,
   "id": "b9c02ea3",
   "metadata": {},
   "outputs": [
    {
     "name": "stdout",
     "output_type": "stream",
     "text": [
      "Fitting 5 folds for each of 4 candidates, totalling 20 fits\n",
      "\n",
      "\n",
      "Best hyperparameters:  {'max_depth': None, 'max_features': None, 'min_samples_leaf': 2, 'min_samples_split': 6, 'n_estimators': 100} \n",
      "\n",
      "Best score:  606.4497365477694 \n",
      "\n"
     ]
    }
   ],
   "source": [
    "grid_search.fit(X, y)\n",
    "\n",
    "print('\\n')\n",
    "print('Best hyperparameters: ', grid_search.best_params_, '\\n')\n",
    "print('Best score: ', -grid_search.best_score_, '\\n')"
   ]
  },
  {
   "cell_type": "markdown",
   "id": "f0903a09",
   "metadata": {},
   "source": [
    "### Fit Model"
   ]
  },
  {
   "cell_type": "code",
   "execution_count": 74,
   "id": "76a8c562",
   "metadata": {},
   "outputs": [],
   "source": [
    "stacking_regressor.fit(X_train, y_train)\n",
    "y_pred = stacking_regressor.predict(X_test)"
   ]
  },
  {
   "cell_type": "markdown",
   "id": "e76da3e1",
   "metadata": {},
   "source": [
    "### Visual check"
   ]
  },
  {
   "cell_type": "code",
   "execution_count": 75,
   "id": "6bdcaaac",
   "metadata": {},
   "outputs": [
    {
     "data": {
      "text/html": [
       "<div>\n",
       "<style scoped>\n",
       "    .dataframe tbody tr th:only-of-type {\n",
       "        vertical-align: middle;\n",
       "    }\n",
       "\n",
       "    .dataframe tbody tr th {\n",
       "        vertical-align: top;\n",
       "    }\n",
       "\n",
       "    .dataframe thead th {\n",
       "        text-align: right;\n",
       "    }\n",
       "</style>\n",
       "<table border=\"1\" class=\"dataframe\">\n",
       "  <thead>\n",
       "    <tr style=\"text-align: right;\">\n",
       "      <th></th>\n",
       "      <th>Ground truth</th>\n",
       "      <th>Predictions</th>\n",
       "      <th>Diff</th>\n",
       "    </tr>\n",
       "  </thead>\n",
       "  <tbody>\n",
       "    <tr>\n",
       "      <th>0</th>\n",
       "      <td>2970.0</td>\n",
       "      <td>2742.281312</td>\n",
       "      <td>227.718688</td>\n",
       "    </tr>\n",
       "    <tr>\n",
       "      <th>1</th>\n",
       "      <td>3004.0</td>\n",
       "      <td>2339.946989</td>\n",
       "      <td>664.053011</td>\n",
       "    </tr>\n",
       "    <tr>\n",
       "      <th>2</th>\n",
       "      <td>838.0</td>\n",
       "      <td>882.293572</td>\n",
       "      <td>-44.293572</td>\n",
       "    </tr>\n",
       "    <tr>\n",
       "      <th>3</th>\n",
       "      <td>6468.0</td>\n",
       "      <td>6333.090583</td>\n",
       "      <td>134.909417</td>\n",
       "    </tr>\n",
       "    <tr>\n",
       "      <th>4</th>\n",
       "      <td>633.0</td>\n",
       "      <td>623.286763</td>\n",
       "      <td>9.713237</td>\n",
       "    </tr>\n",
       "    <tr>\n",
       "      <th>...</th>\n",
       "      <td>...</td>\n",
       "      <td>...</td>\n",
       "      <td>...</td>\n",
       "    </tr>\n",
       "    <tr>\n",
       "      <th>8086</th>\n",
       "      <td>4764.0</td>\n",
       "      <td>4926.863456</td>\n",
       "      <td>-162.863456</td>\n",
       "    </tr>\n",
       "    <tr>\n",
       "      <th>8087</th>\n",
       "      <td>756.0</td>\n",
       "      <td>717.777113</td>\n",
       "      <td>38.222887</td>\n",
       "    </tr>\n",
       "    <tr>\n",
       "      <th>8088</th>\n",
       "      <td>2690.0</td>\n",
       "      <td>3065.981424</td>\n",
       "      <td>-375.981424</td>\n",
       "    </tr>\n",
       "    <tr>\n",
       "      <th>8089</th>\n",
       "      <td>3992.0</td>\n",
       "      <td>4050.810227</td>\n",
       "      <td>-58.810227</td>\n",
       "    </tr>\n",
       "    <tr>\n",
       "      <th>8090</th>\n",
       "      <td>6629.0</td>\n",
       "      <td>7879.290678</td>\n",
       "      <td>-1250.290678</td>\n",
       "    </tr>\n",
       "  </tbody>\n",
       "</table>\n",
       "<p>8091 rows × 3 columns</p>\n",
       "</div>"
      ],
      "text/plain": [
       "      Ground truth  Predictions         Diff\n",
       "0           2970.0  2742.281312   227.718688\n",
       "1           3004.0  2339.946989   664.053011\n",
       "2            838.0   882.293572   -44.293572\n",
       "3           6468.0  6333.090583   134.909417\n",
       "4            633.0   623.286763     9.713237\n",
       "...            ...          ...          ...\n",
       "8086        4764.0  4926.863456  -162.863456\n",
       "8087         756.0   717.777113    38.222887\n",
       "8088        2690.0  3065.981424  -375.981424\n",
       "8089        3992.0  4050.810227   -58.810227\n",
       "8090        6629.0  7879.290678 -1250.290678\n",
       "\n",
       "[8091 rows x 3 columns]"
      ]
     },
     "execution_count": 75,
     "metadata": {},
     "output_type": "execute_result"
    }
   ],
   "source": [
    "check = pd.DataFrame({'Ground truth': y_test, 'Predictions': y_pred, 'Diff': y_test - y_pred})\n",
    "check"
   ]
  },
  {
   "cell_type": "code",
   "execution_count": 76,
   "id": "33704380",
   "metadata": {},
   "outputs": [],
   "source": [
    "check.reset_index(inplace=True)"
   ]
  },
  {
   "cell_type": "code",
   "execution_count": 77,
   "id": "b88c9571",
   "metadata": {},
   "outputs": [
    {
     "data": {
      "image/png": "[encoded data removed]",
      "text/plain": [
       "<Figure size 1200x300 with 1 Axes>"
      ]
     },
     "metadata": {},
     "output_type": "display_data"
    }
   ],
   "source": [
    "check.plot(x='index', y=['Ground truth', 'Predictions'], kind='line', figsize=(12, 3));"
   ]
  },
  {
   "cell_type": "markdown",
   "id": "e95a0d01",
   "metadata": {},
   "source": [
    "# 4. Predictions"
   ]
  },
  {
   "cell_type": "markdown",
   "id": "d5b3cffc",
   "metadata": {},
   "source": [
    "### Upload diamonds test data from csv"
   ]
  },
  {
   "cell_type": "code",
   "execution_count": 78,
   "id": "b0933b91",
   "metadata": {},
   "outputs": [],
   "source": [
    "diamonds_test = pd.read_csv('../data/diamonds_test.csv')\n",
    "#diamonds_test.head()"
   ]
  },
  {
   "cell_type": "markdown",
   "id": "cd4beed2",
   "metadata": {},
   "source": [
    "### One-hot-encoding"
   ]
  },
  {
   "cell_type": "code",
   "execution_count": 79,
   "id": "3381dea2",
   "metadata": {},
   "outputs": [],
   "source": [
    "baseline_test = fn.one_hot_encod(diamonds_test, cat_var_lst)"
   ]
  },
  {
   "cell_type": "code",
   "execution_count": 80,
   "id": "eff64cac",
   "metadata": {},
   "outputs": [],
   "source": [
    "baseline_test = baseline_test.drop('id', axis=1)"
   ]
  },
  {
   "cell_type": "code",
   "execution_count": 81,
   "id": "1198496c",
   "metadata": {},
   "outputs": [],
   "source": [
    "#baseline_test.head()"
   ]
  },
  {
   "cell_type": "markdown",
   "id": "d06c6ff0",
   "metadata": {},
   "source": [
    "### Predict: ExtraTreesRegressor"
   ]
  },
  {
   "cell_type": "code",
   "execution_count": 82,
   "id": "357e7ac2",
   "metadata": {},
   "outputs": [
    {
     "name": "stderr",
     "output_type": "stream",
     "text": [
      "C:\\Users\\Kristina\\miniconda3\\envs\\sklearn_env\\Lib\\site-packages\\sklearn\\utils\\validation.py:2732: UserWarning: X has feature names, but RandomForestRegressor was fitted without feature names\n",
      "  warnings.warn(\n",
      "C:\\Users\\Kristina\\miniconda3\\envs\\sklearn_env\\Lib\\site-packages\\sklearn\\utils\\validation.py:2732: UserWarning: X has feature names, but GradientBoostingRegressor was fitted without feature names\n",
      "  warnings.warn(\n",
      "C:\\Users\\Kristina\\miniconda3\\envs\\sklearn_env\\Lib\\site-packages\\sklearn\\utils\\validation.py:2732: UserWarning: X has feature names, but ExtraTreesRegressor was fitted without feature names\n",
      "  warnings.warn(\n"
     ]
    }
   ],
   "source": [
    "stacking_regressor_pred = stacking_regressor.predict(baseline_test)"
   ]
  },
  {
   "cell_type": "code",
   "execution_count": 83,
   "id": "481ce344",
   "metadata": {},
   "outputs": [
    {
     "data": {
      "text/plain": [
       "array([2961.79989822, 5375.9453257 , 9387.03910327, ..., 2969.58015677,\n",
       "       2169.23680917,  838.07348773])"
      ]
     },
     "execution_count": 83,
     "metadata": {},
     "output_type": "execute_result"
    }
   ],
   "source": [
    "stacking_regressor_pred"
   ]
  },
  {
   "cell_type": "markdown",
   "id": "7d4f0092",
   "metadata": {},
   "source": [
    "### Save"
   ]
  },
  {
   "cell_type": "code",
   "execution_count": 84,
   "id": "61b4b8e0",
   "metadata": {},
   "outputs": [
    {
     "data": {
      "text/plain": [
       "'file saved succesfully'"
      ]
     },
     "execution_count": 84,
     "metadata": {},
     "output_type": "execute_result"
    }
   ],
   "source": [
    "fn.save_pred(diamonds_test, stacking_regressor_pred, 'encod01_featu00_model01_vis')"
   ]
  },
  {
   "cell_type": "code",
   "execution_count": null,
   "id": "912762c7",
   "metadata": {},
   "outputs": [],
   "source": []
  }
 ],
 "metadata": {
  "kernelspec": {
   "display_name": "Python [conda env:sklearn_env]",
   "language": "python",
   "name": "conda-env-sklearn_env-py"
  },
  "language_info": {
   "codemirror_mode": {
    "name": "ipython",
    "version": 3
   },
   "file_extension": ".py",
   "mimetype": "text/x-python",
   "name": "python",
   "nbconvert_exporter": "python",
   "pygments_lexer": "ipython3",
   "version": "3.13.1"
  }
 },
 "nbformat": 4,
 "nbformat_minor": 5
}
